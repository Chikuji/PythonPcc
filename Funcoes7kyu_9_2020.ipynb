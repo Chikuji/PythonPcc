{
  "nbformat": 4,
  "nbformat_minor": 0,
  "metadata": {
    "colab": {
      "name": "Funcoes7kyu_9_2020.ipynb",
      "provenance": [],
      "authorship_tag": "ABX9TyNkZuQmCLoylLUv1dGJwc28",
      "include_colab_link": true
    },
    "kernelspec": {
      "name": "python3",
      "display_name": "Python 3"
    }
  },
  "cells": [
    {
      "cell_type": "markdown",
      "metadata": {
        "id": "view-in-github",
        "colab_type": "text"
      },
      "source": [
        "<a href=\"https://colab.research.google.com/github/Chikuji/PythonPcc/blob/master/Funcoes7kyu_9_2020.ipynb\" target=\"_parent\"><img src=\"https://colab.research.google.com/assets/colab-badge.svg\" alt=\"Open In Colab\"/></a>"
      ]
    },
    {
      "cell_type": "code",
      "metadata": {
        "id": "R1wqW6BylEeh",
        "colab_type": "code",
        "colab": {}
      },
      "source": [
        "# Função recebe valor e array de apostas para retornar ganho final\n",
        "\n",
        "def martingale(bank, out):\n",
        "    gain=100\n",
        "\n",
        "    for x in range(len(out)):\n",
        "      if out[x]==0:\n",
        "        bank=bank-gain\n",
        "        gain=gain*2\n",
        "      elif out[x]==1:\n",
        "        bank=bank+gain\n",
        "        gain=100\n",
        "    return bank"
      ],
      "execution_count": 33,
      "outputs": []
    },
    {
      "cell_type": "code",
      "metadata": {
        "id": "ONjetp7Qn5qC",
        "colab_type": "code",
        "colab": {
          "base_uri": "https://localhost:8080/",
          "height": 34
        },
        "outputId": "b48c71e8-d0ed-40f2-cc8d-8772c79e6e92"
      },
      "source": [
        "martingale(0, (0, 0, 0, 0, 1, 0, 0))"
      ],
      "execution_count": 34,
      "outputs": [
        {
          "output_type": "execute_result",
          "data": {
            "text/plain": [
              "-200"
            ]
          },
          "metadata": {
            "tags": []
          },
          "execution_count": 34
        }
      ]
    },
    {
      "cell_type": "code",
      "metadata": {
        "id": "We5HZhYZocC0",
        "colab_type": "code",
        "colab": {
          "base_uri": "https://localhost:8080/",
          "height": 52
        },
        "outputId": "55e578d9-8c66-4320-9660-4527d4beac3a"
      },
      "source": [
        "def solve(eq):\n",
        "    leq = (eq.replace('*', ' * ')\n",
        "             .replace('/', ' / ')\n",
        "             .replace('+', ' + ')\n",
        "             .replace('-', ' - ')\n",
        "             .split(' ')) \n",
        "    print(leq)\n",
        "\n",
        "    out = ''.join(leq[::-1])\n",
        "\n",
        "    return out\n",
        "solve(\"100*b/y\")"
      ],
      "execution_count": 38,
      "outputs": [
        {
          "output_type": "stream",
          "text": [
            "['100', '*', 'b', '/', 'y']\n"
          ],
          "name": "stdout"
        },
        {
          "output_type": "execute_result",
          "data": {
            "application/vnd.google.colaboratory.intrinsic+json": {
              "type": "string"
            },
            "text/plain": [
              "'y/b*100'"
            ]
          },
          "metadata": {
            "tags": []
          },
          "execution_count": 38
        }
      ]
    },
    {
      "cell_type": "code",
      "metadata": {
        "id": "h1eLzRg_tLmP",
        "colab_type": "code",
        "colab": {}
      },
      "source": [
        ""
      ],
      "execution_count": null,
      "outputs": []
    }
  ]
}