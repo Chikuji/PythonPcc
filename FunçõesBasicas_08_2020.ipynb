{
  "nbformat": 4,
  "nbformat_minor": 0,
  "metadata": {
    "colab": {
      "name": "FunçõesBasicas_08_2020.ipynb",
      "provenance": [],
      "authorship_tag": "ABX9TyMkMVbcP2w9C3lNKxS63bWU",
      "include_colab_link": true
    },
    "kernelspec": {
      "name": "python3",
      "display_name": "Python 3"
    }
  },
  "cells": [
    {
      "cell_type": "markdown",
      "metadata": {
        "id": "view-in-github",
        "colab_type": "text"
      },
      "source": [
        "<a href=\"https://colab.research.google.com/github/Chikuji/PythonPcc/blob/master/Fun%C3%A7%C3%B5esBasicas_08_2020.ipynb\" target=\"_parent\"><img src=\"https://colab.research.google.com/assets/colab-badge.svg\" alt=\"Open In Colab\"/></a>"
      ]
    },
    {
      "cell_type": "code",
      "metadata": {
        "id": "N0JQ67Qerb3l",
        "colab_type": "code",
        "colab": {
          "base_uri": "https://localhost:8080/",
          "height": 36
        },
        "outputId": "9e3fcd02-ad09-4e9f-dae3-3143d7370e7e"
      },
      "source": [
        "#Função hello world\n",
        "\n",
        "def greet():\n",
        "    return \"hello world!\"\n",
        "\n",
        "greet()"
      ],
      "execution_count": null,
      "outputs": [
        {
          "output_type": "execute_result",
          "data": {
            "application/vnd.google.colaboratory.intrinsic+json": {
              "type": "string"
            },
            "text/plain": [
              "'hello world!'"
            ]
          },
          "metadata": {
            "tags": []
          },
          "execution_count": 3
        }
      ]
    },
    {
      "cell_type": "code",
      "metadata": {
        "id": "RluedbrQsuGw",
        "colab_type": "code",
        "colab": {}
      },
      "source": [
        "#Função retorna a quarter of month\n",
        "def quarter(month):\n",
        "  if month/12 <=0.25:\n",
        "    return 1\n",
        "  elif month/12 <=0.5:\n",
        "    return 2\n",
        "  elif month/12<=0.75:\n",
        "    return 3\n",
        "  else:\n",
        "    return 4"
      ],
      "execution_count": null,
      "outputs": []
    },
    {
      "cell_type": "code",
      "metadata": {
        "id": "bp_3hs07t8lb",
        "colab_type": "code",
        "colab": {
          "base_uri": "https://localhost:8080/",
          "height": 35
        },
        "outputId": "c83557df-e92f-458f-fc78-3c0f85241c14"
      },
      "source": [
        "quarter(7)"
      ],
      "execution_count": null,
      "outputs": [
        {
          "output_type": "execute_result",
          "data": {
            "text/plain": [
              "3"
            ]
          },
          "metadata": {
            "tags": []
          },
          "execution_count": 8
        }
      ]
    },
    {
      "cell_type": "code",
      "metadata": {
        "id": "OGVsPrK0uNJ5",
        "colab_type": "code",
        "colab": {
          "base_uri": "https://localhost:8080/",
          "height": 35
        },
        "outputId": "b9da1335-41a2-4c3b-96d3-a1a3b9451af5"
      },
      "source": [
        "def quarter_of(m):\n",
        "  return (m+2)//3\n",
        "\n",
        "quarter_of(7)"
      ],
      "execution_count": null,
      "outputs": [
        {
          "output_type": "execute_result",
          "data": {
            "text/plain": [
              "3"
            ]
          },
          "metadata": {
            "tags": []
          },
          "execution_count": 10
        }
      ]
    },
    {
      "cell_type": "code",
      "metadata": {
        "id": "VQ2u8liaupdk",
        "colab_type": "code",
        "colab": {
          "base_uri": "https://localhost:8080/",
          "height": 35
        },
        "outputId": "c40cefc7-e448-4be1-9262-5c40ea3ba566"
      },
      "source": [
        "#Função retorna numeros multiplos\n",
        "def multiplos(inicio,limite):\n",
        "  return list(range(inicio,limite+1,inicio))\n",
        "multiplos(5,25)"
      ],
      "execution_count": null,
      "outputs": [
        {
          "output_type": "execute_result",
          "data": {
            "text/plain": [
              "[5, 10, 15, 20, 25]"
            ]
          },
          "metadata": {
            "tags": []
          },
          "execution_count": 11
        }
      ]
    },
    {
      "cell_type": "code",
      "metadata": {
        "id": "VERzjBUfvYH0",
        "colab_type": "code",
        "colab": {
          "base_uri": "https://localhost:8080/",
          "height": 35
        },
        "outputId": "a24fa171-34f3-4ff5-b95a-2db8b861d496"
      },
      "source": [
        "#Função retorna o calculo de uma prova\n",
        "def exam(arr1,arr2):\n",
        "  score=0\n",
        "  for i in range(4):\n",
        "    if arr1[i]==arr2[i]:\n",
        "      score=score+4\n",
        "    elif arr2[i]==\"\":\n",
        "      score=score+0\n",
        "    else:\n",
        "      score=score-1\n",
        "  if score<0:\n",
        "    score=0\n",
        "  return score\n",
        "\n",
        "exam([\"a\",\"b\",\"c\",\"d\"],[\"d\",\"b\",\"\",\"d\"])"
      ],
      "execution_count": null,
      "outputs": [
        {
          "output_type": "execute_result",
          "data": {
            "text/plain": [
              "7"
            ]
          },
          "metadata": {
            "tags": []
          },
          "execution_count": 20
        }
      ]
    },
    {
      "cell_type": "code",
      "metadata": {
        "id": "REXDuwFgwVxV",
        "colab_type": "code",
        "colab": {
          "base_uri": "https://localhost:8080/",
          "height": 35
        },
        "outputId": "91c32a31-9808-48af-edc5-0c20972e2fd1"
      },
      "source": [
        "def check_exam(arr1,arr2):\n",
        "  return max(0,sum(4 if a==b else -1 for a,b in zip(arr1,arr2)if b))\n",
        "check_exam([\"a\",\"b\",\"c\",\"d\"],[\"d\",\"b\",\"\",\"d\"])\n"
      ],
      "execution_count": null,
      "outputs": [
        {
          "output_type": "execute_result",
          "data": {
            "text/plain": [
              "7"
            ]
          },
          "metadata": {
            "tags": []
          },
          "execution_count": 22
        }
      ]
    },
    {
      "cell_type": "code",
      "metadata": {
        "id": "fUMAS0Yezp9t",
        "colab_type": "code",
        "colab": {
          "base_uri": "https://localhost:8080/",
          "height": 35
        },
        "outputId": "b0780e88-aa95-4215-dba0-a253ba8a6063"
      },
      "source": [
        "#Função retorna true se n for divisivel por x e y\n",
        "\n",
        "def divisivel(n,x,y):\n",
        "  return bool(n%x==0 and n%y==0)\n",
        "\n",
        "divisivel(3,1,3)\n"
      ],
      "execution_count": null,
      "outputs": [
        {
          "output_type": "execute_result",
          "data": {
            "text/plain": [
              "True"
            ]
          },
          "metadata": {
            "tags": []
          },
          "execution_count": 23
        }
      ]
    },
    {
      "cell_type": "code",
      "metadata": {
        "id": "KvJX_qES0vOY",
        "colab_type": "code",
        "colab": {
          "base_uri": "https://localhost:8080/",
          "height": 35
        },
        "outputId": "5ce7b028-ab62-4b53-f96b-c933474a29a6"
      },
      "source": [
        "divisivel(12,3,4)"
      ],
      "execution_count": null,
      "outputs": [
        {
          "output_type": "execute_result",
          "data": {
            "text/plain": [
              "True"
            ]
          },
          "metadata": {
            "tags": []
          },
          "execution_count": 24
        }
      ]
    },
    {
      "cell_type": "code",
      "metadata": {
        "id": "gHgjsKh80yOC",
        "colab_type": "code",
        "colab": {
          "base_uri": "https://localhost:8080/",
          "height": 36
        },
        "outputId": "825ae677-f7ab-4b73-c6c9-cb6662b63a81"
      },
      "source": [
        "#Função que retorna a primeira letra upper\n",
        "\n",
        "def upWord(word):\n",
        "  return word.capitalize()\n",
        "\n",
        "upWord(\"FeLiPE\")"
      ],
      "execution_count": null,
      "outputs": [
        {
          "output_type": "execute_result",
          "data": {
            "application/vnd.google.colaboratory.intrinsic+json": {
              "type": "string"
            },
            "text/plain": [
              "'Felipe'"
            ]
          },
          "metadata": {
            "tags": []
          },
          "execution_count": 27
        }
      ]
    },
    {
      "cell_type": "code",
      "metadata": {
        "id": "AzlWB0ms1JzP",
        "colab_type": "code",
        "colab": {
          "base_uri": "https://localhost:8080/",
          "height": 35
        },
        "outputId": "61aa5073-9137-47e5-ca43-0bc73bb03b23"
      },
      "source": [
        "#Função recebe km/h e retorna cm/s\n",
        "\n",
        "def cm_speed(s):\n",
        "  return round(((s/3.6*100)-0.5),0)\n",
        "\n",
        "cm_speed(1.08)"
      ],
      "execution_count": null,
      "outputs": [
        {
          "output_type": "execute_result",
          "data": {
            "text/plain": [
              "30.0"
            ]
          },
          "metadata": {
            "tags": []
          },
          "execution_count": 28
        }
      ]
    },
    {
      "cell_type": "code",
      "metadata": {
        "id": "bzLuP_mc7WQB",
        "colab_type": "code",
        "colab": {
          "base_uri": "https://localhost:8080/",
          "height": 35
        },
        "outputId": "fdbe72c6-cbb3-4269-99c2-d8b933f565f1"
      },
      "source": [
        "def cm_speed(s):\n",
        "  return s // 0.036\n",
        "cm_speed(2.5894)"
      ],
      "execution_count": null,
      "outputs": [
        {
          "output_type": "execute_result",
          "data": {
            "text/plain": [
              "71.0"
            ]
          },
          "metadata": {
            "tags": []
          },
          "execution_count": 34
        }
      ]
    },
    {
      "cell_type": "code",
      "metadata": {
        "id": "5QTDi-JW6TFU",
        "colab_type": "code",
        "colab": {
          "base_uri": "https://localhost:8080/",
          "height": 35
        },
        "outputId": "259027c3-359d-4440-ad17-fd57596749da"
      },
      "source": [
        "cm_speed = lambda s: (s//0.036)\n",
        "\n",
        "cm_speed(1.09)"
      ],
      "execution_count": null,
      "outputs": [
        {
          "output_type": "execute_result",
          "data": {
            "text/plain": [
              "30.0"
            ]
          },
          "metadata": {
            "tags": []
          },
          "execution_count": 31
        }
      ]
    },
    {
      "cell_type": "code",
      "metadata": {
        "id": "sN9fLCLI7RHO",
        "colab_type": "code",
        "colab": {
          "base_uri": "https://localhost:8080/",
          "height": 36
        },
        "outputId": "badfa7e2-4a11-45dd-e2d7-fbd162268bf8"
      },
      "source": [
        "#Função que repete uma string\n",
        "\n",
        "def repeat(repeat,string):\n",
        "  return string * repeat\n",
        "\n",
        "repeat(4,\"hello \")"
      ],
      "execution_count": null,
      "outputs": [
        {
          "output_type": "execute_result",
          "data": {
            "application/vnd.google.colaboratory.intrinsic+json": {
              "type": "string"
            },
            "text/plain": [
              "'hello hello hello hello '"
            ]
          },
          "metadata": {
            "tags": []
          },
          "execution_count": 36
        }
      ]
    },
    {
      "cell_type": "code",
      "metadata": {
        "id": "RwF4hoe79Kts",
        "colab_type": "code",
        "colab": {
          "base_uri": "https://localhost:8080/",
          "height": 36
        },
        "outputId": "420d1222-4c1c-4d6a-c3c0-71b6f1bc6edb"
      },
      "source": [
        "#Função retorna float ou None\n",
        "\n",
        "def parse_float(num):\n",
        "  try:\n",
        "    return float(num)\n",
        "  except:\n",
        "    return \"None\"\n",
        "parse_float(\"fe\")"
      ],
      "execution_count": null,
      "outputs": [
        {
          "output_type": "execute_result",
          "data": {
            "application/vnd.google.colaboratory.intrinsic+json": {
              "type": "string"
            },
            "text/plain": [
              "'None'"
            ]
          },
          "metadata": {
            "tags": []
          },
          "execution_count": 58
        }
      ]
    },
    {
      "cell_type": "code",
      "metadata": {
        "id": "XCyMkn6tTo3c",
        "colab_type": "code",
        "colab": {
          "base_uri": "https://localhost:8080/",
          "height": 36
        },
        "outputId": "2b4f7a1a-2994-4876-cb61-e59455386870"
      },
      "source": [
        "#Função que cumprimenta as pessoas que chegam a Enterprise\n",
        "def enterprise(name):\n",
        "  return \"Hello, \"+ name\n",
        "\n",
        "enterprise(\"Mr. Spock\")"
      ],
      "execution_count": null,
      "outputs": [
        {
          "output_type": "execute_result",
          "data": {
            "application/vnd.google.colaboratory.intrinsic+json": {
              "type": "string"
            },
            "text/plain": [
              "'Hello, Mr. Spock'"
            ]
          },
          "metadata": {
            "tags": []
          },
          "execution_count": 68
        }
      ]
    },
    {
      "cell_type": "code",
      "metadata": {
        "id": "A1I9an-NVoZU",
        "colab_type": "code",
        "colab": {
          "base_uri": "https://localhost:8080/",
          "height": 109
        },
        "outputId": "7f6b97ba-5e93-4d59-f3a1-91af0ba6bb39"
      },
      "source": [
        "names = ['Mr. Spock','Captain Kirk','Liutenant Uhura','Dr. McCoy','Mr. Scott']\n",
        "\n",
        "for i in range(len(names)):\n",
        "  print(enterprise(names[i]))"
      ],
      "execution_count": null,
      "outputs": [
        {
          "output_type": "stream",
          "text": [
            "Hello, Mr. Spock\n",
            "Hello, Captain Kirk\n",
            "Hello, Liutenant Uhura\n",
            "Hello, Dr. McCoy\n",
            "Hello, Mr. Scott\n"
          ],
          "name": "stdout"
        }
      ]
    },
    {
      "cell_type": "code",
      "metadata": {
        "id": "v6eFV5H1Y-yr",
        "colab_type": "code",
        "colab": {}
      },
      "source": [
        "say_hello =  lambda names:\"Olá, {}\".format(names)"
      ],
      "execution_count": null,
      "outputs": []
    },
    {
      "cell_type": "code",
      "metadata": {
        "id": "L6ozXjJsYVCZ",
        "colab_type": "code",
        "colab": {
          "base_uri": "https://localhost:8080/",
          "height": 109
        },
        "outputId": "70fa21a7-215b-4fc9-bc94-be9216be9a85"
      },
      "source": [
        "for i in range(len(names)):\n",
        "  print(say_hello(names[i]))"
      ],
      "execution_count": null,
      "outputs": [
        {
          "output_type": "stream",
          "text": [
            "Olá, Mr. Spock\n",
            "Olá, Captain Kirk\n",
            "Olá, Liutenant Uhura\n",
            "Olá, Dr. McCoy\n",
            "Olá, Mr. Scott\n"
          ],
          "name": "stdout"
        }
      ]
    },
    {
      "cell_type": "code",
      "metadata": {
        "id": "8_yt6YidZU8x",
        "colab_type": "code",
        "colab": {}
      },
      "source": [
        "# Função transforma Farenheit to Celsius\n",
        "\n",
        "def weather_info (temp):\n",
        "    c = convert(temp)\n",
        "    if (c > 0):\n",
        "        return (str(c) +\" is above freezing temperature\")\n",
        "    else:\n",
        "        return (str(c) + \" is freezing temperature\")\n",
        "    \n",
        "def convert(temperatur):\n",
        "  celsius = (temperatur - 32) * (5/9)\n",
        "  return celsius"
      ],
      "execution_count": null,
      "outputs": []
    },
    {
      "cell_type": "code",
      "metadata": {
        "id": "5dyRuMlPtSBk",
        "colab_type": "code",
        "colab": {
          "base_uri": "https://localhost:8080/",
          "height": 36
        },
        "outputId": "d08e37d6-95b8-485e-9c7c-4db655cc99cb"
      },
      "source": [
        "weather_info(2)"
      ],
      "execution_count": null,
      "outputs": [
        {
          "output_type": "execute_result",
          "data": {
            "application/vnd.google.colaboratory.intrinsic+json": {
              "type": "string"
            },
            "text/plain": [
              "'-16.666666666666668 is freezing temperature'"
            ]
          },
          "metadata": {
            "tags": []
          },
          "execution_count": 29
        }
      ]
    },
    {
      "cell_type": "code",
      "metadata": {
        "id": "KoznUfYTwjzh",
        "colab_type": "code",
        "colab": {}
      },
      "source": [
        "def weather_i(t):\n",
        "  c = (t - 32) * (5.0 /9)\n",
        "  return str(c) + \" is freezing temperature\" if c <= 0 else str(c) + \" is above freezing temperature\""
      ],
      "execution_count": null,
      "outputs": []
    },
    {
      "cell_type": "code",
      "metadata": {
        "id": "bZ-AS640wl_q",
        "colab_type": "code",
        "colab": {
          "base_uri": "https://localhost:8080/",
          "height": 36
        },
        "outputId": "82834eb6-9142-4640-ee0a-c64a8ac6e140"
      },
      "source": [
        "weather_i(50)"
      ],
      "execution_count": null,
      "outputs": [
        {
          "output_type": "execute_result",
          "data": {
            "application/vnd.google.colaboratory.intrinsic+json": {
              "type": "string"
            },
            "text/plain": [
              "'10.0 is above freezing temperature'"
            ]
          },
          "metadata": {
            "tags": []
          },
          "execution_count": 28
        }
      ]
    },
    {
      "cell_type": "code",
      "metadata": {
        "id": "eo49AFrSzYuP",
        "colab_type": "code",
        "colab": {}
      },
      "source": [
        "# Função retorna área se for quadrado \n",
        "# ou perímetro caso rettângulo\n",
        "def area_or_perimeter(l , w):\n",
        "    if l==w:\n",
        "        return l*l\n",
        "    else:\n",
        "        return (2*l) + (2*w)"
      ],
      "execution_count": null,
      "outputs": []
    },
    {
      "cell_type": "code",
      "metadata": {
        "id": "WpZyOQyMzoJP",
        "colab_type": "code",
        "colab": {
          "base_uri": "https://localhost:8080/",
          "height": 35
        },
        "outputId": "3f2e9bef-2f7f-4924-fc0c-1363a28a0ba6"
      },
      "source": [
        "area_or_perimeter(4, 4)"
      ],
      "execution_count": null,
      "outputs": [
        {
          "output_type": "execute_result",
          "data": {
            "text/plain": [
              "16"
            ]
          },
          "metadata": {
            "tags": []
          },
          "execution_count": 31
        }
      ]
    },
    {
      "cell_type": "code",
      "metadata": {
        "id": "kI1NGBy8zxox",
        "colab_type": "code",
        "colab": {}
      },
      "source": [
        "def area_ou_perimeter(l, w):\n",
        "    return l * w if l == w else (l + w) * 2"
      ],
      "execution_count": null,
      "outputs": []
    },
    {
      "cell_type": "code",
      "metadata": {
        "id": "5eov2Otwz1sL",
        "colab_type": "code",
        "colab": {
          "base_uri": "https://localhost:8080/",
          "height": 35
        },
        "outputId": "12b20583-6e1a-4965-cefd-d80283442c56"
      },
      "source": [
        "area_ou_perimeter(4, 4)"
      ],
      "execution_count": null,
      "outputs": [
        {
          "output_type": "execute_result",
          "data": {
            "text/plain": [
              "16"
            ]
          },
          "metadata": {
            "tags": []
          },
          "execution_count": 33
        }
      ]
    },
    {
      "cell_type": "code",
      "metadata": {
        "id": "3Cnq4lVcz57Q",
        "colab_type": "code",
        "colab": {}
      },
      "source": [
        "area_perimeter = lambda a, b : a * b if a == b else 2 * (a + b)"
      ],
      "execution_count": null,
      "outputs": []
    },
    {
      "cell_type": "code",
      "metadata": {
        "id": "ZROrj8Jrz8z_",
        "colab_type": "code",
        "colab": {
          "base_uri": "https://localhost:8080/",
          "height": 35
        },
        "outputId": "daa56333-94b3-40d7-8f4b-40c95a2c96de"
      },
      "source": [
        "area_perimeter(4, 4)"
      ],
      "execution_count": null,
      "outputs": [
        {
          "output_type": "execute_result",
          "data": {
            "text/plain": [
              "16"
            ]
          },
          "metadata": {
            "tags": []
          },
          "execution_count": 35
        }
      ]
    },
    {
      "cell_type": "code",
      "metadata": {
        "id": "pwCamHgi0zca",
        "colab_type": "code",
        "colab": {
          "base_uri": "https://localhost:8080/",
          "height": 35
        },
        "outputId": "c7f3336f-be3e-4d5f-dcc1-81da086033ea"
      },
      "source": [
        "# Variáveis\n",
        "\n",
        "la_liga_goals = 43\n",
        "champions_league_goals = 10\n",
        "copa_del_rey_goals = 5\n",
        "\n",
        "total_goals = la_liga_goals + champions_league_goals + copa_del_rey_goals\n",
        "total_goals"
      ],
      "execution_count": null,
      "outputs": [
        {
          "output_type": "execute_result",
          "data": {
            "text/plain": [
              "58"
            ]
          },
          "metadata": {
            "tags": []
          },
          "execution_count": 37
        }
      ]
    },
    {
      "cell_type": "code",
      "metadata": {
        "id": "gStt4Tfm2E8_",
        "colab_type": "code",
        "colab": {}
      },
      "source": [
        "# Função recebe horas e retorna a menor quantidade\n",
        "# de litros de água\n",
        "def litres(time):\n",
        "    return (time*0.5)//1"
      ],
      "execution_count": null,
      "outputs": []
    },
    {
      "cell_type": "code",
      "metadata": {
        "id": "8t7gvB8Q2TDu",
        "colab_type": "code",
        "colab": {
          "base_uri": "https://localhost:8080/",
          "height": 35
        },
        "outputId": "985c2de7-bd20-4779-c7d6-39e1966b064b"
      },
      "source": [
        "litres(2)"
      ],
      "execution_count": null,
      "outputs": [
        {
          "output_type": "execute_result",
          "data": {
            "text/plain": [
              "1.0"
            ]
          },
          "metadata": {
            "tags": []
          },
          "execution_count": 42
        }
      ]
    },
    {
      "cell_type": "code",
      "metadata": {
        "id": "mq0NXli12aBA",
        "colab_type": "code",
        "colab": {}
      },
      "source": [
        "litros = lambda time : (time*0.5)//1"
      ],
      "execution_count": null,
      "outputs": []
    },
    {
      "cell_type": "code",
      "metadata": {
        "id": "Ltp7S2Fv2n2H",
        "colab_type": "code",
        "colab": {
          "base_uri": "https://localhost:8080/",
          "height": 35
        },
        "outputId": "8187933d-f6d3-4e86-92e8-f247b20884c9"
      },
      "source": [
        "litros(3)"
      ],
      "execution_count": null,
      "outputs": [
        {
          "output_type": "execute_result",
          "data": {
            "text/plain": [
              "1"
            ]
          },
          "metadata": {
            "tags": []
          },
          "execution_count": 48
        }
      ]
    },
    {
      "cell_type": "code",
      "metadata": {
        "id": "62j-AAY723Sg",
        "colab_type": "code",
        "colab": {}
      },
      "source": [
        "litros = lambda time : time//2"
      ],
      "execution_count": null,
      "outputs": []
    },
    {
      "cell_type": "code",
      "metadata": {
        "id": "M9m0VwyDCegT",
        "colab_type": "code",
        "colab": {}
      },
      "source": [
        "# Função retorna Fail!, Publish! ou A smell a series!\n",
        "\n",
        "def well(x):\n",
        "    if x.count('good') <1: return 'Fail!'\n",
        "    elif x.count('good')<2: return 'Publish!'\n",
        "    else: return'I smell a series!'\n",
        "    return "
      ],
      "execution_count": null,
      "outputs": []
    },
    {
      "cell_type": "code",
      "metadata": {
        "id": "9tYmum0lCgQ4",
        "colab_type": "code",
        "colab": {
          "base_uri": "https://localhost:8080/",
          "height": 36
        },
        "outputId": "6dddfdb0-27ff-4f33-afc8-11c53e8c145a"
      },
      "source": [
        "well(['bad', 'bad', 'bad'])"
      ],
      "execution_count": null,
      "outputs": [
        {
          "output_type": "execute_result",
          "data": {
            "application/vnd.google.colaboratory.intrinsic+json": {
              "type": "string"
            },
            "text/plain": [
              "'Fail'"
            ]
          },
          "metadata": {
            "tags": []
          },
          "execution_count": 11
        }
      ]
    },
    {
      "cell_type": "code",
      "metadata": {
        "id": "ucMM88mxDtrt",
        "colab_type": "code",
        "colab": {
          "base_uri": "https://localhost:8080/",
          "height": 36
        },
        "outputId": "d7522376-8b40-4ca2-8432-23f74d04309f"
      },
      "source": [
        "well(['good', 'bad', 'bad', 'bad', 'bad'])"
      ],
      "execution_count": null,
      "outputs": [
        {
          "output_type": "execute_result",
          "data": {
            "application/vnd.google.colaboratory.intrinsic+json": {
              "type": "string"
            },
            "text/plain": [
              "'Publish!'"
            ]
          },
          "metadata": {
            "tags": []
          },
          "execution_count": 12
        }
      ]
    },
    {
      "cell_type": "code",
      "metadata": {
        "id": "zd4sLdwxDtk6",
        "colab_type": "code",
        "colab": {
          "base_uri": "https://localhost:8080/",
          "height": 36
        },
        "outputId": "2af8c3c4-a54f-4f24-c8b3-f74ed84a17c0"
      },
      "source": [
        "well(['good', 'bad', 'bad', 'bad', 'bad', 'good', 'bad', 'bad', 'good'])"
      ],
      "execution_count": null,
      "outputs": [
        {
          "output_type": "execute_result",
          "data": {
            "application/vnd.google.colaboratory.intrinsic+json": {
              "type": "string"
            },
            "text/plain": [
              "'I smell a series!'"
            ]
          },
          "metadata": {
            "tags": []
          },
          "execution_count": 14
        }
      ]
    },
    {
      "cell_type": "code",
      "metadata": {
        "id": "rSqfyJpJD0u9",
        "colab_type": "code",
        "colab": {}
      },
      "source": [
        "def well(x):\n",
        "    c = x.count('good')\n",
        "    return 'I smell a series!' if c > 2 else 'Publish!' if c else 'Fail!'"
      ],
      "execution_count": null,
      "outputs": []
    },
    {
      "cell_type": "code",
      "metadata": {
        "id": "OES5eaFoWp3y",
        "colab_type": "code",
        "colab": {}
      },
      "source": [
        "#Função recebe um numero e retorna uma lista\n",
        "\n",
        "def monkey_count(n):\n",
        "   return list((range(1,n+1)))\n"
      ],
      "execution_count": null,
      "outputs": []
    },
    {
      "cell_type": "code",
      "metadata": {
        "id": "V5_cSysKWzA5",
        "colab_type": "code",
        "colab": {
          "base_uri": "https://localhost:8080/",
          "height": 35
        },
        "outputId": "72cca566-b2dd-4a37-a2f3-427225724a1a"
      },
      "source": [
        "monkey_count(5)"
      ],
      "execution_count": null,
      "outputs": [
        {
          "output_type": "execute_result",
          "data": {
            "text/plain": [
              "[1, 2, 3, 4, 5]"
            ]
          },
          "metadata": {
            "tags": []
          },
          "execution_count": 32
        }
      ]
    },
    {
      "cell_type": "code",
      "metadata": {
        "id": "Z1pMjCdEYpWl",
        "colab_type": "code",
        "colab": {}
      },
      "source": [
        "# Função que recebe uma lista e retorna a soma do quadrado de cada numero\n",
        "def square_sum(numbers):\n",
        "    sum=0\n",
        "    for i in range(len(numbers)):\n",
        "        sum =sum+(numbers[i])**2\n",
        "    return sum\n"
      ],
      "execution_count": null,
      "outputs": []
    },
    {
      "cell_type": "code",
      "metadata": {
        "id": "fqoAmpLdamPE",
        "colab_type": "code",
        "colab": {
          "base_uri": "https://localhost:8080/",
          "height": 35
        },
        "outputId": "c787ab88-7811-4753-80c5-c88a6ab83079"
      },
      "source": [
        "square_sum([0, 3, 4, 5])"
      ],
      "execution_count": null,
      "outputs": [
        {
          "output_type": "execute_result",
          "data": {
            "text/plain": [
              "50"
            ]
          },
          "metadata": {
            "tags": []
          },
          "execution_count": 57
        }
      ]
    },
    {
      "cell_type": "code",
      "metadata": {
        "id": "vCav4HNya49d",
        "colab_type": "code",
        "colab": {
          "base_uri": "https://localhost:8080/",
          "height": 35
        },
        "outputId": "0d54ff16-5079-4ddd-8b78-5916ecb53071"
      },
      "source": [
        "def square_s(numbers):\n",
        "    return sum(x ** 2 for x in numbers)\n",
        "\n",
        "square_s([0, 3, 4, 5])"
      ],
      "execution_count": null,
      "outputs": [
        {
          "output_type": "execute_result",
          "data": {
            "text/plain": [
              "50"
            ]
          },
          "metadata": {
            "tags": []
          },
          "execution_count": 58
        }
      ]
    },
    {
      "cell_type": "code",
      "metadata": {
        "id": "BJYf0ZuV8Fw7",
        "colab_type": "code",
        "colab": {
          "base_uri": "https://localhost:8080/",
          "height": 35
        },
        "outputId": "94df5b25-1550-4a04-99c6-5b76b37eeab6"
      },
      "source": [
        "# Função que conta q quantidade de uma determinada letra\n",
        "def str_count(strng, letter):\n",
        "    return strng.count(letter)\n",
        "    \n",
        "str_count('hello', 'l')"
      ],
      "execution_count": null,
      "outputs": [
        {
          "output_type": "execute_result",
          "data": {
            "text/plain": [
              "2"
            ]
          },
          "metadata": {
            "tags": []
          },
          "execution_count": 3
        }
      ]
    },
    {
      "cell_type": "code",
      "metadata": {
        "id": "mrzP9LTd8gfD",
        "colab_type": "code",
        "colab": {}
      },
      "source": [
        "# Função recebe uma lista com os resultados dos jogos 2:0\n",
        "# e retorna o total de pontos\n",
        "def points(games):\n",
        "    count = 0\n",
        "    for score in games:\n",
        "        res = score.split(':')\n",
        "        if res[0]>res[1]:\n",
        "            count += 3\n",
        "        elif res[0] == res[1]:\n",
        "            count += 1\n",
        "    return count"
      ],
      "execution_count": null,
      "outputs": []
    },
    {
      "cell_type": "code",
      "metadata": {
        "id": "lOHL_6n7imJr",
        "colab_type": "code",
        "colab": {
          "base_uri": "https://localhost:8080/",
          "height": 35
        },
        "outputId": "2ba0d76d-28bf-4cf9-c1f9-3c2a312696cd"
      },
      "source": [
        "points(['1:0','2:0','3:0','4:0','2:1','3:1','4:1','3:2','4:2','4:3'])"
      ],
      "execution_count": null,
      "outputs": [
        {
          "output_type": "execute_result",
          "data": {
            "text/plain": [
              "30"
            ]
          },
          "metadata": {
            "tags": []
          },
          "execution_count": 7
        }
      ]
    },
    {
      "cell_type": "code",
      "metadata": {
        "id": "Mi_HoSDb88tQ",
        "colab_type": "code",
        "colab": {}
      },
      "source": [
        "def pontos(a):\n",
        "    return sum((x >= y) + 2 * (x > y) for x, y in (s.split(\":\") for s in a))"
      ],
      "execution_count": null,
      "outputs": []
    },
    {
      "cell_type": "code",
      "metadata": {
        "id": "ZcG0xr9R-PSV",
        "colab_type": "code",
        "colab": {
          "base_uri": "https://localhost:8080/",
          "height": 35
        },
        "outputId": "efa6ba25-3f23-41e3-f730-c116cfa25315"
      },
      "source": [
        "pontos(['0:1','2:2','5:3','0:4','1:2','1:3','1:4','2:3','2:4','3:4'])"
      ],
      "execution_count": null,
      "outputs": [
        {
          "output_type": "execute_result",
          "data": {
            "text/plain": [
              "4"
            ]
          },
          "metadata": {
            "tags": []
          },
          "execution_count": 11
        }
      ]
    },
    {
      "cell_type": "code",
      "metadata": {
        "id": "Gy7irPSckW8q",
        "colab_type": "code",
        "colab": {
          "base_uri": "https://localhost:8080/",
          "height": 36
        },
        "outputId": "16f6cecd-398b-44b1-a941-e97144548b8e"
      },
      "source": [
        "# Função recebe um coeficiente e um expoente e retorna uma string\n",
        "\n",
        "def derive(co, ex): \n",
        "    mult= co*ex\n",
        "    dif=ex-1\n",
        "    return str(mult)+\"x^\"+str(dif)\n",
        "derive(7,8)"
      ],
      "execution_count": null,
      "outputs": [
        {
          "output_type": "execute_result",
          "data": {
            "application/vnd.google.colaboratory.intrinsic+json": {
              "type": "string"
            },
            "text/plain": [
              "'56x^7'"
            ]
          },
          "metadata": {
            "tags": []
          },
          "execution_count": 12
        }
      ]
    },
    {
      "cell_type": "code",
      "metadata": {
        "id": "wBbgH8mukvtL",
        "colab_type": "code",
        "colab": {
          "base_uri": "https://localhost:8080/",
          "height": 36
        },
        "outputId": "5956970b-2a9f-4c8e-a04e-f2cf0e4b6bc6"
      },
      "source": [
        "def derive(coefficient, exponent): \n",
        "    return f'{coefficient * exponent}x^{exponent - 1}'\n",
        "derive(7,9)"
      ],
      "execution_count": null,
      "outputs": [
        {
          "output_type": "execute_result",
          "data": {
            "application/vnd.google.colaboratory.intrinsic+json": {
              "type": "string"
            },
            "text/plain": [
              "'63x^8'"
            ]
          },
          "metadata": {
            "tags": []
          },
          "execution_count": 13
        }
      ]
    },
    {
      "cell_type": "code",
      "metadata": {
        "id": "gWL1xb2AlJ_q",
        "colab_type": "code",
        "colab": {}
      },
      "source": [
        "# Função que recebe um idioma e retorna bem-vindo no idioma\n",
        "def greet(language):\n",
        "    return {\n",
        "        'czech': 'Vitejte',\n",
        "        'danish': 'Velkomst',\n",
        "        'dutch': 'Welkom',\n",
        "        'english': 'Welcome',\n",
        "        'estonian': 'Tere tulemast',\n",
        "        'finnish': 'Tervetuloa',\n",
        "        'flemish': 'Welgekomen',\n",
        "        'french': 'Bienvenue',\n",
        "        'german': 'Willkommen',\n",
        "        'irish': 'Failte',\n",
        "        'italian': 'Benvenuto',\n",
        "        'latvian': 'Gaidits',\n",
        "        'lithuanian': 'Laukiamas',\n",
        "        'polish': 'Witamy',\n",
        "        'spanish': 'Bienvenido',\n",
        "        'swedish': 'Valkommen',\n",
        "        'welsh': 'Croeso'\n",
        "    }.get(language, 'Welcome')\n",
        "\n",
        "    "
      ],
      "execution_count": null,
      "outputs": []
    },
    {
      "cell_type": "code",
      "metadata": {
        "id": "9eaAeNaBmCcM",
        "colab_type": "code",
        "colab": {
          "base_uri": "https://localhost:8080/",
          "height": 36
        },
        "outputId": "21110a20-be84-4db6-b3e3-ea4e4ad642a1"
      },
      "source": [
        "greet('english')\n"
      ],
      "execution_count": null,
      "outputs": [
        {
          "output_type": "execute_result",
          "data": {
            "application/vnd.google.colaboratory.intrinsic+json": {
              "type": "string"
            },
            "text/plain": [
              "'Welcome'"
            ]
          },
          "metadata": {
            "tags": []
          },
          "execution_count": 16
        }
      ]
    },
    {
      "cell_type": "code",
      "metadata": {
        "id": "oDCMkAPAmG3L",
        "colab_type": "code",
        "colab": {
          "base_uri": "https://localhost:8080/",
          "height": 36
        },
        "outputId": "04aa776b-07f2-4ffa-a8af-7f9bc422fbd8"
      },
      "source": [
        "greet('flemish')"
      ],
      "execution_count": null,
      "outputs": [
        {
          "output_type": "execute_result",
          "data": {
            "application/vnd.google.colaboratory.intrinsic+json": {
              "type": "string"
            },
            "text/plain": [
              "'Welgekomen'"
            ]
          },
          "metadata": {
            "tags": []
          },
          "execution_count": 17
        }
      ]
    },
    {
      "cell_type": "code",
      "metadata": {
        "id": "9V_4GxrGoA6q",
        "colab_type": "code",
        "colab": {
          "base_uri": "https://localhost:8080/",
          "height": 35
        },
        "outputId": "50fcd924-0a9a-4c08-bee1-ef393ce3134c"
      },
      "source": [
        "# Função recebe a velocidade em cm/s \n",
        "# e retorna o tempo que uma petala cai em 400cm\n",
        "\n",
        "def sakura_fall(v):\n",
        "    return 400/v if v>0 else 0\n",
        "sakura_fall(10)"
      ],
      "execution_count": null,
      "outputs": [
        {
          "output_type": "execute_result",
          "data": {
            "text/plain": [
              "40.0"
            ]
          },
          "metadata": {
            "tags": []
          },
          "execution_count": 18
        }
      ]
    },
    {
      "cell_type": "code",
      "metadata": {
        "id": "OnPNo0nto2zE",
        "colab_type": "code",
        "colab": {
          "base_uri": "https://localhost:8080/",
          "height": 36
        },
        "outputId": "219d2be0-70b5-4163-abf9-4b595d6e362c"
      },
      "source": [
        "# Função que retorna uma string\n",
        "\n",
        "def greet(name):\n",
        "    return f'Hello, {name} how are you doing today?'\n",
        "\n",
        "greet('Ryan')"
      ],
      "execution_count": null,
      "outputs": [
        {
          "output_type": "execute_result",
          "data": {
            "application/vnd.google.colaboratory.intrinsic+json": {
              "type": "string"
            },
            "text/plain": [
              "'Hello, Ryan how are you doing today?'"
            ]
          },
          "metadata": {
            "tags": []
          },
          "execution_count": 19
        }
      ]
    },
    {
      "cell_type": "code",
      "metadata": {
        "id": "S_3wqKDKwe98",
        "colab_type": "code",
        "colab": {}
      },
      "source": [
        "# Função recebe uma lista e retorna outra lista dos index pares\n",
        "\n",
        "def remove_every_other(my_list):\n",
        "    n_list=[]\n",
        "    for i in range(len(my_list)):\n",
        "        if i%2 == 0:\n",
        "            print(\"2°\",i)\n",
        "            n_list.append(my_list[i])\n",
        "    return n_list"
      ],
      "execution_count": null,
      "outputs": []
    },
    {
      "cell_type": "code",
      "metadata": {
        "id": "QMxF8sEDwp_b",
        "colab_type": "code",
        "colab": {
          "base_uri": "https://localhost:8080/",
          "height": 109
        },
        "outputId": "99ef32da-0424-4b66-cd6b-43a159291a9e"
      },
      "source": [
        "remove_every_other( [True, True, False, False, False, True, True])"
      ],
      "execution_count": null,
      "outputs": [
        {
          "output_type": "stream",
          "text": [
            "2° 0\n",
            "2° 2\n",
            "2° 4\n",
            "2° 6\n"
          ],
          "name": "stdout"
        },
        {
          "output_type": "execute_result",
          "data": {
            "text/plain": [
              "[True, False, False, True]"
            ]
          },
          "metadata": {
            "tags": []
          },
          "execution_count": 53
        }
      ]
    },
    {
      "cell_type": "code",
      "metadata": {
        "id": "ZnqD3E8py0tO",
        "colab_type": "code",
        "colab": {
          "base_uri": "https://localhost:8080/",
          "height": 35
        },
        "outputId": "17066f51-dcea-4e96-f14f-bcdaf5cdc8a8"
      },
      "source": [
        "def remove_every_other(my_list):\n",
        "    return my_list[::2]\n",
        "\n",
        "remove_every_other([2,3,4,5,6,3,4])"
      ],
      "execution_count": null,
      "outputs": [
        {
          "output_type": "execute_result",
          "data": {
            "text/plain": [
              "[2, 4, 6, 4]"
            ]
          },
          "metadata": {
            "tags": []
          },
          "execution_count": 55
        }
      ]
    },
    {
      "cell_type": "code",
      "metadata": {
        "id": "-PM5pnqB3FCv",
        "colab_type": "code",
        "colab": {}
      },
      "source": [
        "# Função verifica se há alguma letra maiúscula\n",
        "\n",
        "def is_uppercase(inp):\n",
        "    return inp.isupper()\n",
        "\n"
      ],
      "execution_count": null,
      "outputs": []
    },
    {
      "cell_type": "code",
      "metadata": {
        "id": "JHcWo13n3WFv",
        "colab_type": "code",
        "colab": {}
      },
      "source": [
        "fruit = {1:'kiwi',2:'pear',3:'kiwi',4:'banana',5:'melon',6:'banana',7:'melon',\n",
        "         8:'pineapple',9:'apple',10:'pineapple',11:'cucumber',12:'pineapple',\n",
        "         13:'cucumber',14:'orange',15:'grape',16:'orange',17:'grape',18:'apple',\n",
        "         19:'grape',20:'cherry',21:'pear',22:'cherry',23:'pear',24:'kiwi',\n",
        "         25:'banana',26:'kiwi',27:'apple',28:'melon',29:'banana',30:'melon',\n",
        "         31:'pineapple',32:'melon',33:'pineapple',34:'cucumber',35:'orange',\n",
        "         36:'apple',37:'orange',38:'grape',39:'orange',40:'grape',41:'cherry',\n",
        "         42:'pear',43:'cherry',44:'pear',45:'apple',46:'pear',47:'kiwi',\n",
        "         48:'banana',49:'kiwi',50:'banana',51:'melon',52:'pineapple',53:'melon',\n",
        "         54:'apple',55:'cucumber',56:'pineapple',57:'cucumber',58:'orange',\n",
        "         59:'cucumber',60:'orange',61:'grape',62:'cherry',63:'apple',\n",
        "         64:'cherry',65:'pear',66:'cherry',67:'pear',68:'kiwi',69:'pear',\n",
        "         70:'kiwi', 71:'banana',72:'apple',73:'banana',74:'melon',\n",
        "         75:'pineapple',76:'melon',77:'pineapple',78:'cucumber',79:'pineapple',\n",
        "         80:'cucumber',81:'apple',82:'grape',83:'orange',84:'grape',85:'cherry',\n",
        "         86:'grape',87:'cherry',88:'pear',89:'cherry',90:'apple',91:'kiwi',\n",
        "         92:'banana',93:'kiwi',94:'banana',95:'melon',96:'banana',97:'melon',\n",
        "         98:'pineapple',99:'apple',100:'pineapple'}\n",
        "\n",
        "\n",
        "def subtract_sum(n):\n",
        "  n -= (sum([int(i) for i in str(n)]))\n",
        "  while not n in fruit:\n",
        "    n -= (sum([int(i) for i in str(n)]))\n",
        "  return fruit[n]"
      ],
      "execution_count": null,
      "outputs": []
    },
    {
      "cell_type": "code",
      "metadata": {
        "id": "Qlb5D_pz6kuY",
        "colab_type": "code",
        "colab": {
          "base_uri": "https://localhost:8080/",
          "height": 36
        },
        "outputId": "2490948d-5967-4d59-9b64-2ab949c7b1ab"
      },
      "source": [
        "subtract_sum(325)"
      ],
      "execution_count": null,
      "outputs": [
        {
          "output_type": "execute_result",
          "data": {
            "application/vnd.google.colaboratory.intrinsic+json": {
              "type": "string"
            },
            "text/plain": [
              "'apple'"
            ]
          },
          "metadata": {
            "tags": []
          },
          "execution_count": 66
        }
      ]
    },
    {
      "cell_type": "code",
      "metadata": {
        "id": "0BYWUqfnwXh5",
        "colab_type": "code",
        "colab": {
          "base_uri": "https://localhost:8080/",
          "height": 35
        },
        "outputId": "0b34a1e5-ade5-4532-a03b-9fd7105debf9"
      },
      "source": [
        "# Função retorna o número negativo\n",
        "\n",
        "def make_negative( number ):\n",
        "    return number if number < 0 else -number # number*-1 \n",
        "make_negative(88)\n"
      ],
      "execution_count": null,
      "outputs": [
        {
          "output_type": "execute_result",
          "data": {
            "text/plain": [
              "-88"
            ]
          },
          "metadata": {
            "tags": []
          },
          "execution_count": 4
        }
      ]
    },
    {
      "cell_type": "code",
      "metadata": {
        "id": "_niQHWz1wnAt",
        "colab_type": "code",
        "colab": {}
      },
      "source": [
        "def make_negative( number ):\n",
        "    return -abs(number)"
      ],
      "execution_count": null,
      "outputs": []
    },
    {
      "cell_type": "code",
      "metadata": {
        "id": "wGGlEDZm2cQk",
        "colab_type": "code",
        "colab": {}
      },
      "source": [
        ""
      ],
      "execution_count": null,
      "outputs": []
    },
    {
      "cell_type": "code",
      "metadata": {
        "id": "Zh2Wrtgg2am5",
        "colab_type": "code",
        "colab": {}
      },
      "source": [
        "# Função retira os zeros do final\n",
        "\n",
        "def no_boring_zeros(n):\n",
        "    if n!=0:\n",
        "        while n%10==0:\n",
        "            n = n/10\n",
        "    else:\n",
        "        n==0\n",
        "    return n "
      ],
      "execution_count": null,
      "outputs": []
    },
    {
      "cell_type": "code",
      "metadata": {
        "id": "5RvRzJ9a3DH4",
        "colab_type": "code",
        "colab": {
          "base_uri": "https://localhost:8080/",
          "height": 35
        },
        "outputId": "6a47e68b-042e-4581-935e-b27873d217e0"
      },
      "source": [
        "no_boring_zeros(960000)"
      ],
      "execution_count": null,
      "outputs": [
        {
          "output_type": "execute_result",
          "data": {
            "text/plain": [
              "96.0"
            ]
          },
          "metadata": {
            "tags": []
          },
          "execution_count": 66
        }
      ]
    },
    {
      "cell_type": "code",
      "metadata": {
        "id": "Im5NlsMUoC0c",
        "colab_type": "code",
        "colab": {
          "base_uri": "https://localhost:8080/",
          "height": 35
        },
        "outputId": "cc8c2fdf-0926-408b-cb5f-91592d253b51"
      },
      "source": [
        "def no_boring_zeros(n):\n",
        "    try:\n",
        "        return int(str(n).rstrip('0'))\n",
        "    except ValueError:\n",
        "        return 0\n",
        "\n",
        "no_boring_zeros(96045000)"
      ],
      "execution_count": null,
      "outputs": [
        {
          "output_type": "execute_result",
          "data": {
            "text/plain": [
              "96045"
            ]
          },
          "metadata": {
            "tags": []
          },
          "execution_count": 1
        }
      ]
    },
    {
      "cell_type": "code",
      "metadata": {
        "id": "qx_SuM0quQdb",
        "colab_type": "code",
        "colab": {
          "base_uri": "https://localhost:8080/",
          "height": 36
        },
        "outputId": "4104d222-c0b3-4e98-8632-6136bb40c9cc"
      },
      "source": [
        "# Função executa a média e retorna uma nota\n",
        "\n",
        "def get_grade(s1, s2, s3):\n",
        "    score =(s1+s2+s3)/3\n",
        "    \n",
        "    if 90 <= score <= 100 :\n",
        "        return'A'\n",
        "    if 80 <= score < 90:\n",
        "        return'B'\n",
        "    if 70 <= score < 80:\n",
        "        return'C'\n",
        "    if 60 <= score < 70:\n",
        "        return'D'\n",
        "    if 0 <= score < 60:\n",
        "        return 'F'\n",
        "get_grade(95, 90, 93)"
      ],
      "execution_count": null,
      "outputs": [
        {
          "output_type": "execute_result",
          "data": {
            "application/vnd.google.colaboratory.intrinsic+json": {
              "type": "string"
            },
            "text/plain": [
              "'A'"
            ]
          },
          "metadata": {
            "tags": []
          },
          "execution_count": 1
        }
      ]
    },
    {
      "cell_type": "code",
      "metadata": {
        "id": "DEaRrO4yu_HL",
        "colab_type": "code",
        "colab": {}
      },
      "source": [
        "def get_grade(s1, s2, s3):\n",
        "    return {6:'D', 7:'C', 8:'B', 9:'A', 10:'A'}.get((s1 + s2 + s3) / 30, 'F')"
      ],
      "execution_count": null,
      "outputs": []
    },
    {
      "cell_type": "code",
      "metadata": {
        "id": "iwwk3jeFvLYW",
        "colab_type": "code",
        "colab": {}
      },
      "source": [
        "def get_grade(s1, s2, s3):\n",
        "    mean = sum([s1,s2,s3])/3\n",
        "    if mean>=90: return 'A'\n",
        "    if mean>=80: return 'B'\n",
        "    if mean>=70: return 'C'\n",
        "    if mean>=60: return 'D'\n",
        "    return 'F'\n",
        "    "
      ],
      "execution_count": null,
      "outputs": []
    },
    {
      "cell_type": "code",
      "metadata": {
        "id": "aI5ZZ-xhxaFz",
        "colab_type": "code",
        "colab": {}
      },
      "source": [
        ""
      ],
      "execution_count": null,
      "outputs": []
    },
    {
      "cell_type": "code",
      "metadata": {
        "id": "4LXzoT-_xZ27",
        "colab_type": "code",
        "colab": {}
      },
      "source": [
        "def positive_sum(arr):\n",
        "    soma=[]\n",
        "    for i in arr:\n",
        "        if i>0:\n",
        "            soma.append(i)   \n",
        "    return sum(soma)"
      ],
      "execution_count": null,
      "outputs": []
    },
    {
      "cell_type": "code",
      "metadata": {
        "id": "d28a1Efcxd5a",
        "colab_type": "code",
        "colab": {
          "base_uri": "https://localhost:8080/",
          "height": 35
        },
        "outputId": "e0da96d3-64a9-44c8-901d-63812b22164d"
      },
      "source": [
        "positive_sum([1,2,3,4,5])"
      ],
      "execution_count": null,
      "outputs": [
        {
          "output_type": "execute_result",
          "data": {
            "text/plain": [
              "15"
            ]
          },
          "metadata": {
            "tags": []
          },
          "execution_count": 20
        }
      ]
    },
    {
      "cell_type": "code",
      "metadata": {
        "id": "dYEmVgb-yg39",
        "colab_type": "code",
        "colab": {
          "base_uri": "https://localhost:8080/",
          "height": 35
        },
        "outputId": "0225d7eb-6301-4b1d-f0a4-dc4e820f8212"
      },
      "source": [
        "def positive_sum(arr):\n",
        "  return sum(x for x in arr if x>0)\n",
        "positive_sum([1,2,3,4,5])"
      ],
      "execution_count": null,
      "outputs": [
        {
          "output_type": "execute_result",
          "data": {
            "text/plain": [
              "15"
            ]
          },
          "metadata": {
            "tags": []
          },
          "execution_count": 22
        }
      ]
    },
    {
      "cell_type": "code",
      "metadata": {
        "id": "ggTYfIhtDeYJ",
        "colab_type": "code",
        "colab": {
          "base_uri": "https://localhost:8080/",
          "height": 35
        },
        "outputId": "c196d74d-4ea9-4ef1-dd01-65ce8a92cb1a"
      },
      "source": [
        "def positive_sum(arr):\n",
        "    return sum(filter(lambda x: x > 0,arr))\n",
        "positive_sum([1,2,3,4,5])"
      ],
      "execution_count": null,
      "outputs": [
        {
          "output_type": "execute_result",
          "data": {
            "text/plain": [
              "15"
            ]
          },
          "metadata": {
            "tags": []
          },
          "execution_count": 23
        }
      ]
    },
    {
      "cell_type": "code",
      "metadata": {
        "id": "AKRoIa5PW4O0",
        "colab_type": "code",
        "colab": {
          "base_uri": "https://localhost:8080/",
          "height": 35
        },
        "outputId": "34d5415f-2e6c-4639-e8d5-44f524757b8b"
      },
      "source": [
        "# Função valida se quilometragem <= consumo * qtd gasolina\n",
        "\n",
        "def zero_fuel(dist,mpg,fuel):\n",
        "    return bool(dist<=mpg*fuel)\n",
        "zero_fuel(50, 25, 2)"
      ],
      "execution_count": null,
      "outputs": [
        {
          "output_type": "execute_result",
          "data": {
            "text/plain": [
              "True"
            ]
          },
          "metadata": {
            "tags": []
          },
          "execution_count": 1
        }
      ]
    },
    {
      "cell_type": "code",
      "metadata": {
        "id": "8A9cM1bTXbB2",
        "colab_type": "code",
        "colab": {
          "base_uri": "https://localhost:8080/",
          "height": 35
        },
        "outputId": "3b41897e-c431-4460-b744-a0892ec07a9d"
      },
      "source": [
        "# Função retorna o numero oposto\n",
        "\n",
        "def opposite(number):\n",
        "    return -number\n",
        "opposite(2)"
      ],
      "execution_count": null,
      "outputs": [
        {
          "output_type": "execute_result",
          "data": {
            "text/plain": [
              "-2"
            ]
          },
          "metadata": {
            "tags": []
          },
          "execution_count": 2
        }
      ]
    },
    {
      "cell_type": "code",
      "metadata": {
        "id": "e7izfzDPaDve",
        "colab_type": "code",
        "colab": {
          "base_uri": "https://localhost:8080/",
          "height": 35
        },
        "outputId": "ed9e04d9-ada0-4a16-e399-7967ecb5ca62"
      },
      "source": [
        "# Função recebe um número e retorna um array invertido\n",
        "\n",
        "def digitize(n):\n",
        "    lst = [int(i) for i in str(n)]\n",
        "    lst.reverse()    \n",
        "    return lst\n",
        "digitize(35231)"
      ],
      "execution_count": null,
      "outputs": [
        {
          "output_type": "execute_result",
          "data": {
            "text/plain": [
              "[1, 3, 2, 5, 3]"
            ]
          },
          "metadata": {
            "tags": []
          },
          "execution_count": 8
        }
      ]
    },
    {
      "cell_type": "code",
      "metadata": {
        "id": "_SeAD6s0a0Ed",
        "colab_type": "code",
        "colab": {}
      },
      "source": [
        "def digitize(n):\n",
        "    return map(int, str(n)[::-1])"
      ],
      "execution_count": null,
      "outputs": []
    },
    {
      "cell_type": "code",
      "metadata": {
        "id": "OnovsY9ba0tN",
        "colab_type": "code",
        "colab": {}
      },
      "source": [
        "def digitize(n):\n",
        "    return [int(x) for x in str(n)[::-1]]"
      ],
      "execution_count": null,
      "outputs": []
    },
    {
      "cell_type": "code",
      "metadata": {
        "id": "pG695BfiAReN",
        "colab_type": "code",
        "colab": {
          "base_uri": "https://localhost:8080/",
          "height": 109
        },
        "outputId": "0aa9c8f9-a87d-4bd9-b504-fc1fdf3ecf65"
      },
      "source": [
        "# Função retorna a soma dos numeros int\n",
        "\n",
        "def sum_mix(arr):\n",
        "  s=0\n",
        "  for x in arr:\n",
        "    if type(x)==int:\n",
        "      print(x)\n",
        "      s=s+x\n",
        "  return print('Total:',s)\n",
        "sum_mix([9,8,7,'3','9',8])"
      ],
      "execution_count": 3,
      "outputs": [
        {
          "output_type": "stream",
          "text": [
            "9\n",
            "8\n",
            "7\n",
            "8\n",
            "Total: 32\n"
          ],
          "name": "stdout"
        }
      ]
    },
    {
      "cell_type": "code",
      "metadata": {
        "id": "yePQ0W6zBXk0",
        "colab_type": "code",
        "colab": {
          "base_uri": "https://localhost:8080/",
          "height": 35
        },
        "outputId": "620ed4c9-9113-4da5-a3ad-f87bce16a3a2"
      },
      "source": [
        "# Função recebe arr com int e str, convert todos p int e soma\n",
        "\n",
        "def sum_int(arr):\n",
        "  s=0\n",
        "  for x in arr:\n",
        "    s=int(x)+s\n",
        "  return s\n",
        "sum_int([9, 3, '7', '3'])\n"
      ],
      "execution_count": 8,
      "outputs": [
        {
          "output_type": "execute_result",
          "data": {
            "text/plain": [
              "22"
            ]
          },
          "metadata": {
            "tags": []
          },
          "execution_count": 8
        }
      ]
    },
    {
      "cell_type": "code",
      "metadata": {
        "id": "M4ikCg3iA2X_",
        "colab_type": "code",
        "colab": {
          "base_uri": "https://localhost:8080/",
          "height": 35
        },
        "outputId": "edb51bac-69e7-46a5-ab25-5797540fe59c"
      },
      "source": [
        "def positive_sum(arr):\n",
        "  return sum(int(x) for x in arr)\n",
        "positive_sum([9, 3, '7', '3'])"
      ],
      "execution_count": 10,
      "outputs": [
        {
          "output_type": "execute_result",
          "data": {
            "text/plain": [
              "22"
            ]
          },
          "metadata": {
            "tags": []
          },
          "execution_count": 10
        }
      ]
    },
    {
      "cell_type": "code",
      "metadata": {
        "id": "5bs4bMtOFV9S",
        "colab_type": "code",
        "colab": {
          "base_uri": "https://localhost:8080/",
          "height": 36
        },
        "outputId": "72bd2d62-ed49-4287-9532-7840222f0c18"
      },
      "source": [
        "# Função retorna o inverso de uma string\n",
        "\n",
        "def solution(string):\n",
        "  return string[::-1]\n",
        "\n",
        "solution(\"FelipeKenjiChikuji\")"
      ],
      "execution_count": 11,
      "outputs": [
        {
          "output_type": "execute_result",
          "data": {
            "application/vnd.google.colaboratory.intrinsic+json": {
              "type": "string"
            },
            "text/plain": [
              "'ijukihCijneKepileF'"
            ]
          },
          "metadata": {
            "tags": []
          },
          "execution_count": 11
        }
      ]
    },
    {
      "cell_type": "code",
      "metadata": {
        "id": "K_R2CffjF8Bi",
        "colab_type": "code",
        "colab": {
          "base_uri": "https://localhost:8080/",
          "height": 36
        },
        "outputId": "f8594ae5-2e33-45ac-dd39-0d61d795397b"
      },
      "source": [
        "solution = lambda s: s[::-1]\n",
        "solution(\"FelipeKenjiChikuji\")"
      ],
      "execution_count": 12,
      "outputs": [
        {
          "output_type": "execute_result",
          "data": {
            "application/vnd.google.colaboratory.intrinsic+json": {
              "type": "string"
            },
            "text/plain": [
              "'ijukihCijneKepileF'"
            ]
          },
          "metadata": {
            "tags": []
          },
          "execution_count": 12
        }
      ]
    },
    {
      "cell_type": "code",
      "metadata": {
        "id": "FaoUg7dEFs3L",
        "colab_type": "code",
        "colab": {
          "base_uri": "https://localhost:8080/",
          "height": 72
        },
        "outputId": "77587dba-2ba5-4545-d681-d4093f370286"
      },
      "source": [
        "# Função \n",
        "\n",
        "def triple_trouble(one, two, three):\n",
        "    x=[]\n",
        "    for a in range(len(one)):\n",
        "      print(a,len(one))\n",
        "\n",
        "      x.append(one[a]+two[a]+three[a])\n",
        "\n",
        "    return \"\".join(x)\n",
        "\n",
        "triple_trouble(\"bm\",\"aa\",\"tn\")"
      ],
      "execution_count": 86,
      "outputs": [
        {
          "output_type": "stream",
          "text": [
            "0 2\n",
            "1 2\n"
          ],
          "name": "stdout"
        },
        {
          "output_type": "execute_result",
          "data": {
            "application/vnd.google.colaboratory.intrinsic+json": {
              "type": "string"
            },
            "text/plain": [
              "'batman'"
            ]
          },
          "metadata": {
            "tags": []
          },
          "execution_count": 86
        }
      ]
    },
    {
      "cell_type": "code",
      "metadata": {
        "id": "LIzN9iHwT7pq",
        "colab_type": "code",
        "colab": {}
      },
      "source": [
        "def triple_trouble(one, two, three):\n",
        "    return ''.join(''.join(a) for a in zip(one, two, three))"
      ],
      "execution_count": null,
      "outputs": []
    },
    {
      "cell_type": "code",
      "metadata": {
        "id": "B5Asi3G5VakI",
        "colab_type": "code",
        "colab": {}
      },
      "source": [
        "def triple_trouble(one, two, three):\n",
        "    ans = ''\n",
        "    for i in range(len(one)):\n",
        "        ans+=one[i]\n",
        "        ans+=two[i]\n",
        "        ans+=three[i]\n",
        "    return ans"
      ],
      "execution_count": null,
      "outputs": []
    }
  ]
}