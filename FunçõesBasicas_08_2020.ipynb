{
  "nbformat": 4,
  "nbformat_minor": 0,
  "metadata": {
    "colab": {
      "name": "FunçõesBasicas_08_2020.ipynb",
      "provenance": [],
      "authorship_tag": "ABX9TyPgCsJdRbZbydXvLaXByNwI",
      "include_colab_link": true
    },
    "kernelspec": {
      "name": "python3",
      "display_name": "Python 3"
    }
  },
  "cells": [
    {
      "cell_type": "markdown",
      "metadata": {
        "id": "view-in-github",
        "colab_type": "text"
      },
      "source": [
        "<a href=\"https://colab.research.google.com/github/Chikuji/PythonPcc/blob/master/Fun%C3%A7%C3%B5esBasicas_08_2020.ipynb\" target=\"_parent\"><img src=\"https://colab.research.google.com/assets/colab-badge.svg\" alt=\"Open In Colab\"/></a>"
      ]
    },
    {
      "cell_type": "code",
      "metadata": {
        "id": "N0JQ67Qerb3l",
        "colab_type": "code",
        "colab": {
          "base_uri": "https://localhost:8080/",
          "height": 36
        },
        "outputId": "9e3fcd02-ad09-4e9f-dae3-3143d7370e7e"
      },
      "source": [
        "#Função hello world\n",
        "\n",
        "def greet():\n",
        "    return \"hello world!\"\n",
        "\n",
        "greet()"
      ],
      "execution_count": null,
      "outputs": [
        {
          "output_type": "execute_result",
          "data": {
            "application/vnd.google.colaboratory.intrinsic+json": {
              "type": "string"
            },
            "text/plain": [
              "'hello world!'"
            ]
          },
          "metadata": {
            "tags": []
          },
          "execution_count": 3
        }
      ]
    },
    {
      "cell_type": "code",
      "metadata": {
        "id": "RluedbrQsuGw",
        "colab_type": "code",
        "colab": {}
      },
      "source": [
        "#Função retorna a quarter of month\n",
        "def quarter(month):\n",
        "  if month/12 <=0.25:\n",
        "    return 1\n",
        "  elif month/12 <=0.5:\n",
        "    return 2\n",
        "  elif month/12<=0.75:\n",
        "    return 3\n",
        "  else:\n",
        "    return 4"
      ],
      "execution_count": null,
      "outputs": []
    },
    {
      "cell_type": "code",
      "metadata": {
        "id": "bp_3hs07t8lb",
        "colab_type": "code",
        "colab": {
          "base_uri": "https://localhost:8080/",
          "height": 35
        },
        "outputId": "c83557df-e92f-458f-fc78-3c0f85241c14"
      },
      "source": [
        "quarter(7)"
      ],
      "execution_count": null,
      "outputs": [
        {
          "output_type": "execute_result",
          "data": {
            "text/plain": [
              "3"
            ]
          },
          "metadata": {
            "tags": []
          },
          "execution_count": 8
        }
      ]
    },
    {
      "cell_type": "code",
      "metadata": {
        "id": "OGVsPrK0uNJ5",
        "colab_type": "code",
        "colab": {
          "base_uri": "https://localhost:8080/",
          "height": 35
        },
        "outputId": "b9da1335-41a2-4c3b-96d3-a1a3b9451af5"
      },
      "source": [
        "def quarter_of(m):\n",
        "  return (m+2)//3\n",
        "\n",
        "quarter_of(7)"
      ],
      "execution_count": null,
      "outputs": [
        {
          "output_type": "execute_result",
          "data": {
            "text/plain": [
              "3"
            ]
          },
          "metadata": {
            "tags": []
          },
          "execution_count": 10
        }
      ]
    },
    {
      "cell_type": "code",
      "metadata": {
        "id": "VQ2u8liaupdk",
        "colab_type": "code",
        "colab": {
          "base_uri": "https://localhost:8080/",
          "height": 35
        },
        "outputId": "c40cefc7-e448-4be1-9262-5c40ea3ba566"
      },
      "source": [
        "#Função retorna numeros multiplos\n",
        "def multiplos(inicio,limite):\n",
        "  return list(range(inicio,limite+1,inicio))\n",
        "multiplos(5,25)"
      ],
      "execution_count": null,
      "outputs": [
        {
          "output_type": "execute_result",
          "data": {
            "text/plain": [
              "[5, 10, 15, 20, 25]"
            ]
          },
          "metadata": {
            "tags": []
          },
          "execution_count": 11
        }
      ]
    },
    {
      "cell_type": "code",
      "metadata": {
        "id": "VERzjBUfvYH0",
        "colab_type": "code",
        "colab": {
          "base_uri": "https://localhost:8080/",
          "height": 35
        },
        "outputId": "a24fa171-34f3-4ff5-b95a-2db8b861d496"
      },
      "source": [
        "#Função retorna o calculo de uma prova\n",
        "def exam(arr1,arr2):\n",
        "  score=0\n",
        "  for i in range(4):\n",
        "    if arr1[i]==arr2[i]:\n",
        "      score=score+4\n",
        "    elif arr2[i]==\"\":\n",
        "      score=score+0\n",
        "    else:\n",
        "      score=score-1\n",
        "  if score<0:\n",
        "    score=0\n",
        "  return score\n",
        "\n",
        "exam([\"a\",\"b\",\"c\",\"d\"],[\"d\",\"b\",\"\",\"d\"])"
      ],
      "execution_count": null,
      "outputs": [
        {
          "output_type": "execute_result",
          "data": {
            "text/plain": [
              "7"
            ]
          },
          "metadata": {
            "tags": []
          },
          "execution_count": 20
        }
      ]
    },
    {
      "cell_type": "code",
      "metadata": {
        "id": "REXDuwFgwVxV",
        "colab_type": "code",
        "colab": {
          "base_uri": "https://localhost:8080/",
          "height": 35
        },
        "outputId": "91c32a31-9808-48af-edc5-0c20972e2fd1"
      },
      "source": [
        "def check_exam(arr1,arr2):\n",
        "  return max(0,sum(4 if a==b else -1 for a,b in zip(arr1,arr2)if b))\n",
        "check_exam([\"a\",\"b\",\"c\",\"d\"],[\"d\",\"b\",\"\",\"d\"])\n"
      ],
      "execution_count": null,
      "outputs": [
        {
          "output_type": "execute_result",
          "data": {
            "text/plain": [
              "7"
            ]
          },
          "metadata": {
            "tags": []
          },
          "execution_count": 22
        }
      ]
    },
    {
      "cell_type": "code",
      "metadata": {
        "id": "fUMAS0Yezp9t",
        "colab_type": "code",
        "colab": {
          "base_uri": "https://localhost:8080/",
          "height": 35
        },
        "outputId": "b0780e88-aa95-4215-dba0-a253ba8a6063"
      },
      "source": [
        "#Função retorna true se n for divisivel por x e y\n",
        "\n",
        "def divisivel(n,x,y):\n",
        "  return bool(n%x==0 and n%y==0)\n",
        "\n",
        "divisivel(3,1,3)\n"
      ],
      "execution_count": null,
      "outputs": [
        {
          "output_type": "execute_result",
          "data": {
            "text/plain": [
              "True"
            ]
          },
          "metadata": {
            "tags": []
          },
          "execution_count": 23
        }
      ]
    },
    {
      "cell_type": "code",
      "metadata": {
        "id": "KvJX_qES0vOY",
        "colab_type": "code",
        "colab": {
          "base_uri": "https://localhost:8080/",
          "height": 35
        },
        "outputId": "5ce7b028-ab62-4b53-f96b-c933474a29a6"
      },
      "source": [
        "divisivel(12,3,4)"
      ],
      "execution_count": null,
      "outputs": [
        {
          "output_type": "execute_result",
          "data": {
            "text/plain": [
              "True"
            ]
          },
          "metadata": {
            "tags": []
          },
          "execution_count": 24
        }
      ]
    },
    {
      "cell_type": "code",
      "metadata": {
        "id": "gHgjsKh80yOC",
        "colab_type": "code",
        "colab": {
          "base_uri": "https://localhost:8080/",
          "height": 36
        },
        "outputId": "825ae677-f7ab-4b73-c6c9-cb6662b63a81"
      },
      "source": [
        "#Função que retorna a primeira letra upper\n",
        "\n",
        "def upWord(word):\n",
        "  return word.capitalize()\n",
        "\n",
        "upWord(\"FeLiPE\")"
      ],
      "execution_count": null,
      "outputs": [
        {
          "output_type": "execute_result",
          "data": {
            "application/vnd.google.colaboratory.intrinsic+json": {
              "type": "string"
            },
            "text/plain": [
              "'Felipe'"
            ]
          },
          "metadata": {
            "tags": []
          },
          "execution_count": 27
        }
      ]
    },
    {
      "cell_type": "code",
      "metadata": {
        "id": "AzlWB0ms1JzP",
        "colab_type": "code",
        "colab": {
          "base_uri": "https://localhost:8080/",
          "height": 35
        },
        "outputId": "61aa5073-9137-47e5-ca43-0bc73bb03b23"
      },
      "source": [
        "#Função recebe km/h e retorna cm/s\n",
        "\n",
        "def cm_speed(s):\n",
        "  return round(((s/3.6*100)-0.5),0)\n",
        "\n",
        "cm_speed(1.08)"
      ],
      "execution_count": null,
      "outputs": [
        {
          "output_type": "execute_result",
          "data": {
            "text/plain": [
              "30.0"
            ]
          },
          "metadata": {
            "tags": []
          },
          "execution_count": 28
        }
      ]
    },
    {
      "cell_type": "code",
      "metadata": {
        "id": "bzLuP_mc7WQB",
        "colab_type": "code",
        "colab": {
          "base_uri": "https://localhost:8080/",
          "height": 35
        },
        "outputId": "fdbe72c6-cbb3-4269-99c2-d8b933f565f1"
      },
      "source": [
        "def cm_speed(s):\n",
        "  return s // 0.036\n",
        "cm_speed(2.5894)"
      ],
      "execution_count": null,
      "outputs": [
        {
          "output_type": "execute_result",
          "data": {
            "text/plain": [
              "71.0"
            ]
          },
          "metadata": {
            "tags": []
          },
          "execution_count": 34
        }
      ]
    },
    {
      "cell_type": "code",
      "metadata": {
        "id": "5QTDi-JW6TFU",
        "colab_type": "code",
        "colab": {
          "base_uri": "https://localhost:8080/",
          "height": 35
        },
        "outputId": "259027c3-359d-4440-ad17-fd57596749da"
      },
      "source": [
        "cm_speed = lambda s: (s//0.036)\n",
        "\n",
        "cm_speed(1.09)"
      ],
      "execution_count": null,
      "outputs": [
        {
          "output_type": "execute_result",
          "data": {
            "text/plain": [
              "30.0"
            ]
          },
          "metadata": {
            "tags": []
          },
          "execution_count": 31
        }
      ]
    },
    {
      "cell_type": "code",
      "metadata": {
        "id": "sN9fLCLI7RHO",
        "colab_type": "code",
        "colab": {
          "base_uri": "https://localhost:8080/",
          "height": 36
        },
        "outputId": "badfa7e2-4a11-45dd-e2d7-fbd162268bf8"
      },
      "source": [
        "#Função que repete uma string\n",
        "\n",
        "def repeat(repeat,string):\n",
        "  return string * repeat\n",
        "\n",
        "repeat(4,\"hello \")"
      ],
      "execution_count": null,
      "outputs": [
        {
          "output_type": "execute_result",
          "data": {
            "application/vnd.google.colaboratory.intrinsic+json": {
              "type": "string"
            },
            "text/plain": [
              "'hello hello hello hello '"
            ]
          },
          "metadata": {
            "tags": []
          },
          "execution_count": 36
        }
      ]
    },
    {
      "cell_type": "code",
      "metadata": {
        "id": "RwF4hoe79Kts",
        "colab_type": "code",
        "colab": {
          "base_uri": "https://localhost:8080/",
          "height": 36
        },
        "outputId": "420d1222-4c1c-4d6a-c3c0-71b6f1bc6edb"
      },
      "source": [
        "#Função retorna float ou None\n",
        "\n",
        "def parse_float(num):\n",
        "  try:\n",
        "    return float(num)\n",
        "  except:\n",
        "    return \"None\"\n",
        "parse_float(\"fe\")"
      ],
      "execution_count": null,
      "outputs": [
        {
          "output_type": "execute_result",
          "data": {
            "application/vnd.google.colaboratory.intrinsic+json": {
              "type": "string"
            },
            "text/plain": [
              "'None'"
            ]
          },
          "metadata": {
            "tags": []
          },
          "execution_count": 58
        }
      ]
    },
    {
      "cell_type": "code",
      "metadata": {
        "id": "XCyMkn6tTo3c",
        "colab_type": "code",
        "colab": {
          "base_uri": "https://localhost:8080/",
          "height": 36
        },
        "outputId": "2b4f7a1a-2994-4876-cb61-e59455386870"
      },
      "source": [
        "#Função que cumprimenta as pessoas que chegam a Enterprise\n",
        "def enterprise(name):\n",
        "  return \"Hello, \"+ name\n",
        "\n",
        "enterprise(\"Mr. Spock\")"
      ],
      "execution_count": null,
      "outputs": [
        {
          "output_type": "execute_result",
          "data": {
            "application/vnd.google.colaboratory.intrinsic+json": {
              "type": "string"
            },
            "text/plain": [
              "'Hello, Mr. Spock'"
            ]
          },
          "metadata": {
            "tags": []
          },
          "execution_count": 68
        }
      ]
    },
    {
      "cell_type": "code",
      "metadata": {
        "id": "A1I9an-NVoZU",
        "colab_type": "code",
        "colab": {
          "base_uri": "https://localhost:8080/",
          "height": 109
        },
        "outputId": "7f6b97ba-5e93-4d59-f3a1-91af0ba6bb39"
      },
      "source": [
        "names = ['Mr. Spock','Captain Kirk','Liutenant Uhura','Dr. McCoy','Mr. Scott']\n",
        "\n",
        "for i in range(len(names)):\n",
        "  print(enterprise(names[i]))"
      ],
      "execution_count": null,
      "outputs": [
        {
          "output_type": "stream",
          "text": [
            "Hello, Mr. Spock\n",
            "Hello, Captain Kirk\n",
            "Hello, Liutenant Uhura\n",
            "Hello, Dr. McCoy\n",
            "Hello, Mr. Scott\n"
          ],
          "name": "stdout"
        }
      ]
    },
    {
      "cell_type": "code",
      "metadata": {
        "id": "v6eFV5H1Y-yr",
        "colab_type": "code",
        "colab": {}
      },
      "source": [
        "say_hello =  lambda names:\"Olá, {}\".format(names)"
      ],
      "execution_count": null,
      "outputs": []
    },
    {
      "cell_type": "code",
      "metadata": {
        "id": "L6ozXjJsYVCZ",
        "colab_type": "code",
        "colab": {
          "base_uri": "https://localhost:8080/",
          "height": 109
        },
        "outputId": "70fa21a7-215b-4fc9-bc94-be9216be9a85"
      },
      "source": [
        "for i in range(len(names)):\n",
        "  print(say_hello(names[i]))"
      ],
      "execution_count": null,
      "outputs": [
        {
          "output_type": "stream",
          "text": [
            "Olá, Mr. Spock\n",
            "Olá, Captain Kirk\n",
            "Olá, Liutenant Uhura\n",
            "Olá, Dr. McCoy\n",
            "Olá, Mr. Scott\n"
          ],
          "name": "stdout"
        }
      ]
    },
    {
      "cell_type": "code",
      "metadata": {
        "id": "8_yt6YidZU8x",
        "colab_type": "code",
        "colab": {}
      },
      "source": [
        "# Função transforma Farenheit to Celsius\n",
        "\n",
        "def weather_info (temp):\n",
        "    c = convert(temp)\n",
        "    if (c > 0):\n",
        "        return (str(c) +\" is above freezing temperature\")\n",
        "    else:\n",
        "        return (str(c) + \" is freezing temperature\")\n",
        "    \n",
        "def convert(temperatur):\n",
        "  celsius = (temperatur - 32) * (5/9)\n",
        "  return celsius"
      ],
      "execution_count": null,
      "outputs": []
    },
    {
      "cell_type": "code",
      "metadata": {
        "id": "5dyRuMlPtSBk",
        "colab_type": "code",
        "colab": {
          "base_uri": "https://localhost:8080/",
          "height": 36
        },
        "outputId": "d08e37d6-95b8-485e-9c7c-4db655cc99cb"
      },
      "source": [
        "weather_info(2)"
      ],
      "execution_count": null,
      "outputs": [
        {
          "output_type": "execute_result",
          "data": {
            "application/vnd.google.colaboratory.intrinsic+json": {
              "type": "string"
            },
            "text/plain": [
              "'-16.666666666666668 is freezing temperature'"
            ]
          },
          "metadata": {
            "tags": []
          },
          "execution_count": 29
        }
      ]
    },
    {
      "cell_type": "code",
      "metadata": {
        "id": "KoznUfYTwjzh",
        "colab_type": "code",
        "colab": {}
      },
      "source": [
        "def weather_i(t):\n",
        "  c = (t - 32) * (5.0 /9)\n",
        "  return str(c) + \" is freezing temperature\" if c <= 0 else str(c) + \" is above freezing temperature\""
      ],
      "execution_count": null,
      "outputs": []
    },
    {
      "cell_type": "code",
      "metadata": {
        "id": "bZ-AS640wl_q",
        "colab_type": "code",
        "colab": {
          "base_uri": "https://localhost:8080/",
          "height": 36
        },
        "outputId": "82834eb6-9142-4640-ee0a-c64a8ac6e140"
      },
      "source": [
        "weather_i(50)"
      ],
      "execution_count": null,
      "outputs": [
        {
          "output_type": "execute_result",
          "data": {
            "application/vnd.google.colaboratory.intrinsic+json": {
              "type": "string"
            },
            "text/plain": [
              "'10.0 is above freezing temperature'"
            ]
          },
          "metadata": {
            "tags": []
          },
          "execution_count": 28
        }
      ]
    },
    {
      "cell_type": "code",
      "metadata": {
        "id": "eo49AFrSzYuP",
        "colab_type": "code",
        "colab": {}
      },
      "source": [
        "# Função retorna área se for quadrado \n",
        "# ou perímetro caso rettângulo\n",
        "def area_or_perimeter(l , w):\n",
        "    if l==w:\n",
        "        return l*l\n",
        "    else:\n",
        "        return (2*l) + (2*w)"
      ],
      "execution_count": null,
      "outputs": []
    },
    {
      "cell_type": "code",
      "metadata": {
        "id": "WpZyOQyMzoJP",
        "colab_type": "code",
        "colab": {
          "base_uri": "https://localhost:8080/",
          "height": 35
        },
        "outputId": "3f2e9bef-2f7f-4924-fc0c-1363a28a0ba6"
      },
      "source": [
        "area_or_perimeter(4, 4)"
      ],
      "execution_count": null,
      "outputs": [
        {
          "output_type": "execute_result",
          "data": {
            "text/plain": [
              "16"
            ]
          },
          "metadata": {
            "tags": []
          },
          "execution_count": 31
        }
      ]
    },
    {
      "cell_type": "code",
      "metadata": {
        "id": "kI1NGBy8zxox",
        "colab_type": "code",
        "colab": {}
      },
      "source": [
        "def area_ou_perimeter(l, w):\n",
        "    return l * w if l == w else (l + w) * 2"
      ],
      "execution_count": null,
      "outputs": []
    },
    {
      "cell_type": "code",
      "metadata": {
        "id": "5eov2Otwz1sL",
        "colab_type": "code",
        "colab": {
          "base_uri": "https://localhost:8080/",
          "height": 35
        },
        "outputId": "12b20583-6e1a-4965-cefd-d80283442c56"
      },
      "source": [
        "area_ou_perimeter(4, 4)"
      ],
      "execution_count": null,
      "outputs": [
        {
          "output_type": "execute_result",
          "data": {
            "text/plain": [
              "16"
            ]
          },
          "metadata": {
            "tags": []
          },
          "execution_count": 33
        }
      ]
    },
    {
      "cell_type": "code",
      "metadata": {
        "id": "3Cnq4lVcz57Q",
        "colab_type": "code",
        "colab": {}
      },
      "source": [
        "area_perimeter = lambda a, b : a * b if a == b else 2 * (a + b)"
      ],
      "execution_count": null,
      "outputs": []
    },
    {
      "cell_type": "code",
      "metadata": {
        "id": "ZROrj8Jrz8z_",
        "colab_type": "code",
        "colab": {
          "base_uri": "https://localhost:8080/",
          "height": 35
        },
        "outputId": "daa56333-94b3-40d7-8f4b-40c95a2c96de"
      },
      "source": [
        "area_perimeter(4, 4)"
      ],
      "execution_count": null,
      "outputs": [
        {
          "output_type": "execute_result",
          "data": {
            "text/plain": [
              "16"
            ]
          },
          "metadata": {
            "tags": []
          },
          "execution_count": 35
        }
      ]
    },
    {
      "cell_type": "code",
      "metadata": {
        "id": "pwCamHgi0zca",
        "colab_type": "code",
        "colab": {
          "base_uri": "https://localhost:8080/",
          "height": 35
        },
        "outputId": "c7f3336f-be3e-4d5f-dcc1-81da086033ea"
      },
      "source": [
        "# Variáveis\n",
        "\n",
        "la_liga_goals = 43\n",
        "champions_league_goals = 10\n",
        "copa_del_rey_goals = 5\n",
        "\n",
        "total_goals = la_liga_goals + champions_league_goals + copa_del_rey_goals\n",
        "total_goals"
      ],
      "execution_count": null,
      "outputs": [
        {
          "output_type": "execute_result",
          "data": {
            "text/plain": [
              "58"
            ]
          },
          "metadata": {
            "tags": []
          },
          "execution_count": 37
        }
      ]
    },
    {
      "cell_type": "code",
      "metadata": {
        "id": "gStt4Tfm2E8_",
        "colab_type": "code",
        "colab": {}
      },
      "source": [
        "# Função recebe horas e retorna a menor quantidade\n",
        "# de litros de água\n",
        "def litres(time):\n",
        "    return (time*0.5)//1"
      ],
      "execution_count": null,
      "outputs": []
    },
    {
      "cell_type": "code",
      "metadata": {
        "id": "8t7gvB8Q2TDu",
        "colab_type": "code",
        "colab": {
          "base_uri": "https://localhost:8080/",
          "height": 35
        },
        "outputId": "985c2de7-bd20-4779-c7d6-39e1966b064b"
      },
      "source": [
        "litres(2)"
      ],
      "execution_count": null,
      "outputs": [
        {
          "output_type": "execute_result",
          "data": {
            "text/plain": [
              "1.0"
            ]
          },
          "metadata": {
            "tags": []
          },
          "execution_count": 42
        }
      ]
    },
    {
      "cell_type": "code",
      "metadata": {
        "id": "mq0NXli12aBA",
        "colab_type": "code",
        "colab": {}
      },
      "source": [
        "litros = lambda time : (time*0.5)//1"
      ],
      "execution_count": null,
      "outputs": []
    },
    {
      "cell_type": "code",
      "metadata": {
        "id": "Ltp7S2Fv2n2H",
        "colab_type": "code",
        "colab": {
          "base_uri": "https://localhost:8080/",
          "height": 35
        },
        "outputId": "8187933d-f6d3-4e86-92e8-f247b20884c9"
      },
      "source": [
        "litros(3)"
      ],
      "execution_count": null,
      "outputs": [
        {
          "output_type": "execute_result",
          "data": {
            "text/plain": [
              "1"
            ]
          },
          "metadata": {
            "tags": []
          },
          "execution_count": 48
        }
      ]
    },
    {
      "cell_type": "code",
      "metadata": {
        "id": "62j-AAY723Sg",
        "colab_type": "code",
        "colab": {}
      },
      "source": [
        "litros = lambda time : time//2"
      ],
      "execution_count": null,
      "outputs": []
    },
    {
      "cell_type": "code",
      "metadata": {
        "id": "M9m0VwyDCegT",
        "colab_type": "code",
        "colab": {}
      },
      "source": [
        "# Função retorna Fail!, Publish! ou A smell a series!\n",
        "\n",
        "def well(x):\n",
        "    if x.count('good') <1: return 'Fail!'\n",
        "    elif x.count('good')<2: return 'Publish!'\n",
        "    else: return'I smell a series!'\n",
        "    return "
      ],
      "execution_count": 10,
      "outputs": []
    },
    {
      "cell_type": "code",
      "metadata": {
        "id": "9tYmum0lCgQ4",
        "colab_type": "code",
        "colab": {
          "base_uri": "https://localhost:8080/",
          "height": 36
        },
        "outputId": "6dddfdb0-27ff-4f33-afc8-11c53e8c145a"
      },
      "source": [
        "well(['bad', 'bad', 'bad'])"
      ],
      "execution_count": 11,
      "outputs": [
        {
          "output_type": "execute_result",
          "data": {
            "application/vnd.google.colaboratory.intrinsic+json": {
              "type": "string"
            },
            "text/plain": [
              "'Fail'"
            ]
          },
          "metadata": {
            "tags": []
          },
          "execution_count": 11
        }
      ]
    },
    {
      "cell_type": "code",
      "metadata": {
        "id": "ucMM88mxDtrt",
        "colab_type": "code",
        "colab": {
          "base_uri": "https://localhost:8080/",
          "height": 36
        },
        "outputId": "d7522376-8b40-4ca2-8432-23f74d04309f"
      },
      "source": [
        "well(['good', 'bad', 'bad', 'bad', 'bad'])"
      ],
      "execution_count": 12,
      "outputs": [
        {
          "output_type": "execute_result",
          "data": {
            "application/vnd.google.colaboratory.intrinsic+json": {
              "type": "string"
            },
            "text/plain": [
              "'Publish!'"
            ]
          },
          "metadata": {
            "tags": []
          },
          "execution_count": 12
        }
      ]
    },
    {
      "cell_type": "code",
      "metadata": {
        "id": "zd4sLdwxDtk6",
        "colab_type": "code",
        "colab": {
          "base_uri": "https://localhost:8080/",
          "height": 36
        },
        "outputId": "2af8c3c4-a54f-4f24-c8b3-f74ed84a17c0"
      },
      "source": [
        "well(['good', 'bad', 'bad', 'bad', 'bad', 'good', 'bad', 'bad', 'good'])"
      ],
      "execution_count": 14,
      "outputs": [
        {
          "output_type": "execute_result",
          "data": {
            "application/vnd.google.colaboratory.intrinsic+json": {
              "type": "string"
            },
            "text/plain": [
              "'I smell a series!'"
            ]
          },
          "metadata": {
            "tags": []
          },
          "execution_count": 14
        }
      ]
    },
    {
      "cell_type": "code",
      "metadata": {
        "id": "rSqfyJpJD0u9",
        "colab_type": "code",
        "colab": {}
      },
      "source": [
        "def well(x):\n",
        "    c = x.count('good')\n",
        "    return 'I smell a series!' if c > 2 else 'Publish!' if c else 'Fail!'"
      ],
      "execution_count": null,
      "outputs": []
    },
    {
      "cell_type": "code",
      "metadata": {
        "id": "OES5eaFoWp3y",
        "colab_type": "code",
        "colab": {}
      },
      "source": [
        "#Função recebe um numero e retorna uma lista\n",
        "\n",
        "def monkey_count(n):\n",
        "   return list((range(1,n+1)))\n"
      ],
      "execution_count": 31,
      "outputs": []
    },
    {
      "cell_type": "code",
      "metadata": {
        "id": "V5_cSysKWzA5",
        "colab_type": "code",
        "colab": {
          "base_uri": "https://localhost:8080/",
          "height": 35
        },
        "outputId": "72cca566-b2dd-4a37-a2f3-427225724a1a"
      },
      "source": [
        "monkey_count(5)"
      ],
      "execution_count": 32,
      "outputs": [
        {
          "output_type": "execute_result",
          "data": {
            "text/plain": [
              "[1, 2, 3, 4, 5]"
            ]
          },
          "metadata": {
            "tags": []
          },
          "execution_count": 32
        }
      ]
    },
    {
      "cell_type": "code",
      "metadata": {
        "id": "Z1pMjCdEYpWl",
        "colab_type": "code",
        "colab": {}
      },
      "source": [
        "# Função que recebe uma lista e retorna a soma do quadrado de cada numero\n",
        "def square_sum(numbers):\n",
        "    sum=0\n",
        "    for i in range(len(numbers)):\n",
        "        sum =sum+(numbers[i])**2\n",
        "    return sum\n"
      ],
      "execution_count": 55,
      "outputs": []
    },
    {
      "cell_type": "code",
      "metadata": {
        "id": "fqoAmpLdamPE",
        "colab_type": "code",
        "colab": {
          "base_uri": "https://localhost:8080/",
          "height": 35
        },
        "outputId": "c787ab88-7811-4753-80c5-c88a6ab83079"
      },
      "source": [
        "square_sum([0, 3, 4, 5])"
      ],
      "execution_count": 57,
      "outputs": [
        {
          "output_type": "execute_result",
          "data": {
            "text/plain": [
              "50"
            ]
          },
          "metadata": {
            "tags": []
          },
          "execution_count": 57
        }
      ]
    },
    {
      "cell_type": "code",
      "metadata": {
        "id": "vCav4HNya49d",
        "colab_type": "code",
        "colab": {
          "base_uri": "https://localhost:8080/",
          "height": 35
        },
        "outputId": "0d54ff16-5079-4ddd-8b78-5916ecb53071"
      },
      "source": [
        "def square_s(numbers):\n",
        "    return sum(x ** 2 for x in numbers)\n",
        "\n",
        "square_s([0, 3, 4, 5])"
      ],
      "execution_count": 58,
      "outputs": [
        {
          "output_type": "execute_result",
          "data": {
            "text/plain": [
              "50"
            ]
          },
          "metadata": {
            "tags": []
          },
          "execution_count": 58
        }
      ]
    }
  ]
}