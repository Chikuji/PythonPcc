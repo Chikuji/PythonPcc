{
  "nbformat": 4,
  "nbformat_minor": 0,
  "metadata": {
    "colab": {
      "name": "FunçõesBasicas_08_2020.ipynb",
      "provenance": [],
      "authorship_tag": "ABX9TyM3Kc2Dc1Rf7oFy9x8ok5HH",
      "include_colab_link": true
    },
    "kernelspec": {
      "name": "python3",
      "display_name": "Python 3"
    }
  },
  "cells": [
    {
      "cell_type": "markdown",
      "metadata": {
        "id": "view-in-github",
        "colab_type": "text"
      },
      "source": [
        "<a href=\"https://colab.research.google.com/github/Chikuji/PythonPcc/blob/master/Fun%C3%A7%C3%B5esBasicas_08_2020.ipynb\" target=\"_parent\"><img src=\"https://colab.research.google.com/assets/colab-badge.svg\" alt=\"Open In Colab\"/></a>"
      ]
    },
    {
      "cell_type": "code",
      "metadata": {
        "id": "N0JQ67Qerb3l",
        "colab_type": "code",
        "colab": {
          "base_uri": "https://localhost:8080/",
          "height": 36
        },
        "outputId": "9e3fcd02-ad09-4e9f-dae3-3143d7370e7e"
      },
      "source": [
        "#Função hello world\n",
        "\n",
        "def greet():\n",
        "    return \"hello world!\"\n",
        "\n",
        "greet()"
      ],
      "execution_count": 3,
      "outputs": [
        {
          "output_type": "execute_result",
          "data": {
            "application/vnd.google.colaboratory.intrinsic+json": {
              "type": "string"
            },
            "text/plain": [
              "'hello world!'"
            ]
          },
          "metadata": {
            "tags": []
          },
          "execution_count": 3
        }
      ]
    },
    {
      "cell_type": "code",
      "metadata": {
        "id": "RluedbrQsuGw",
        "colab_type": "code",
        "colab": {}
      },
      "source": [
        "#Função retorna a quarter of month\n",
        "def quarter(month):\n",
        "  if month/12 <=0.25:\n",
        "    return 1\n",
        "  elif month/12 <=0.5:\n",
        "    return 2\n",
        "  elif month/12<=0.75:\n",
        "    return 3\n",
        "  else:\n",
        "    return 4"
      ],
      "execution_count": 6,
      "outputs": []
    },
    {
      "cell_type": "code",
      "metadata": {
        "id": "bp_3hs07t8lb",
        "colab_type": "code",
        "colab": {
          "base_uri": "https://localhost:8080/",
          "height": 35
        },
        "outputId": "c83557df-e92f-458f-fc78-3c0f85241c14"
      },
      "source": [
        "quarter(7)"
      ],
      "execution_count": 8,
      "outputs": [
        {
          "output_type": "execute_result",
          "data": {
            "text/plain": [
              "3"
            ]
          },
          "metadata": {
            "tags": []
          },
          "execution_count": 8
        }
      ]
    },
    {
      "cell_type": "code",
      "metadata": {
        "id": "OGVsPrK0uNJ5",
        "colab_type": "code",
        "colab": {
          "base_uri": "https://localhost:8080/",
          "height": 35
        },
        "outputId": "b9da1335-41a2-4c3b-96d3-a1a3b9451af5"
      },
      "source": [
        "def quarter_of(m):\n",
        "  return (m+2)//3\n",
        "\n",
        "quarter_of(7)"
      ],
      "execution_count": 10,
      "outputs": [
        {
          "output_type": "execute_result",
          "data": {
            "text/plain": [
              "3"
            ]
          },
          "metadata": {
            "tags": []
          },
          "execution_count": 10
        }
      ]
    },
    {
      "cell_type": "code",
      "metadata": {
        "id": "VQ2u8liaupdk",
        "colab_type": "code",
        "colab": {
          "base_uri": "https://localhost:8080/",
          "height": 35
        },
        "outputId": "c40cefc7-e448-4be1-9262-5c40ea3ba566"
      },
      "source": [
        "#Função retorna numeros multiplos\n",
        "def multiplos(inicio,limite):\n",
        "  return list(range(inicio,limite+1,inicio))\n",
        "multiplos(5,25)"
      ],
      "execution_count": 11,
      "outputs": [
        {
          "output_type": "execute_result",
          "data": {
            "text/plain": [
              "[5, 10, 15, 20, 25]"
            ]
          },
          "metadata": {
            "tags": []
          },
          "execution_count": 11
        }
      ]
    },
    {
      "cell_type": "code",
      "metadata": {
        "id": "VERzjBUfvYH0",
        "colab_type": "code",
        "colab": {
          "base_uri": "https://localhost:8080/",
          "height": 35
        },
        "outputId": "a24fa171-34f3-4ff5-b95a-2db8b861d496"
      },
      "source": [
        "#Função retorna o calculo de uma prova\n",
        "def exam(arr1,arr2):\n",
        "  score=0\n",
        "  for i in range(4):\n",
        "    if arr1[i]==arr2[i]:\n",
        "      score=score+4\n",
        "    elif arr2[i]==\"\":\n",
        "      score=score+0\n",
        "    else:\n",
        "      score=score-1\n",
        "  if score<0:\n",
        "    score=0\n",
        "  return score\n",
        "\n",
        "exam([\"a\",\"b\",\"c\",\"d\"],[\"d\",\"b\",\"\",\"d\"])"
      ],
      "execution_count": 20,
      "outputs": [
        {
          "output_type": "execute_result",
          "data": {
            "text/plain": [
              "7"
            ]
          },
          "metadata": {
            "tags": []
          },
          "execution_count": 20
        }
      ]
    },
    {
      "cell_type": "code",
      "metadata": {
        "id": "REXDuwFgwVxV",
        "colab_type": "code",
        "colab": {
          "base_uri": "https://localhost:8080/",
          "height": 35
        },
        "outputId": "91c32a31-9808-48af-edc5-0c20972e2fd1"
      },
      "source": [
        "def check_exam(arr1,arr2):\n",
        "  return max(0,sum(4 if a==b else -1 for a,b in zip(arr1,arr2)if b))\n",
        "check_exam([\"a\",\"b\",\"c\",\"d\"],[\"d\",\"b\",\"\",\"d\"])\n"
      ],
      "execution_count": 22,
      "outputs": [
        {
          "output_type": "execute_result",
          "data": {
            "text/plain": [
              "7"
            ]
          },
          "metadata": {
            "tags": []
          },
          "execution_count": 22
        }
      ]
    },
    {
      "cell_type": "code",
      "metadata": {
        "id": "fUMAS0Yezp9t",
        "colab_type": "code",
        "colab": {
          "base_uri": "https://localhost:8080/",
          "height": 35
        },
        "outputId": "b0780e88-aa95-4215-dba0-a253ba8a6063"
      },
      "source": [
        "#Função retorna true se n for divisivel por x e y\n",
        "\n",
        "def divisivel(n,x,y):\n",
        "  return bool(n%x==0 and n%y==0)\n",
        "\n",
        "divisivel(3,1,3)\n"
      ],
      "execution_count": 23,
      "outputs": [
        {
          "output_type": "execute_result",
          "data": {
            "text/plain": [
              "True"
            ]
          },
          "metadata": {
            "tags": []
          },
          "execution_count": 23
        }
      ]
    },
    {
      "cell_type": "code",
      "metadata": {
        "id": "KvJX_qES0vOY",
        "colab_type": "code",
        "colab": {
          "base_uri": "https://localhost:8080/",
          "height": 35
        },
        "outputId": "5ce7b028-ab62-4b53-f96b-c933474a29a6"
      },
      "source": [
        "divisivel(12,3,4)"
      ],
      "execution_count": 24,
      "outputs": [
        {
          "output_type": "execute_result",
          "data": {
            "text/plain": [
              "True"
            ]
          },
          "metadata": {
            "tags": []
          },
          "execution_count": 24
        }
      ]
    },
    {
      "cell_type": "code",
      "metadata": {
        "id": "gHgjsKh80yOC",
        "colab_type": "code",
        "colab": {
          "base_uri": "https://localhost:8080/",
          "height": 36
        },
        "outputId": "825ae677-f7ab-4b73-c6c9-cb6662b63a81"
      },
      "source": [
        "#Função que retorna a primeira letra upper\n",
        "\n",
        "def upWord(word):\n",
        "  return word.capitalize()\n",
        "\n",
        "upWord(\"FeLiPE\")"
      ],
      "execution_count": 27,
      "outputs": [
        {
          "output_type": "execute_result",
          "data": {
            "application/vnd.google.colaboratory.intrinsic+json": {
              "type": "string"
            },
            "text/plain": [
              "'Felipe'"
            ]
          },
          "metadata": {
            "tags": []
          },
          "execution_count": 27
        }
      ]
    },
    {
      "cell_type": "code",
      "metadata": {
        "id": "AzlWB0ms1JzP",
        "colab_type": "code",
        "colab": {}
      },
      "source": [
        ""
      ],
      "execution_count": null,
      "outputs": []
    }
  ]
}