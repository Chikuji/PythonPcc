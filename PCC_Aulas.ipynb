{
  "nbformat": 4,
  "nbformat_minor": 0,
  "metadata": {
    "colab": {
      "name": "PCC-08-05-2020.ipynb",
      "provenance": [],
      "collapsed_sections": [],
      "authorship_tag": "ABX9TyMuFuOU4U04mhlF7kd03k/+",
      "include_colab_link": true
    },
    "kernelspec": {
      "name": "python3",
      "display_name": "Python 3"
    }
  },
  "cells": [
    {
      "cell_type": "markdown",
      "metadata": {
        "id": "view-in-github",
        "colab_type": "text"
      },
      "source": [
        "<a href=\"https://colab.research.google.com/github/Chikuji/PythonPcc/blob/master/PCC_Aulas.ipynb\" target=\"_parent\"><img src=\"https://colab.research.google.com/assets/colab-badge.svg\" alt=\"Open In Colab\"/></a>"
      ]
    },
    {
      "cell_type": "markdown",
      "metadata": {
        "id": "QjUaZJoIeh6y",
        "colab_type": "text"
      },
      "source": [
        "# AULA DO DIA 08/05/2020"
      ]
    },
    {
      "cell_type": "code",
      "metadata": {
        "id": "xCMRaL8NZvoK",
        "colab_type": "code",
        "colab": {}
      },
      "source": [
        "TUPLA E DICIONARIO"
      ],
      "execution_count": 0,
      "outputs": []
    },
    {
      "cell_type": "code",
      "metadata": {
        "id": "Vld5Z52EXZ5L",
        "colab_type": "code",
        "outputId": "6d7a7cc3-47c3-4c0d-9ab6-0366415f9d10",
        "colab": {
          "base_uri": "https://localhost:8080/",
          "height": 33
        }
      },
      "source": [
        "a = (1,2,5,'aaa')\n",
        "a[2]"
      ],
      "execution_count": 0,
      "outputs": [
        {
          "output_type": "execute_result",
          "data": {
            "text/plain": [
              "5"
            ]
          },
          "metadata": {
            "tags": []
          },
          "execution_count": 1
        }
      ]
    },
    {
      "cell_type": "code",
      "metadata": {
        "id": "iRX_NQprZseX",
        "colab_type": "code",
        "outputId": "b48155bd-dcdb-4542-fad4-7abf4e9c6587",
        "colab": {
          "base_uri": "https://localhost:8080/",
          "height": 33
        }
      },
      "source": [
        "a[1:3]"
      ],
      "execution_count": 0,
      "outputs": [
        {
          "output_type": "execute_result",
          "data": {
            "text/plain": [
              "(2, 5)"
            ]
          },
          "metadata": {
            "tags": []
          },
          "execution_count": 2
        }
      ]
    },
    {
      "cell_type": "code",
      "metadata": {
        "id": "EyRTTSvGZ2Dt",
        "colab_type": "code",
        "outputId": "708c8ab4-9691-4759-d840-196c0115c2c7",
        "colab": {
          "base_uri": "https://localhost:8080/",
          "height": 33
        }
      },
      "source": [
        "tupla = (\"A\",\"B\",\"C\",\"D\")\n",
        "print(tupla[0:3])"
      ],
      "execution_count": 0,
      "outputs": [
        {
          "output_type": "stream",
          "text": [
            "('A', 'B', 'C')\n"
          ],
          "name": "stdout"
        }
      ]
    },
    {
      "cell_type": "code",
      "metadata": {
        "id": "GgEJX_40aCTU",
        "colab_type": "code",
        "outputId": "3fd55bcb-672f-42d3-feff-4ce2e99ad959",
        "colab": {
          "base_uri": "https://localhost:8080/",
          "height": 33
        }
      },
      "source": [
        "tupla = (\"A\",\"B\",\"C\",\"D\")\n",
        "print(tupla[1:15])"
      ],
      "execution_count": 0,
      "outputs": [
        {
          "output_type": "stream",
          "text": [
            "('B', 'C', 'D')\n"
          ],
          "name": "stdout"
        }
      ]
    },
    {
      "cell_type": "code",
      "metadata": {
        "id": "KwMj7YIIabC2",
        "colab_type": "code",
        "outputId": "615e4625-9aab-4377-8841-c1e8b2c10e31",
        "colab": {
          "base_uri": "https://localhost:8080/",
          "height": 175
        }
      },
      "source": [
        "a = (1,2,5,'aaa')\n",
        "a[2] = 9 # não permite trocar os elementos"
      ],
      "execution_count": 0,
      "outputs": [
        {
          "output_type": "error",
          "ename": "TypeError",
          "evalue": "ignored",
          "traceback": [
            "\u001b[0;31m---------------------------------------------------------------------------\u001b[0m",
            "\u001b[0;31mTypeError\u001b[0m                                 Traceback (most recent call last)",
            "\u001b[0;32m<ipython-input-7-011205ffc484>\u001b[0m in \u001b[0;36m<module>\u001b[0;34m()\u001b[0m\n\u001b[1;32m      1\u001b[0m \u001b[0ma\u001b[0m \u001b[0;34m=\u001b[0m \u001b[0;34m(\u001b[0m\u001b[0;36m1\u001b[0m\u001b[0;34m,\u001b[0m\u001b[0;36m2\u001b[0m\u001b[0;34m,\u001b[0m\u001b[0;36m5\u001b[0m\u001b[0;34m,\u001b[0m\u001b[0;34m'aaa'\u001b[0m\u001b[0;34m)\u001b[0m\u001b[0;34m\u001b[0m\u001b[0;34m\u001b[0m\u001b[0m\n\u001b[0;32m----> 2\u001b[0;31m \u001b[0ma\u001b[0m\u001b[0;34m[\u001b[0m\u001b[0;36m2\u001b[0m\u001b[0;34m]\u001b[0m \u001b[0;34m=\u001b[0m \u001b[0;36m9\u001b[0m\u001b[0;34m\u001b[0m\u001b[0;34m\u001b[0m\u001b[0m\n\u001b[0m",
            "\u001b[0;31mTypeError\u001b[0m: 'tuple' object does not support item assignment"
          ]
        }
      ]
    },
    {
      "cell_type": "code",
      "metadata": {
        "id": "dMFxkNu2aqEg",
        "colab_type": "code",
        "outputId": "6eb1a7c0-dc6b-4486-a24a-4f371685e377",
        "colab": {
          "base_uri": "https://localhost:8080/",
          "height": 33
        }
      },
      "source": [
        "x,y=(9,10) # desempacotamento\n",
        "x"
      ],
      "execution_count": 0,
      "outputs": [
        {
          "output_type": "execute_result",
          "data": {
            "text/plain": [
              "9"
            ]
          },
          "metadata": {
            "tags": []
          },
          "execution_count": 8
        }
      ]
    },
    {
      "cell_type": "code",
      "metadata": {
        "id": "36fpAQ3raume",
        "colab_type": "code",
        "outputId": "9999ef64-ff3e-4e8b-c548-b5a91c5454db",
        "colab": {
          "base_uri": "https://localhost:8080/",
          "height": 33
        }
      },
      "source": [
        "y"
      ],
      "execution_count": 0,
      "outputs": [
        {
          "output_type": "execute_result",
          "data": {
            "text/plain": [
              "10"
            ]
          },
          "metadata": {
            "tags": []
          },
          "execution_count": 9
        }
      ]
    },
    {
      "cell_type": "code",
      "metadata": {
        "id": "HWv79MpEavdy",
        "colab_type": "code",
        "outputId": "8fb7ce7b-00ed-4078-82a7-69c82396beff",
        "colab": {
          "base_uri": "https://localhost:8080/",
          "height": 33
        }
      },
      "source": [
        "67,90 # empacotamento"
      ],
      "execution_count": 0,
      "outputs": [
        {
          "output_type": "execute_result",
          "data": {
            "text/plain": [
              "(67, 90)"
            ]
          },
          "metadata": {
            "tags": []
          },
          "execution_count": 10
        }
      ]
    },
    {
      "cell_type": "code",
      "metadata": {
        "id": "1r7RUwTCa2uf",
        "colab_type": "code",
        "outputId": "e2cf1317-ed09-4182-b184-e3a59e1393b6",
        "colab": {
          "base_uri": "https://localhost:8080/",
          "height": 33
        }
      },
      "source": [
        "empacota = 67,90\n",
        "empacota\n"
      ],
      "execution_count": 0,
      "outputs": [
        {
          "output_type": "execute_result",
          "data": {
            "text/plain": [
              "(67, 90)"
            ]
          },
          "metadata": {
            "tags": []
          },
          "execution_count": 12
        }
      ]
    },
    {
      "cell_type": "code",
      "metadata": {
        "id": "IwaajPA1biTx",
        "colab_type": "code",
        "outputId": "e0148885-638e-475f-99d2-7e37140ed5c2",
        "colab": {
          "base_uri": "https://localhost:8080/",
          "height": 223
        }
      },
      "source": [
        "tupla = (0,1,2,3)\n",
        "tupla[0] = -1 #da erro nessa linha pois é imutavel o numero\n",
        "tupla[1] = -2\n",
        "tupla2 = tupla[0:2]\n",
        "print (tupla2)"
      ],
      "execution_count": 0,
      "outputs": [
        {
          "output_type": "error",
          "ename": "TypeError",
          "evalue": "ignored",
          "traceback": [
            "\u001b[0;31m---------------------------------------------------------------------------\u001b[0m",
            "\u001b[0;31mTypeError\u001b[0m                                 Traceback (most recent call last)",
            "\u001b[0;32m<ipython-input-15-a7271afc9efe>\u001b[0m in \u001b[0;36m<module>\u001b[0;34m()\u001b[0m\n\u001b[1;32m      1\u001b[0m \u001b[0mtupla\u001b[0m \u001b[0;34m=\u001b[0m \u001b[0;34m(\u001b[0m\u001b[0;36m0\u001b[0m\u001b[0;34m,\u001b[0m\u001b[0;36m1\u001b[0m\u001b[0;34m,\u001b[0m\u001b[0;36m2\u001b[0m\u001b[0;34m,\u001b[0m\u001b[0;36m3\u001b[0m\u001b[0;34m)\u001b[0m\u001b[0;34m\u001b[0m\u001b[0;34m\u001b[0m\u001b[0m\n\u001b[0;32m----> 2\u001b[0;31m \u001b[0mtupla\u001b[0m\u001b[0;34m[\u001b[0m\u001b[0;36m0\u001b[0m\u001b[0;34m]\u001b[0m \u001b[0;34m=\u001b[0m \u001b[0;34m-\u001b[0m\u001b[0;36m1\u001b[0m\u001b[0;34m\u001b[0m\u001b[0;34m\u001b[0m\u001b[0m\n\u001b[0m\u001b[1;32m      3\u001b[0m \u001b[0mtupla\u001b[0m\u001b[0;34m[\u001b[0m\u001b[0;36m1\u001b[0m\u001b[0;34m]\u001b[0m \u001b[0;34m=\u001b[0m \u001b[0;34m-\u001b[0m\u001b[0;36m2\u001b[0m\u001b[0;34m\u001b[0m\u001b[0;34m\u001b[0m\u001b[0m\n\u001b[1;32m      4\u001b[0m \u001b[0mtupla2\u001b[0m \u001b[0;34m=\u001b[0m \u001b[0mtupla\u001b[0m\u001b[0;34m[\u001b[0m\u001b[0;36m0\u001b[0m\u001b[0;34m:\u001b[0m\u001b[0;36m2\u001b[0m\u001b[0;34m]\u001b[0m\u001b[0;34m\u001b[0m\u001b[0;34m\u001b[0m\u001b[0m\n\u001b[1;32m      5\u001b[0m \u001b[0mprint\u001b[0m \u001b[0;34m(\u001b[0m\u001b[0mtupla2\u001b[0m\u001b[0;34m)\u001b[0m\u001b[0;34m\u001b[0m\u001b[0;34m\u001b[0m\u001b[0m\n",
            "\u001b[0;31mTypeError\u001b[0m: 'tuple' object does not support item assignment"
          ]
        }
      ]
    },
    {
      "cell_type": "code",
      "metadata": {
        "id": "JkKGimMjb8R2",
        "colab_type": "code",
        "outputId": "60eaeeac-98b4-4dcd-97bf-cbcafb66fd61",
        "colab": {
          "base_uri": "https://localhost:8080/",
          "height": 33
        }
      },
      "source": [
        "tupla =(0,1,2,3)\n",
        "x,y,z,w = tupla\n",
        "print(x)"
      ],
      "execution_count": 0,
      "outputs": [
        {
          "output_type": "stream",
          "text": [
            "0\n"
          ],
          "name": "stdout"
        }
      ]
    },
    {
      "cell_type": "code",
      "metadata": {
        "id": "ua43-czScX0Y",
        "colab_type": "code",
        "outputId": "05dd663d-1ea4-4ed8-da11-3065bf1c1384",
        "colab": {
          "base_uri": "https://localhost:8080/",
          "height": 33
        }
      },
      "source": [
        "w = x+y+z+w\n",
        "print(w)"
      ],
      "execution_count": 0,
      "outputs": [
        {
          "output_type": "stream",
          "text": [
            "6\n"
          ],
          "name": "stdout"
        }
      ]
    },
    {
      "cell_type": "code",
      "metadata": {
        "id": "DXVDaOjYcp8F",
        "colab_type": "code",
        "outputId": "9efacd5c-3af3-4fcc-e0dd-21e3b0c5f1af",
        "colab": {
          "base_uri": "https://localhost:8080/",
          "height": 223
        }
      },
      "source": [
        "tupla2 = tupla\n",
        "x,y = tupla # tamanho do desempacotamento insuficiente\n",
        "z,w =tupla2\n",
        "\n",
        "print(x+y+z+w)"
      ],
      "execution_count": 0,
      "outputs": [
        {
          "output_type": "error",
          "ename": "ValueError",
          "evalue": "ignored",
          "traceback": [
            "\u001b[0;31m---------------------------------------------------------------------------\u001b[0m",
            "\u001b[0;31mValueError\u001b[0m                                Traceback (most recent call last)",
            "\u001b[0;32m<ipython-input-20-10c66c25b1c7>\u001b[0m in \u001b[0;36m<module>\u001b[0;34m()\u001b[0m\n\u001b[1;32m      1\u001b[0m \u001b[0mtupla2\u001b[0m \u001b[0;34m=\u001b[0m \u001b[0mtupla\u001b[0m\u001b[0;34m\u001b[0m\u001b[0;34m\u001b[0m\u001b[0m\n\u001b[0;32m----> 2\u001b[0;31m \u001b[0mx\u001b[0m\u001b[0;34m,\u001b[0m\u001b[0my\u001b[0m \u001b[0;34m=\u001b[0m \u001b[0mtupla\u001b[0m\u001b[0;34m\u001b[0m\u001b[0;34m\u001b[0m\u001b[0m\n\u001b[0m\u001b[1;32m      3\u001b[0m \u001b[0mz\u001b[0m\u001b[0;34m,\u001b[0m\u001b[0mw\u001b[0m \u001b[0;34m=\u001b[0m\u001b[0mtupla2\u001b[0m\u001b[0;34m\u001b[0m\u001b[0;34m\u001b[0m\u001b[0m\n\u001b[1;32m      4\u001b[0m \u001b[0;34m\u001b[0m\u001b[0m\n\u001b[1;32m      5\u001b[0m \u001b[0mprint\u001b[0m\u001b[0;34m(\u001b[0m\u001b[0mx\u001b[0m\u001b[0;34m+\u001b[0m\u001b[0my\u001b[0m\u001b[0;34m+\u001b[0m\u001b[0mz\u001b[0m\u001b[0;34m+\u001b[0m\u001b[0mw\u001b[0m\u001b[0;34m)\u001b[0m\u001b[0;34m\u001b[0m\u001b[0;34m\u001b[0m\u001b[0m\n",
            "\u001b[0;31mValueError\u001b[0m: too many values to unpack (expected 2)"
          ]
        }
      ]
    },
    {
      "cell_type": "code",
      "metadata": {
        "id": "CGubWBQld8Kv",
        "colab_type": "code",
        "outputId": "a4db3420-dd94-4669-88f0-b0088056fbac",
        "colab": {
          "base_uri": "https://localhost:8080/",
          "height": 33
        }
      },
      "source": [
        "tupla =(0,1,2,3)\n",
        "tupla2 = (tupla[0]+tupla[1],tupla[2]+tupla[3],\n",
        "          tupla[0]-tupla[1],tupla[2]*tupla[3])\n",
        "\n",
        "print(tupla2)"
      ],
      "execution_count": 0,
      "outputs": [
        {
          "output_type": "stream",
          "text": [
            "(1, 5, -1, 6)\n"
          ],
          "name": "stdout"
        }
      ]
    },
    {
      "cell_type": "code",
      "metadata": {
        "id": "9ACBBy2peiEf",
        "colab_type": "code",
        "outputId": "ef80c58c-0198-4ab5-a7af-93ac062f8e95",
        "colab": {
          "base_uri": "https://localhost:8080/",
          "height": 33
        }
      },
      "source": [
        "tupla =(0,1,2,3)\n",
        "tupla2 = (tupla[0]+tupla[1],tupla[2]+tupla[3],\n",
        "          tupla[0]-tupla[1],tupla[2]*tupla[3])\n",
        "\n",
        "tupla3 = tupla + tupla2\n",
        "print(tupla3)"
      ],
      "execution_count": 0,
      "outputs": [
        {
          "output_type": "stream",
          "text": [
            "(0, 1, 2, 3, 1, 5, -1, 6)\n"
          ],
          "name": "stdout"
        }
      ]
    },
    {
      "cell_type": "code",
      "metadata": {
        "id": "MDaypr8WhJMH",
        "colab_type": "code",
        "outputId": "81916a3e-43ea-480b-ef48-5bff2b9f7721",
        "colab": {
          "base_uri": "https://localhost:8080/",
          "height": 33
        }
      },
      "source": [
        "tupla =(0,1,2,3)\n",
        "tupla2 = tupla[1:4]\n",
        "tupla3 = tupla + tupla2\n",
        "print(tupla3)"
      ],
      "execution_count": 0,
      "outputs": [
        {
          "output_type": "stream",
          "text": [
            "(0, 1, 2, 3, 1, 2, 3)\n"
          ],
          "name": "stdout"
        }
      ]
    },
    {
      "cell_type": "code",
      "metadata": {
        "id": "6G-njenUi1TB",
        "colab_type": "code",
        "outputId": "3cd90feb-01f5-4088-cb55-7114ad87ec17",
        "colab": {
          "base_uri": "https://localhost:8080/",
          "height": 33
        }
      },
      "source": [
        "# DICIONARIOS\n",
        "\n",
        "dd ={\"jose\":123521 , \"maria\":121564}\n",
        "type(dd)\n"
      ],
      "execution_count": 0,
      "outputs": [
        {
          "output_type": "execute_result",
          "data": {
            "text/plain": [
              "dict"
            ]
          },
          "metadata": {
            "tags": []
          },
          "execution_count": 30
        }
      ]
    },
    {
      "cell_type": "code",
      "metadata": {
        "id": "rXN_i3zSjfFZ",
        "colab_type": "code",
        "outputId": "088a9e5a-95b3-4d60-bdef-34da994fc2e2",
        "colab": {
          "base_uri": "https://localhost:8080/",
          "height": 33
        }
      },
      "source": [
        "dd ={0:123521 , 1:121564, 2:987372}\n",
        "dd[\"maria\"] = 1995545\n",
        "telefone = dd[\"maria\"]\n",
        "print(telefone)"
      ],
      "execution_count": 0,
      "outputs": [
        {
          "output_type": "stream",
          "text": [
            "1995545\n"
          ],
          "name": "stdout"
        }
      ]
    },
    {
      "cell_type": "code",
      "metadata": {
        "id": "-FsBjFwejqvU",
        "colab_type": "code",
        "outputId": "435cf909-e084-489c-b52e-9c7496dddc97",
        "colab": {
          "base_uri": "https://localhost:8080/",
          "height": 33
        }
      },
      "source": [
        "print(dd)"
      ],
      "execution_count": 0,
      "outputs": [
        {
          "output_type": "stream",
          "text": [
            "{0: 123521, 1: 121564, 2: 987372, 'maria': 1995545}\n"
          ],
          "name": "stdout"
        }
      ]
    },
    {
      "cell_type": "code",
      "metadata": {
        "id": "1cU58vOxkvnr",
        "colab_type": "code",
        "outputId": "e949858e-041f-4f74-8ae0-977709ab9f81",
        "colab": {
          "base_uri": "https://localhost:8080/",
          "height": 33
        }
      },
      "source": [
        "print(dd[2])"
      ],
      "execution_count": 0,
      "outputs": [
        {
          "output_type": "stream",
          "text": [
            "987372\n"
          ],
          "name": "stdout"
        }
      ]
    },
    {
      "cell_type": "code",
      "metadata": {
        "id": "T3RrdXbSk85B",
        "colab_type": "code",
        "outputId": "bf1106c8-5af8-4ad2-c202-512493958fd3",
        "colab": {
          "base_uri": "https://localhost:8080/",
          "height": 33
        }
      },
      "source": [
        "'maria' in dd "
      ],
      "execution_count": 0,
      "outputs": [
        {
          "output_type": "execute_result",
          "data": {
            "text/plain": [
              "True"
            ]
          },
          "metadata": {
            "tags": []
          },
          "execution_count": 43
        }
      ]
    },
    {
      "cell_type": "code",
      "metadata": {
        "id": "LJPs_-wRlXKm",
        "colab_type": "code",
        "outputId": "1f49cb50-59a0-4151-a185-5774785d8e91",
        "colab": {
          "base_uri": "https://localhost:8080/",
          "height": 33
        }
      },
      "source": [
        "dd.items()"
      ],
      "execution_count": 0,
      "outputs": [
        {
          "output_type": "execute_result",
          "data": {
            "text/plain": [
              "dict_items([(0, 123521), (1, 121564), (2, 987372), ('maria', 1995545)])"
            ]
          },
          "metadata": {
            "tags": []
          },
          "execution_count": 45
        }
      ]
    },
    {
      "cell_type": "code",
      "metadata": {
        "id": "otbiow7slkCJ",
        "colab_type": "code",
        "colab": {}
      },
      "source": [
        "dd = {0:\"campinas\",1:\"valinhos\",2:\"ubatuba\"}\n",
        "\n"
      ],
      "execution_count": 0,
      "outputs": []
    },
    {
      "cell_type": "code",
      "metadata": {
        "id": "6dqkyXDvmGHJ",
        "colab_type": "code",
        "outputId": "faae6d93-a441-444a-b139-bd91c70146d9",
        "colab": {
          "base_uri": "https://localhost:8080/",
          "height": 66
        }
      },
      "source": [
        "#A11-Q8\n",
        "\n",
        "dd ={0:\"A\",1:\"B\",2:\"C\",3:\"D\",4:\"E\"}\n",
        "tamanho = len(dd)\n",
        "\n",
        "for a in range(tamanho):\n",
        "  if (a%2 == 0):\n",
        "    print(dd[a])\n"
      ],
      "execution_count": 0,
      "outputs": [
        {
          "output_type": "stream",
          "text": [
            "A\n",
            "C\n",
            "E\n"
          ],
          "name": "stdout"
        }
      ]
    },
    {
      "cell_type": "code",
      "metadata": {
        "id": "mcKMOfN4mvyJ",
        "colab_type": "code",
        "outputId": "6fe2b58f-36a3-4b88-f796-fee30e837974",
        "colab": {
          "base_uri": "https://localhost:8080/",
          "height": 98
        }
      },
      "source": [
        "for x in range(tamanho):\n",
        "    print(ddd[x])"
      ],
      "execution_count": 0,
      "outputs": [
        {
          "output_type": "stream",
          "text": [
            "A\n",
            "B\n",
            "C\n",
            "D\n",
            "E\n"
          ],
          "name": "stdout"
        }
      ]
    },
    {
      "cell_type": "code",
      "metadata": {
        "id": "8DF_6DvInduT",
        "colab_type": "code",
        "outputId": "904559f3-c52e-408c-b461-2f40815adb55",
        "colab": {
          "base_uri": "https://localhost:8080/",
          "height": 66
        }
      },
      "source": [
        "dd ={\"A\":0,\"B\":1,\"C\":2,\"D\":3,\"E\":4}\n",
        "tamanho = len(dd)\n",
        "\n",
        "for a in range(tamanho):\n",
        "  if (a%2 == 0):\n",
        "    print(a)"
      ],
      "execution_count": 0,
      "outputs": [
        {
          "output_type": "stream",
          "text": [
            "0\n",
            "2\n",
            "4\n"
          ],
          "name": "stdout"
        }
      ]
    },
    {
      "cell_type": "code",
      "metadata": {
        "id": "2YR4HqaLoOAv",
        "colab_type": "code",
        "outputId": "96d1a030-a982-4f20-c60c-41e6c033daea",
        "colab": {
          "base_uri": "https://localhost:8080/",
          "height": 66
        }
      },
      "source": [
        "dd ={\"A\":0,\"B\":1,\"C\":2,3:\"D\",4:\"E\"}\n",
        "tamanho = len(dd)\n",
        "\n",
        "for a in range(tamanho):\n",
        "  if (a%2 == 0):\n",
        "    print(a)"
      ],
      "execution_count": 0,
      "outputs": [
        {
          "output_type": "stream",
          "text": [
            "0\n",
            "2\n",
            "4\n"
          ],
          "name": "stdout"
        }
      ]
    },
    {
      "cell_type": "code",
      "metadata": {
        "id": "gmUtv36nrLmg",
        "colab_type": "code",
        "outputId": "0ebd247e-5bac-48e3-a2c3-484d77b4107b",
        "colab": {
          "base_uri": "https://localhost:8080/",
          "height": 33
        }
      },
      "source": [
        "dd ={\"A\":0,\"B\":1,\"C\":2,3:\"D\",4:\"E\"}\n",
        "tamanho = len(dd)\n",
        "dd[3]\n"
      ],
      "execution_count": 0,
      "outputs": [
        {
          "output_type": "execute_result",
          "data": {
            "text/plain": [
              "'D'"
            ]
          },
          "metadata": {
            "tags": []
          },
          "execution_count": 94
        }
      ]
    },
    {
      "cell_type": "code",
      "metadata": {
        "id": "nUSuPm94riN0",
        "colab_type": "code",
        "outputId": "3afffca5-bd3d-438b-8efb-ab45677b19af",
        "colab": {
          "base_uri": "https://localhost:8080/",
          "height": 33
        }
      },
      "source": [
        "dd ={\"A\":0,\"B\":1,\"C\":2,3:\"D\",4:\"E\"}\n",
        "tamanho = len(dd)\n",
        "dd[\"A\"]\n"
      ],
      "execution_count": 0,
      "outputs": [
        {
          "output_type": "execute_result",
          "data": {
            "text/plain": [
              "0"
            ]
          },
          "metadata": {
            "tags": []
          },
          "execution_count": 95
        }
      ]
    },
    {
      "cell_type": "code",
      "metadata": {
        "id": "T2e2JKs8sK6J",
        "colab_type": "code",
        "outputId": "800ab97a-bf15-43d0-edab-6a8a27ef859c",
        "colab": {
          "base_uri": "https://localhost:8080/",
          "height": 98
        }
      },
      "source": [
        "dd ={\"A\":0,\"B\":1,\"C\":2,\"D\":3,\"E\":4}\n",
        "tamanho = len(dd)\n",
        "\n",
        "for a in[\"A\",\"B\",\"C\",\"D\",\"E\"]:\n",
        "  if a ==\"B\" or a ==\"C\":\n",
        "    print(\"z\")\n",
        "  else:\n",
        "    print(dd[a])"
      ],
      "execution_count": 0,
      "outputs": [
        {
          "output_type": "stream",
          "text": [
            "0\n",
            "z\n",
            "z\n",
            "3\n",
            "4\n"
          ],
          "name": "stdout"
        }
      ]
    },
    {
      "cell_type": "code",
      "metadata": {
        "id": "wOvBODSZtLJ4",
        "colab_type": "code",
        "outputId": "9a5f4c91-047a-4965-f8b0-6e30a577a190",
        "colab": {
          "base_uri": "https://localhost:8080/",
          "height": 98
        }
      },
      "source": [
        "dd ={\"A\":0,\"B\":1,\"C\":2,\"D\":3,\"E\":4}\n",
        "tamanho = len(dd)\n",
        "\n",
        "for a in[\"A\",\"B\",\"C\",\"D\",\"E\"]:\n",
        "  if a in dd:\n",
        "    print(\"z\")\n",
        "  else:\n",
        "    print(dd[a])"
      ],
      "execution_count": 0,
      "outputs": [
        {
          "output_type": "stream",
          "text": [
            "z\n",
            "z\n",
            "z\n",
            "z\n",
            "z\n"
          ],
          "name": "stdout"
        }
      ]
    },
    {
      "cell_type": "code",
      "metadata": {
        "id": "3qjFyeOYthKQ",
        "colab_type": "code",
        "outputId": "c1952dd7-cc57-4ff6-d9e2-b5a879f9506a",
        "colab": {
          "base_uri": "https://localhost:8080/",
          "height": 191
        }
      },
      "source": [
        "dd ={\"A\":0,\"B\":1,\"C\":2,\"D\":3,\"E\":4}\n",
        "tamanho = len(dd)\n",
        "\n",
        "for a in range(tamanho):\n",
        "  if a in dd:\n",
        "    print(\"z\")\n",
        "  else:\n",
        "    print(dd[a]) # Não compila por causa do dd[a]"
      ],
      "execution_count": 0,
      "outputs": [
        {
          "output_type": "error",
          "ename": "KeyError",
          "evalue": "ignored",
          "traceback": [
            "\u001b[0;31m---------------------------------------------------------------------------\u001b[0m",
            "\u001b[0;31mKeyError\u001b[0m                                  Traceback (most recent call last)",
            "\u001b[0;32m<ipython-input-104-7e03e6edf4e6>\u001b[0m in \u001b[0;36m<module>\u001b[0;34m()\u001b[0m\n\u001b[1;32m      6\u001b[0m     \u001b[0mprint\u001b[0m\u001b[0;34m(\u001b[0m\u001b[0;34m\"z\"\u001b[0m\u001b[0;34m)\u001b[0m\u001b[0;34m\u001b[0m\u001b[0;34m\u001b[0m\u001b[0m\n\u001b[1;32m      7\u001b[0m   \u001b[0;32melse\u001b[0m\u001b[0;34m:\u001b[0m\u001b[0;34m\u001b[0m\u001b[0;34m\u001b[0m\u001b[0m\n\u001b[0;32m----> 8\u001b[0;31m     \u001b[0mprint\u001b[0m\u001b[0;34m(\u001b[0m\u001b[0mdd\u001b[0m\u001b[0;34m[\u001b[0m\u001b[0ma\u001b[0m\u001b[0;34m]\u001b[0m\u001b[0;34m)\u001b[0m\u001b[0;34m\u001b[0m\u001b[0;34m\u001b[0m\u001b[0m\n\u001b[0m",
            "\u001b[0;31mKeyError\u001b[0m: 0"
          ]
        }
      ]
    },
    {
      "cell_type": "code",
      "metadata": {
        "id": "N7jOo29CtkZL",
        "colab_type": "code",
        "outputId": "475b716a-696b-401d-f1a2-bf4a9f05d313",
        "colab": {
          "base_uri": "https://localhost:8080/",
          "height": 98
        }
      },
      "source": [
        "dd ={\"A\":0,\"B\":1,\"C\":2,\"D\":3,\"E\":4}\n",
        "tamanho = len(dd)\n",
        "\n",
        "for a in range(tamanho):\n",
        "  if a in dd:\n",
        "    print(\"z\")\n",
        "  else:\n",
        "    print(a)"
      ],
      "execution_count": 0,
      "outputs": [
        {
          "output_type": "stream",
          "text": [
            "0\n",
            "1\n",
            "2\n",
            "3\n",
            "4\n"
          ],
          "name": "stdout"
        }
      ]
    },
    {
      "cell_type": "markdown",
      "metadata": {
        "id": "HQtZ_y73ep3Z",
        "colab_type": "text"
      },
      "source": [
        "# AULA DO DIA 15/05/2020"
      ]
    },
    {
      "cell_type": "code",
      "metadata": {
        "id": "YfR2Po9Let4F",
        "colab_type": "code",
        "colab": {}
      },
      "source": [
        "# OBJETOS E FUNÇOES"
      ],
      "execution_count": 0,
      "outputs": []
    },
    {
      "cell_type": "code",
      "metadata": {
        "id": "kHxt8YUtjj0E",
        "colab_type": "code",
        "outputId": "04e474fd-e35b-4c71-cdd7-6b76ab793a98",
        "colab": {
          "base_uri": "https://localhost:8080/",
          "height": 33
        }
      },
      "source": [
        "a = 94\n",
        "print(id(a))"
      ],
      "execution_count": 0,
      "outputs": [
        {
          "output_type": "stream",
          "text": [
            "10917472\n"
          ],
          "name": "stdout"
        }
      ]
    },
    {
      "cell_type": "code",
      "metadata": {
        "id": "_GrYjFlIe6xj",
        "colab_type": "code",
        "outputId": "84515694-904c-4fde-92da-fe307c5751d4",
        "colab": {
          "base_uri": "https://localhost:8080/",
          "height": 50
        }
      },
      "source": [
        "a = 10\n",
        "b = 10\n",
        "if (id(a)==id(b)):\n",
        "  print(\"Igual\")\n",
        "else:\n",
        "  print(\"id diferente\")\n",
        "print(\"fim\")"
      ],
      "execution_count": 0,
      "outputs": [
        {
          "output_type": "stream",
          "text": [
            "Igual\n",
            "fim\n"
          ],
          "name": "stdout"
        }
      ]
    },
    {
      "cell_type": "code",
      "metadata": {
        "id": "PUDpBNJDfqB6",
        "colab_type": "code",
        "outputId": "94f4ded5-a09f-493c-c1a3-227d4934f8f4",
        "colab": {
          "base_uri": "https://localhost:8080/",
          "height": 50
        }
      },
      "source": [
        "a = 10\n",
        "b = 10\n",
        "if (id(a)== b):\n",
        "  print(\"id Igual\")\n",
        "  \n",
        "else:\n",
        "  print(\"id diferente\")\n",
        "print(\"fim\")"
      ],
      "execution_count": 0,
      "outputs": [
        {
          "output_type": "stream",
          "text": [
            "id diferente\n",
            "fim\n"
          ],
          "name": "stdout"
        }
      ]
    },
    {
      "cell_type": "code",
      "metadata": {
        "id": "mmaek-4JfvNQ",
        "colab_type": "code",
        "outputId": "de941c50-cffb-43b5-b9dc-4d19148ea154",
        "colab": {
          "base_uri": "https://localhost:8080/",
          "height": 50
        }
      },
      "source": [
        "a = 10\n",
        "b = 10\n",
        "if (a+b==id(a+b)):\n",
        "  print(\"Igual\")\n",
        "else:\n",
        "  print(\"id diferente\")\n",
        "print(\"fim\")"
      ],
      "execution_count": 0,
      "outputs": [
        {
          "output_type": "stream",
          "text": [
            "id diferente\n",
            "fim\n"
          ],
          "name": "stdout"
        }
      ]
    },
    {
      "cell_type": "code",
      "metadata": {
        "id": "kS9nwT5wh61k",
        "colab_type": "code",
        "outputId": "e1f18127-2e25-4828-c54e-930e96b9cd21",
        "colab": {
          "base_uri": "https://localhost:8080/",
          "height": 66
        }
      },
      "source": [
        "print(\"a=\",id(a))\n",
        "print(\"b=\",id(b))\n",
        "print(\"a+b=\",id(a+b))"
      ],
      "execution_count": 0,
      "outputs": [
        {
          "output_type": "stream",
          "text": [
            "a 10914784\n",
            "b 10914784\n",
            "a+b 10915104\n"
          ],
          "name": "stdout"
        }
      ]
    },
    {
      "cell_type": "code",
      "metadata": {
        "id": "1nIUtcC4kLkf",
        "colab_type": "code",
        "outputId": "e09c6fa9-4d9d-4760-97f3-29ef46f2f891",
        "colab": {
          "base_uri": "https://localhost:8080/",
          "height": 33
        }
      },
      "source": [
        "print(\"a+b\",id(20))"
      ],
      "execution_count": 0,
      "outputs": [
        {
          "output_type": "stream",
          "text": [
            "a+b 10915104\n"
          ],
          "name": "stdout"
        }
      ]
    },
    {
      "cell_type": "code",
      "metadata": {
        "id": "C9NTn5fhkmwb",
        "colab_type": "code",
        "outputId": "6bf8b4d9-aa0a-4bab-afab-460de0bf36b8",
        "colab": {
          "base_uri": "https://localhost:8080/",
          "height": 50
        }
      },
      "source": [
        "a = 0\n",
        "b = 10%2\n",
        "c = 21%3\n",
        "if (id(a)==id(b) and id(b)==c):\n",
        "  print(\"id Igual\")\n",
        "else:\n",
        "  print(\"id diferente\")\n",
        "print(\"fim\")"
      ],
      "execution_count": 0,
      "outputs": [
        {
          "output_type": "stream",
          "text": [
            "id diferente\n",
            "fim\n"
          ],
          "name": "stdout"
        }
      ]
    },
    {
      "cell_type": "code",
      "metadata": {
        "id": "E3NZZKMPlamM",
        "colab_type": "code",
        "outputId": "93f29d00-a48c-47c7-c941-228a8eda57f8",
        "colab": {
          "base_uri": "https://localhost:8080/",
          "height": 115
        }
      },
      "source": [
        "print(\"a=\",a)\n",
        "print(\"b=\",b)\n",
        "print(\"c=\",c)\n",
        "print(\"id a=\",id(a))\n",
        "print(\"id b=\",id(b))\n",
        "print(\"id c=\",id(b))\n"
      ],
      "execution_count": 0,
      "outputs": [
        {
          "output_type": "stream",
          "text": [
            "a= 0\n",
            "b= 0\n",
            "c= 0\n",
            "id a= 10914464\n",
            "id b= 10914464\n",
            "id c= 10914464\n"
          ],
          "name": "stdout"
        }
      ]
    },
    {
      "cell_type": "code",
      "metadata": {
        "id": "LlcO1IW7mC7D",
        "colab_type": "code",
        "outputId": "47f0c6c9-287e-4b3e-849a-56cef5827099",
        "colab": {
          "base_uri": "https://localhost:8080/",
          "height": 50
        }
      },
      "source": [
        "a = 0\n",
        "b = 10%2\n",
        "c = 21%3\n",
        "if (id(a)==id(b) and id(b)==id(c)):\n",
        "  print(\"id Igual\")\n",
        "else:\n",
        "  print(\"id diferente\")\n",
        "print(\"fim\")"
      ],
      "execution_count": 0,
      "outputs": [
        {
          "output_type": "stream",
          "text": [
            "id Igual\n",
            "fim\n"
          ],
          "name": "stdout"
        }
      ]
    },
    {
      "cell_type": "code",
      "metadata": {
        "id": "18CmaL0OmkM9",
        "colab_type": "code",
        "outputId": "9a15d7dc-0c80-4c10-fbd7-e1c5a8dfb335",
        "colab": {
          "base_uri": "https://localhost:8080/",
          "height": 115
        }
      },
      "source": [
        "print(\"a=\",a)\n",
        "print(\"b=\",b)\n",
        "print(\"c=\",c)\n",
        "print(\"id a=\",id(a))\n",
        "print(\"id b=\",id(b))\n",
        "print(\"id c=\",id(b))"
      ],
      "execution_count": 0,
      "outputs": [
        {
          "output_type": "stream",
          "text": [
            "a= 0\n",
            "b= 0\n",
            "c= 0\n",
            "id a= 10914464\n",
            "id b= 10914464\n",
            "id c= 10914464\n"
          ],
          "name": "stdout"
        }
      ]
    },
    {
      "cell_type": "code",
      "metadata": {
        "id": "5ELKwJcOmuLy",
        "colab_type": "code",
        "colab": {}
      },
      "source": [
        "a = \"puthon is cool!\"\n",
        "b = \"python is cool!\""
      ],
      "execution_count": 0,
      "outputs": []
    },
    {
      "cell_type": "code",
      "metadata": {
        "id": "9jDRwJpdpJyD",
        "colab_type": "code",
        "outputId": "249f641f-d41c-4c98-eb3c-f5b078ce1b17",
        "colab": {
          "base_uri": "https://localhost:8080/",
          "height": 33
        }
      },
      "source": [
        "a is b"
      ],
      "execution_count": 0,
      "outputs": [
        {
          "output_type": "execute_result",
          "data": {
            "text/plain": [
              "False"
            ]
          },
          "metadata": {
            "tags": []
          },
          "execution_count": 34
        }
      ]
    },
    {
      "cell_type": "code",
      "metadata": {
        "id": "8u1WkZVMo7i7",
        "colab_type": "code",
        "outputId": "ae3fa47e-0518-42e4-a731-6d2f28ce79cd",
        "colab": {
          "base_uri": "https://localhost:8080/",
          "height": 33
        }
      },
      "source": [
        "id(a)"
      ],
      "execution_count": 0,
      "outputs": [
        {
          "output_type": "execute_result",
          "data": {
            "text/plain": [
              "140243849359792"
            ]
          },
          "metadata": {
            "tags": []
          },
          "execution_count": 35
        }
      ]
    },
    {
      "cell_type": "code",
      "metadata": {
        "id": "4aZApC36pDFX",
        "colab_type": "code",
        "outputId": "055e81ca-67c6-406e-b09c-04ae0d609310",
        "colab": {
          "base_uri": "https://localhost:8080/",
          "height": 33
        }
      },
      "source": [
        "id(b)"
      ],
      "execution_count": 0,
      "outputs": [
        {
          "output_type": "execute_result",
          "data": {
            "text/plain": [
              "140243849359984"
            ]
          },
          "metadata": {
            "tags": []
          },
          "execution_count": 36
        }
      ]
    },
    {
      "cell_type": "code",
      "metadata": {
        "id": "479waBW1pE0J",
        "colab_type": "code",
        "outputId": "7257cb94-f558-467a-dbc4-c1b4fd196b01",
        "colab": {
          "base_uri": "https://localhost:8080/",
          "height": 33
        }
      },
      "source": [
        "a = \"python\" # sem espaço\n",
        "b = \"python\" # sem espaço\n",
        "a is b"
      ],
      "execution_count": 0,
      "outputs": [
        {
          "output_type": "execute_result",
          "data": {
            "text/plain": [
              "True"
            ]
          },
          "metadata": {
            "tags": []
          },
          "execution_count": 58
        }
      ]
    },
    {
      "cell_type": "code",
      "metadata": {
        "id": "yIwiGI58pyjJ",
        "colab_type": "code",
        "outputId": "ba21708a-8898-481c-adb7-d7f27bdd1719",
        "colab": {
          "base_uri": "https://localhost:8080/",
          "height": 50
        }
      },
      "source": [
        "print(\"id a=\",id(a))\n",
        "print(\"id b=\",id(b))"
      ],
      "execution_count": 0,
      "outputs": [
        {
          "output_type": "stream",
          "text": [
            "id a= 140244423444944\n",
            "id b= 140244423444944\n"
          ],
          "name": "stdout"
        }
      ]
    },
    {
      "cell_type": "code",
      "metadata": {
        "id": "SSZIugbupUDK",
        "colab_type": "code",
        "outputId": "679672ed-67ff-4e98-e48c-d6ca58263268",
        "colab": {
          "base_uri": "https://localhost:8080/",
          "height": 33
        }
      },
      "source": [
        "a = \"python \" # com espaço\n",
        "b = \"python \" # com espaço\n",
        "a is b"
      ],
      "execution_count": 0,
      "outputs": [
        {
          "output_type": "execute_result",
          "data": {
            "text/plain": [
              "False"
            ]
          },
          "metadata": {
            "tags": []
          },
          "execution_count": 60
        }
      ]
    },
    {
      "cell_type": "code",
      "metadata": {
        "id": "e1MBXXcvpZg_",
        "colab_type": "code",
        "outputId": "7284cc49-f3d8-4630-d0d9-6cad612b4431",
        "colab": {
          "base_uri": "https://localhost:8080/",
          "height": 50
        }
      },
      "source": [
        "print(\"id a=\",id(a))\n",
        "print(\"id b=\",id(b))"
      ],
      "execution_count": 0,
      "outputs": [
        {
          "output_type": "stream",
          "text": [
            "id a= 140243849389032\n",
            "id b= 140243849517240\n"
          ],
          "name": "stdout"
        }
      ]
    },
    {
      "cell_type": "code",
      "metadata": {
        "id": "5BlqZlJRrok-",
        "colab_type": "code",
        "outputId": "e4955f25-31c5-42d3-d9c7-9663370bc2ce",
        "colab": {
          "base_uri": "https://localhost:8080/",
          "height": 33
        }
      },
      "source": [
        "a = \"o \" # com espaço\n",
        "b = \"o \" # com espaço\n",
        "a is b"
      ],
      "execution_count": 0,
      "outputs": [
        {
          "output_type": "execute_result",
          "data": {
            "text/plain": [
              "False"
            ]
          },
          "metadata": {
            "tags": []
          },
          "execution_count": 71
        }
      ]
    },
    {
      "cell_type": "code",
      "metadata": {
        "id": "5gJASsGls49Y",
        "colab_type": "code",
        "outputId": "6af89c5e-26ba-4892-f2d5-10b3f373e778",
        "colab": {
          "base_uri": "https://localhost:8080/",
          "height": 33
        }
      },
      "source": [
        "#https://docs.python.org/pt-br/3/library/stdtypes.html\n",
        "\n",
        "n = -37\n",
        "bin(n)\n"
      ],
      "execution_count": 0,
      "outputs": [
        {
          "output_type": "execute_result",
          "data": {
            "text/plain": [
              "'-0b100101'"
            ]
          },
          "metadata": {
            "tags": []
          },
          "execution_count": 80
        }
      ]
    },
    {
      "cell_type": "code",
      "metadata": {
        "id": "0tFDDg2us-tM",
        "colab_type": "code",
        "outputId": "28d73f1c-5c9e-4c9f-d064-e21499bc9db7",
        "colab": {
          "base_uri": "https://localhost:8080/",
          "height": 33
        }
      },
      "source": [
        "n.bit_length()"
      ],
      "execution_count": 0,
      "outputs": [
        {
          "output_type": "execute_result",
          "data": {
            "text/plain": [
              "6"
            ]
          },
          "metadata": {
            "tags": []
          },
          "execution_count": 77
        }
      ]
    },
    {
      "cell_type": "code",
      "metadata": {
        "id": "v2EBXEPLttfu",
        "colab_type": "code",
        "outputId": "dbd3949a-c5e8-429b-f00f-ed869b7a4165",
        "colab": {
          "base_uri": "https://localhost:8080/",
          "height": 66
        }
      },
      "source": [
        "def somaDoisNumeros (a, b):\n",
        "  print(\"[Linha 2]a=\",a,\"b= \",b)\n",
        "  return a+b\n",
        "\n",
        "print(\"[Linha 5]\")\n",
        "c = somaDoisNumeros(4,8)\n",
        "print(\"[Linha 7] c=\",c)"
      ],
      "execution_count": 0,
      "outputs": [
        {
          "output_type": "stream",
          "text": [
            "[Linha 5]\n",
            "[Linha 2]a= 4 b=  8\n",
            "[Linha 7] c= 12\n"
          ],
          "name": "stdout"
        }
      ]
    },
    {
      "cell_type": "code",
      "metadata": {
        "id": "vgvOlyuQubPx",
        "colab_type": "code",
        "outputId": "f8b5e26b-e9bb-4da8-a4a5-a139c45be674",
        "colab": {
          "base_uri": "https://localhost:8080/",
          "height": 50
        }
      },
      "source": [
        "def somaDoisNumeros (a, b):\n",
        "  print(\"[Linha 2]a=\",a,\"b= \",b)\n",
        "  return a+a\n",
        "n1=10\n",
        "n2=5\n",
        "resultado = somaDoisNumeros(n1,n2)\n",
        "print(\"Resultado=\",resultado)"
      ],
      "execution_count": 0,
      "outputs": [
        {
          "output_type": "stream",
          "text": [
            "[Linha 2]a= 10 b=  5\n",
            "Resultado= 20\n"
          ],
          "name": "stdout"
        }
      ]
    },
    {
      "cell_type": "code",
      "metadata": {
        "id": "_tj8oBfqvC3w",
        "colab_type": "code",
        "outputId": "25e7d013-aded-41de-8b72-6f53a7387a09",
        "colab": {
          "base_uri": "https://localhost:8080/",
          "height": 50
        }
      },
      "source": [
        "def somaDoisNumeros (a, b):\n",
        "  print(\"[Linha 2]a=\",a,\"b= \",b)\n",
        "  return a+b\n",
        "n1=10\n",
        "n2=5\n",
        "resultado = somaDoisNumeros(n1,n2)\n",
        "print(\"Resultado=\",resultado)"
      ],
      "execution_count": 0,
      "outputs": [
        {
          "output_type": "stream",
          "text": [
            "[Linha 2]a= 10 b=  5\n",
            "Resultado= 15\n"
          ],
          "name": "stdout"
        }
      ]
    },
    {
      "cell_type": "code",
      "metadata": {
        "id": "xeoXOjF_vi5a",
        "colab_type": "code",
        "outputId": "8809d0e1-ebeb-4568-cf67-51d688845e1a",
        "colab": {
          "base_uri": "https://localhost:8080/",
          "height": 33
        }
      },
      "source": [
        "def somaDoisNumeros (a, b):\n",
        "  c=a-b\n",
        "  return b-a\n",
        "n1=10\n",
        "n2=5\n",
        "resultado = somaDoisNumeros(n1,n2)\n",
        "print(\"Resultado=\",resultado)"
      ],
      "execution_count": 0,
      "outputs": [
        {
          "output_type": "stream",
          "text": [
            "Resultado= -5\n"
          ],
          "name": "stdout"
        }
      ]
    },
    {
      "cell_type": "code",
      "metadata": {
        "id": "NCdkxVp4vrkB",
        "colab_type": "code",
        "outputId": "febf3b2d-d8c7-45f9-d9c1-756ba9b02cb6",
        "colab": {
          "base_uri": "https://localhost:8080/",
          "height": 33
        }
      },
      "source": [
        "def somaDoisNumeros (a, b):\n",
        "  c=a-b\n",
        "  return c\n",
        "n1=10\n",
        "n2=5\n",
        "resultado = somaDoisNumeros(n1,n2)\n",
        "print(\"Resultado=\",resultado)"
      ],
      "execution_count": 0,
      "outputs": [
        {
          "output_type": "stream",
          "text": [
            "Resultado= 5\n"
          ],
          "name": "stdout"
        }
      ]
    },
    {
      "cell_type": "code",
      "metadata": {
        "id": "qOSAP3v9xDc-",
        "colab_type": "code",
        "outputId": "61d9b022-bec2-4f4b-ad95-810c9ef3a484",
        "colab": {
          "base_uri": "https://localhost:8080/",
          "height": 33
        }
      },
      "source": [
        "def somaDoisNumeros (a, b):\n",
        "  c=a-b\n",
        "  return c\n",
        "n1=10\n",
        "n2=5\n",
        "print(\"10-5=\",somaDoisNumeros(n2,n1))"
      ],
      "execution_count": 0,
      "outputs": [
        {
          "output_type": "stream",
          "text": [
            "10-5= -5\n"
          ],
          "name": "stdout"
        }
      ]
    },
    {
      "cell_type": "code",
      "metadata": {
        "id": "dh2cfqOYxQIl",
        "colab_type": "code",
        "outputId": "075f9586-a8d0-44b5-992c-bd7de21c46ae",
        "colab": {
          "base_uri": "https://localhost:8080/",
          "height": 33
        }
      },
      "source": [
        "def subtraiDoisNumeros (a, b):\n",
        "  return a-b\n",
        "\n",
        "n1=10\n",
        "n2=5\n",
        "resultado=subtraiDoisNumeros (n1,n2)\n",
        "resultado=subtraiDoisNumeros (resultado,n2)\n",
        "resultado=subtraiDoisNumeros (resultado,n1)\n",
        "\n",
        "print(\"resultado\",resultado)"
      ],
      "execution_count": 0,
      "outputs": [
        {
          "output_type": "stream",
          "text": [
            "resultado -10\n"
          ],
          "name": "stdout"
        }
      ]
    },
    {
      "cell_type": "code",
      "metadata": {
        "id": "o7YAVSoqyleO",
        "colab_type": "code",
        "outputId": "2db1dffa-e925-400f-d2e9-c88f84f17ffe",
        "colab": {
          "base_uri": "https://localhost:8080/",
          "height": 82
        }
      },
      "source": [
        "def quadrado (copia_n):\n",
        "  print(\"[linha 2] id =\", id(copia_n))\n",
        "  copia_n = copia_n* copia_n\n",
        "  print(\"[linha 4] id =\", id(copia_n))\n",
        "  return copia_n\n",
        "n=4\n",
        "print(\"[linha 8] id =\",id(n))\n",
        "n2 = quadrado(n)\n",
        "print(\"[linha10] id =\",id(n2))\n",
        "\n"
      ],
      "execution_count": 0,
      "outputs": [
        {
          "output_type": "stream",
          "text": [
            "[linha 8] id = 10914592\n",
            "[linha 2] id = 10914592\n",
            "[linha 4] id = 10914976\n",
            "[linha10] id = 10914976\n"
          ],
          "name": "stdout"
        }
      ]
    },
    {
      "cell_type": "code",
      "metadata": {
        "id": "lRNTmxbFzXVL",
        "colab_type": "code",
        "colab": {}
      },
      "source": [
        "def adicionaelementoNaLista (copia_lista, elem):\n",
        "  print(\"[L2] id =\")"
      ],
      "execution_count": 0,
      "outputs": []
    },
    {
      "cell_type": "code",
      "metadata": {
        "id": "56qbY-4304pZ",
        "colab_type": "code",
        "colab": {}
      },
      "source": [
        ""
      ],
      "execution_count": 0,
      "outputs": []
    },
    {
      "cell_type": "code",
      "metadata": {
        "id": "K7Vb3kRW0dEw",
        "colab_type": "code",
        "outputId": "cad47b09-6ef7-46d9-aab4-960aa2451509",
        "colab": {
          "base_uri": "https://localhost:8080/",
          "height": 33
        }
      },
      "source": [
        "def calcula(copia_a,copia_b):\n",
        "  c = copia_a + copia_b\n",
        "  return c + copia_a - copia_b\n",
        "n=10\n",
        "n2=20\n",
        "n = calcula(n+n2,n-n2)\n",
        "print(n)"
      ],
      "execution_count": 0,
      "outputs": [
        {
          "output_type": "stream",
          "text": [
            "60\n"
          ],
          "name": "stdout"
        }
      ]
    },
    {
      "cell_type": "code",
      "metadata": {
        "id": "9DFrPdJp1oKm",
        "colab_type": "code",
        "outputId": "29f06241-1371-4f50-868a-bf5701a9dfd4",
        "colab": {
          "base_uri": "https://localhost:8080/",
          "height": 33
        }
      },
      "source": [
        "def calcula(n,n2):\n",
        "  c = n-n2\n",
        "  return c \n",
        "n=10\n",
        "n2=20\n",
        "n = calcula(n2,n)\n",
        "print(n)"
      ],
      "execution_count": 0,
      "outputs": [
        {
          "output_type": "stream",
          "text": [
            "10\n"
          ],
          "name": "stdout"
        }
      ]
    },
    {
      "cell_type": "code",
      "metadata": {
        "id": "uN4xPuQv2E91",
        "colab_type": "code",
        "outputId": "e917c7d4-3097-4b80-9afa-cff2f11a0897",
        "colab": {
          "base_uri": "https://localhost:8080/",
          "height": 33
        }
      },
      "source": [
        "def calcula(n3,n2,n):\n",
        "  return n2-n*n3 \n",
        "n=5\n",
        "n2=11\n",
        "n3=7\n",
        "n = calcula(n2,n,n3)\n",
        "print(n)"
      ],
      "execution_count": 0,
      "outputs": [
        {
          "output_type": "stream",
          "text": [
            "-72\n"
          ],
          "name": "stdout"
        }
      ]
    },
    {
      "cell_type": "code",
      "metadata": {
        "id": "jy09syuJ2Pta",
        "colab_type": "code",
        "outputId": "2743cca2-5d5d-469e-ead7-d0dc143caea9",
        "colab": {
          "base_uri": "https://localhost:8080/",
          "height": 33
        }
      },
      "source": [
        "def calcula(n,n3,n2):\n",
        "  return n2-n*n3%n\n",
        "n=3\n",
        "n2=5\n",
        "n3=7\n",
        "n = calcula(n3,n2,n)\n",
        "print(n)"
      ],
      "execution_count": 0,
      "outputs": [
        {
          "output_type": "stream",
          "text": [
            "3\n"
          ],
          "name": "stdout"
        }
      ]
    },
    {
      "cell_type": "code",
      "metadata": {
        "id": "Z9tCm38v29iO",
        "colab_type": "code",
        "outputId": "b01f68f5-70fd-455c-b6d7-6213738e94bb",
        "colab": {
          "base_uri": "https://localhost:8080/",
          "height": 33
        }
      },
      "source": [
        "def soma(a,b):\n",
        "  return a+b\n",
        "def subtrai(a,b):\n",
        "  return a-b\n",
        "n= soma(4,3)\n",
        "n2 =subtrai (10,2)\n",
        "n3= n+n2\n",
        "print(n3)"
      ],
      "execution_count": 0,
      "outputs": [
        {
          "output_type": "stream",
          "text": [
            "15\n"
          ],
          "name": "stdout"
        }
      ]
    },
    {
      "cell_type": "code",
      "metadata": {
        "id": "N-pZf80O3bp8",
        "colab_type": "code",
        "outputId": "db4d385b-ea8d-4826-a3cc-003253df0ed5",
        "colab": {
          "base_uri": "https://localhost:8080/",
          "height": 33
        }
      },
      "source": [
        "def soma(a,b):\n",
        "  return a+b\n",
        "def subtrai(a,b):\n",
        "  return a-b\n",
        "n = soma(subtrai(4,7),soma(10,20))\n",
        "print(n)"
      ],
      "execution_count": 0,
      "outputs": [
        {
          "output_type": "stream",
          "text": [
            "27\n"
          ],
          "name": "stdout"
        }
      ]
    },
    {
      "cell_type": "code",
      "metadata": {
        "id": "yNRp1tBv3piw",
        "colab_type": "code",
        "outputId": "441e183e-07a1-4c70-cab1-37d78b874275",
        "colab": {
          "base_uri": "https://localhost:8080/",
          "height": 33
        }
      },
      "source": [
        "def soma(a,b):\n",
        "  return a+b\n",
        "def subtrai(a,b):\n",
        "  return a-b\n",
        "n = soma(subtrai(soma(3,8),-4),soma(subtrai(4,5),20))\n",
        "print(n)"
      ],
      "execution_count": 0,
      "outputs": [
        {
          "output_type": "stream",
          "text": [
            "34\n"
          ],
          "name": "stdout"
        }
      ]
    },
    {
      "cell_type": "code",
      "metadata": {
        "id": "Wh6i9N-O36VC",
        "colab_type": "code",
        "outputId": "ee8a3584-ef3a-4231-dec5-107b20d2547c",
        "colab": {
          "base_uri": "https://localhost:8080/",
          "height": 33
        }
      },
      "source": [
        "def adicionaElem(lista,elem):\n",
        "  lista.append(elem)\n",
        "\n",
        "lista = [10]\n",
        "adicionaElem (lista,20)\n",
        "adicionaElem (lista,0)\n",
        "print(lista)"
      ],
      "execution_count": 0,
      "outputs": [
        {
          "output_type": "stream",
          "text": [
            "[10, 20, 0]\n"
          ],
          "name": "stdout"
        }
      ]
    },
    {
      "cell_type": "code",
      "metadata": {
        "id": "kRjvDx_w5GyI",
        "colab_type": "code",
        "outputId": "571321f8-0992-4f85-a42e-4b79086a5a20",
        "colab": {
          "base_uri": "https://localhost:8080/",
          "height": 33
        }
      },
      "source": [
        "def adicionaElem(lista,elem):\n",
        "  lista.append(elem)\n",
        "\n",
        "lista = [1,2,3,4,5,6,7]\n",
        "lista2 = [20,30]\n",
        "lista = lista2\n",
        "adicionaElem (lista,lista2[1])\n",
        "print(lista)"
      ],
      "execution_count": 0,
      "outputs": [
        {
          "output_type": "stream",
          "text": [
            "[20, 30, 30]\n"
          ],
          "name": "stdout"
        }
      ]
    },
    {
      "cell_type": "code",
      "metadata": {
        "id": "Vqaksb_15Tod",
        "colab_type": "code",
        "outputId": "3c50dc9e-ecdb-4240-874c-6925598f2f37",
        "colab": {
          "base_uri": "https://localhost:8080/",
          "height": 33
        }
      },
      "source": [
        "def adicionaElem(lista,elem):\n",
        "  lista.append(elem)\n",
        "  return lista\n",
        "\n",
        "lista = [20,30]\n",
        "lista2 = adicionaElem (lista, 40)\n",
        "lista3 = adicionaElem (lista, 50)\n",
        "lista4 = adicionaElem (lista, 60)\n",
        "print(lista)"
      ],
      "execution_count": 0,
      "outputs": [
        {
          "output_type": "stream",
          "text": [
            "[20, 30, 40, 50, 60]\n"
          ],
          "name": "stdout"
        }
      ]
    },
    {
      "cell_type": "code",
      "metadata": {
        "id": "CJeXHC-y7ga4",
        "colab_type": "code",
        "outputId": "26a4b315-31d2-4e73-9814-60522b3b59ad",
        "colab": {
          "base_uri": "https://localhost:8080/",
          "height": 33
        }
      },
      "source": [
        "def adicionaElem(lista,elem):\n",
        "  lista.append(elem)\n",
        "  return lista\n",
        "\n",
        "lista = [20,30]\n",
        "id(lista[0])"
      ],
      "execution_count": 0,
      "outputs": [
        {
          "output_type": "execute_result",
          "data": {
            "text/plain": [
              "10915104"
            ]
          },
          "metadata": {
            "tags": []
          },
          "execution_count": 148
        }
      ]
    },
    {
      "cell_type": "code",
      "metadata": {
        "id": "F010zJC7_LCB",
        "colab_type": "code",
        "outputId": "d2628f0a-c22f-4ef8-a1c8-bfb959be2c40",
        "colab": {
          "base_uri": "https://localhost:8080/",
          "height": 66
        }
      },
      "source": [
        "lista2 = lista\n",
        "adicionaElem (lista2, 40)\n",
        "print(lista)\n",
        "\n",
        "lista2[0] = -1\n",
        "lista2[1] = -2\n",
        "lista2[2] = -3\n",
        "print(lista)\n",
        "print(lista2)"
      ],
      "execution_count": 0,
      "outputs": [
        {
          "output_type": "stream",
          "text": [
            "[20, 30, 40]\n",
            "[-1, -2, -3]\n",
            "[-1, -2, -3]\n"
          ],
          "name": "stdout"
        }
      ]
    },
    {
      "cell_type": "code",
      "metadata": {
        "id": "lDI_ghlx-vvt",
        "colab_type": "code",
        "outputId": "867cd063-2548-4622-931c-499878a70e37",
        "colab": {
          "base_uri": "https://localhost:8080/",
          "height": 33
        }
      },
      "source": [
        "id(lista[0])"
      ],
      "execution_count": 0,
      "outputs": [
        {
          "output_type": "execute_result",
          "data": {
            "text/plain": [
              "10914432"
            ]
          },
          "metadata": {
            "tags": []
          },
          "execution_count": 150
        }
      ]
    },
    {
      "cell_type": "code",
      "metadata": {
        "id": "XeU3_29J8gsH",
        "colab_type": "code",
        "outputId": "d5377ade-f928-4c90-bfe5-e267a0b477a5",
        "colab": {
          "base_uri": "https://localhost:8080/",
          "height": 33
        }
      },
      "source": [
        "id(lista2[0])"
      ],
      "execution_count": 0,
      "outputs": [
        {
          "output_type": "execute_result",
          "data": {
            "text/plain": [
              "10914432"
            ]
          },
          "metadata": {
            "tags": []
          },
          "execution_count": 151
        }
      ]
    },
    {
      "cell_type": "code",
      "metadata": {
        "id": "h3-wu93I-pbp",
        "colab_type": "code",
        "colab": {}
      },
      "source": [
        ""
      ],
      "execution_count": 0,
      "outputs": []
    },
    {
      "cell_type": "markdown",
      "metadata": {
        "id": "gzzRzBLecu2J",
        "colab_type": "text"
      },
      "source": [
        "# AULA DO DIA 29/05/2020"
      ]
    },
    {
      "cell_type": "code",
      "metadata": {
        "id": "VCL1-5Uxc2Fg",
        "colab_type": "code",
        "outputId": "36289e3b-05ce-402e-b7a8-d99a9077f790",
        "colab": {
          "base_uri": "https://localhost:8080/",
          "height": 33
        }
      },
      "source": [
        "# MATRIZES\n",
        "# VETORES MULTIDIMENSIONAIS\n",
        "\n",
        "n = 4\n",
        "mat= []\n",
        "\n",
        "for i in range (n):\n",
        "  lista = []\n",
        "  for j in range(n):\n",
        "    lista.append(j+i)\n",
        "  mat.append(lista)\n",
        "\n",
        "print(mat)  "
      ],
      "execution_count": 0,
      "outputs": [
        {
          "output_type": "stream",
          "text": [
            "[[0, 1, 2, 3], [1, 2, 3, 4], [2, 3, 4, 5], [3, 4, 5, 6]]\n"
          ],
          "name": "stdout"
        }
      ]
    },
    {
      "cell_type": "code",
      "metadata": {
        "id": "byOsJkj4kJBL",
        "colab_type": "code",
        "outputId": "5d23f280-f167-40fa-d9e1-7a5db1d8cec4",
        "colab": {
          "base_uri": "https://localhost:8080/",
          "height": 33
        }
      },
      "source": [
        "mat[2][2]"
      ],
      "execution_count": 0,
      "outputs": [
        {
          "output_type": "execute_result",
          "data": {
            "text/plain": [
              "4"
            ]
          },
          "metadata": {
            "tags": []
          },
          "execution_count": 3
        }
      ]
    },
    {
      "cell_type": "code",
      "metadata": {
        "id": "Ylrla9UIkhom",
        "colab_type": "code",
        "colab": {}
      },
      "source": [
        "for linha in range (n):\n",
        "  "
      ],
      "execution_count": 0,
      "outputs": []
    },
    {
      "cell_type": "code",
      "metadata": {
        "id": "mIHjTNdbkt-s",
        "colab_type": "code",
        "colab": {}
      },
      "source": [
        "soma_linha = 0\n",
        "soma_total = 0 \n",
        "\n",
        "for linha in range(n):\n",
        "  for coluna in range(n):\n",
        "    \n"
      ],
      "execution_count": 0,
      "outputs": []
    },
    {
      "cell_type": "code",
      "metadata": {
        "id": "ej53r24Kk-tj",
        "colab_type": "code",
        "outputId": "db7f6a07-3d7e-411e-d680-160ff0a224a7",
        "colab": {
          "base_uri": "https://localhost:8080/",
          "height": 34
        }
      },
      "source": [
        "# A18-Q1\n",
        "\n",
        "n = 3\n",
        "mat= []\n",
        "\n",
        "for i in range (n):\n",
        "  lista = []\n",
        "  for j in range(n):\n",
        "    lista.append(-1)\n",
        "\n",
        "print(mat)  "
      ],
      "execution_count": 0,
      "outputs": [
        {
          "output_type": "stream",
          "text": [
            "[]\n"
          ],
          "name": "stdout"
        }
      ]
    },
    {
      "cell_type": "code",
      "metadata": {
        "id": "PynOvtYplapP",
        "colab_type": "code",
        "outputId": "9fdaf374-d46c-4355-e244-8d29ce4e7b13",
        "colab": {
          "base_uri": "https://localhost:8080/",
          "height": 34
        }
      },
      "source": [
        "print(lista) "
      ],
      "execution_count": 0,
      "outputs": [
        {
          "output_type": "stream",
          "text": [
            "[-1, -1, -1]\n"
          ],
          "name": "stdout"
        }
      ]
    },
    {
      "cell_type": "code",
      "metadata": {
        "id": "2PgrGY_Sl2uA",
        "colab_type": "code",
        "outputId": "52d95e7c-cbf0-4161-cda5-4208009b174e",
        "colab": {
          "base_uri": "https://localhost:8080/",
          "height": 430
        }
      },
      "source": [
        "n = 2\n",
        "mat= []\n",
        "\n",
        "for i in range (n):\n",
        "  lista = []\n",
        "  print(\"i=\",i)\n",
        "  print(\"lista=\",lista)\n",
        "  print(\"__\")\n",
        "  for j in range(n):\n",
        "    lista.append(i+j)\n",
        "    print(\"j=\",j)\n",
        "    print(\"lista.app=\",lista)\n",
        "    print(\"mat=\",mat)\n",
        "    print(\"__\")\n",
        "    mat.append(lista)\n",
        "\n",
        "\n",
        "print(\"final.mat.app=\",mat) "
      ],
      "execution_count": 0,
      "outputs": [
        {
          "output_type": "stream",
          "text": [
            "i= 0\n",
            "lista= []\n",
            "__\n",
            "j= 0\n",
            "lista.app= [0]\n",
            "mat= []\n",
            "__\n",
            "j= 1\n",
            "lista.app= [0, 1]\n",
            "mat= [[0, 1]]\n",
            "__\n",
            "i= 1\n",
            "lista= []\n",
            "__\n",
            "j= 0\n",
            "lista.app= [1]\n",
            "mat= [[0, 1], [0, 1]]\n",
            "__\n",
            "j= 1\n",
            "lista.app= [1, 2]\n",
            "mat= [[0, 1], [0, 1], [1, 2]]\n",
            "__\n",
            "final.mat.app= [[0, 1], [0, 1], [1, 2], [1, 2]]\n"
          ],
          "name": "stdout"
        }
      ]
    },
    {
      "cell_type": "code",
      "metadata": {
        "id": "rrLQlxL9nd-e",
        "colab_type": "code",
        "outputId": "de250387-4090-40e4-d7b1-27d952a70ff0",
        "colab": {
          "base_uri": "https://localhost:8080/",
          "height": 376
        }
      },
      "source": [
        "n = 2\n",
        "mat= []\n",
        "\n",
        "for i in range (n):\n",
        "  lista = []\n",
        "  print(\"i=\",i)\n",
        "  print(\"lista=\",lista)\n",
        "  print(\"__\")\n",
        "  for j in range(n):\n",
        "    lista.append(i+j)\n",
        "    print(\"j=\",j)\n",
        "    print(\"lista.app=\",lista)\n",
        "    print(\"mat=\",mat)\n",
        "   \n",
        "  mat.append(lista)\n",
        "print(\"__\")   \n",
        "print(\"final.mat.app=\",mat) "
      ],
      "execution_count": 0,
      "outputs": [
        {
          "output_type": "stream",
          "text": [
            "i= 0\n",
            "lista= []\n",
            "__\n",
            "j= 0\n",
            "lista.app= [0]\n",
            "mat= []\n",
            "j= 1\n",
            "lista.app= [0, 1]\n",
            "mat= []\n",
            "i= 1\n",
            "lista= []\n",
            "__\n",
            "j= 0\n",
            "lista.app= [1]\n",
            "mat= [[0, 1]]\n",
            "j= 1\n",
            "lista.app= [1, 2]\n",
            "mat= [[0, 1]]\n",
            "__\n",
            "final.mat.app= [[0, 1], [1, 2]]\n"
          ],
          "name": "stdout"
        }
      ]
    },
    {
      "cell_type": "code",
      "metadata": {
        "id": "McY8cKogsg93",
        "colab_type": "code",
        "outputId": "d94d1ce2-7c2f-42e1-e2b5-8c13f46e6852",
        "colab": {
          "base_uri": "https://localhost:8080/",
          "height": 358
        }
      },
      "source": [
        "# A18-Q4\n",
        "n = 2\n",
        "mat= []\n",
        "\n",
        "for i in range (n):\n",
        "  lista = []\n",
        "  print(\"i=\",i)\n",
        "  print(\"lista=\",lista)\n",
        "  print(\"__\")\n",
        "  for j in range(n):\n",
        "    if (i%2 ==0):\n",
        "      lista.append(\"X\")\n",
        "    else:\n",
        "      lista.append(\"Y\")\n",
        "\n",
        "    print(\"j=\",j)\n",
        "    print(\"lista.app=\",lista)\n",
        "    print(\"mat=\",mat)\n",
        "   \n",
        "  mat.append(lista)\n",
        "print(\"__\")  \n",
        "print(\"final.mat.app=\",mat)"
      ],
      "execution_count": 0,
      "outputs": [
        {
          "output_type": "stream",
          "text": [
            "i= 0\n",
            "lista= []\n",
            "__\n",
            "j= 0\n",
            "lista.app= ['X']\n",
            "mat= []\n",
            "j= 1\n",
            "lista.app= ['X', 'X']\n",
            "mat= []\n",
            "i= 1\n",
            "lista= []\n",
            "__\n",
            "j= 0\n",
            "lista.app= ['Y']\n",
            "mat= [['X', 'X']]\n",
            "j= 1\n",
            "lista.app= ['Y', 'Y']\n",
            "mat= [['X', 'X']]\n",
            "final.mat.app= [['X', 'X'], ['Y', 'Y']]\n"
          ],
          "name": "stdout"
        }
      ]
    },
    {
      "cell_type": "code",
      "metadata": {
        "id": "hgqIR5eLttRx",
        "colab_type": "code",
        "outputId": "924655f3-6d4a-44c9-9ab9-0b4f1209de29",
        "colab": {
          "base_uri": "https://localhost:8080/",
          "height": 720
        }
      },
      "source": [
        "# A18-Q5\n",
        "n = 3\n",
        "mat= []\n",
        "\n",
        "for i in range (n):\n",
        "  lista = []\n",
        "  print(\"i=\",i)\n",
        "  print(\"lista=\",lista)\n",
        "  print(\"__\")\n",
        "  for j in range(n):\n",
        "    if ((i+j)%2 ==0):\n",
        "      lista.append(\"X\")\n",
        "    else:\n",
        "      lista.append(\"Y\")\n",
        "\n",
        "    print(\"j=\",j)\n",
        "    print(\"lista.app=\",lista)\n",
        "    print(\"mat=\",mat)\n",
        "   \n",
        "    mat.append(lista)\n",
        "print(\"__\")  \n",
        "print(\"final.mat.app=\",mat)"
      ],
      "execution_count": 0,
      "outputs": [
        {
          "output_type": "stream",
          "text": [
            "i= 0\n",
            "lista= []\n",
            "__\n",
            "j= 0\n",
            "lista.app= ['X']\n",
            "mat= []\n",
            "j= 1\n",
            "lista.app= ['X', 'Y']\n",
            "mat= [['X', 'Y']]\n",
            "j= 2\n",
            "lista.app= ['X', 'Y', 'X']\n",
            "mat= [['X', 'Y', 'X'], ['X', 'Y', 'X']]\n",
            "i= 1\n",
            "lista= []\n",
            "__\n",
            "j= 0\n",
            "lista.app= ['Y']\n",
            "mat= [['X', 'Y', 'X'], ['X', 'Y', 'X'], ['X', 'Y', 'X']]\n",
            "j= 1\n",
            "lista.app= ['Y', 'X']\n",
            "mat= [['X', 'Y', 'X'], ['X', 'Y', 'X'], ['X', 'Y', 'X'], ['Y', 'X']]\n",
            "j= 2\n",
            "lista.app= ['Y', 'X', 'Y']\n",
            "mat= [['X', 'Y', 'X'], ['X', 'Y', 'X'], ['X', 'Y', 'X'], ['Y', 'X', 'Y'], ['Y', 'X', 'Y']]\n",
            "i= 2\n",
            "lista= []\n",
            "__\n",
            "j= 0\n",
            "lista.app= ['X']\n",
            "mat= [['X', 'Y', 'X'], ['X', 'Y', 'X'], ['X', 'Y', 'X'], ['Y', 'X', 'Y'], ['Y', 'X', 'Y'], ['Y', 'X', 'Y']]\n",
            "j= 1\n",
            "lista.app= ['X', 'Y']\n",
            "mat= [['X', 'Y', 'X'], ['X', 'Y', 'X'], ['X', 'Y', 'X'], ['Y', 'X', 'Y'], ['Y', 'X', 'Y'], ['Y', 'X', 'Y'], ['X', 'Y']]\n",
            "j= 2\n",
            "lista.app= ['X', 'Y', 'X']\n",
            "mat= [['X', 'Y', 'X'], ['X', 'Y', 'X'], ['X', 'Y', 'X'], ['Y', 'X', 'Y'], ['Y', 'X', 'Y'], ['Y', 'X', 'Y'], ['X', 'Y', 'X'], ['X', 'Y', 'X']]\n",
            "__\n",
            "final.mat.app= [['X', 'Y', 'X'], ['X', 'Y', 'X'], ['X', 'Y', 'X'], ['Y', 'X', 'Y'], ['Y', 'X', 'Y'], ['Y', 'X', 'Y'], ['X', 'Y', 'X'], ['X', 'Y', 'X'], ['X', 'Y', 'X']]\n"
          ],
          "name": "stdout"
        }
      ]
    },
    {
      "cell_type": "markdown",
      "metadata": {
        "id": "bKXJvDONiX52",
        "colab_type": "text"
      },
      "source": [
        "# AULA DO DIA 05/06/2020"
      ]
    },
    {
      "cell_type": "code",
      "metadata": {
        "id": "sPoPyazUif0x",
        "colab_type": "code",
        "colab": {}
      },
      "source": [
        "# Expreções Regulares\n",
        "\n",
        "# Expressões regulares são formas concisas de descrever um conjunto de strings que satisfazem um determinado padrão.\n",
        "# EX. Número de telefone\n",
        "\n"
      ],
      "execution_count": 0,
      "outputs": []
    },
    {
      "cell_type": "code",
      "metadata": {
        "id": "UOcz0twmmY9I",
        "colab_type": "code",
        "outputId": "ba3e0b23-57b1-43fa-c38d-6a33039cc06d",
        "colab": {
          "base_uri": "https://localhost:8080/",
          "height": 34
        }
      },
      "source": [
        "import re # função re procura o padrão no inicio da frase\n",
        "\n",
        "frase = \"Eu assisto Monty Python\"\n",
        "padrao = \"Eu\" \n",
        "\n",
        "objetoMatch = re.match( padrao, frase) \n",
        "\n",
        "if (objetoMatch):\n",
        "  print (\"Achei\")\n",
        "else:\n",
        "  print(\"Não achei\")"
      ],
      "execution_count": 0,
      "outputs": [
        {
          "output_type": "stream",
          "text": [
            "Achei\n"
          ],
          "name": "stdout"
        }
      ]
    },
    {
      "cell_type": "code",
      "metadata": {
        "id": "SymmDBHhm4P8",
        "colab_type": "code",
        "outputId": "dda41078-7587-45f3-ae4a-a84d2ee71446",
        "colab": {
          "base_uri": "https://localhost:8080/",
          "height": 34
        }
      },
      "source": [
        "frase = \"Eu assisto Monty Python\"\n",
        "padrao = \"Python\"\n",
        "\n",
        "objetoMatch = re.match( padrao, frase)\n",
        "\n",
        "if (objetoMatch):\n",
        "  print (\"Achei\")\n",
        "else:\n",
        "  print(\"Não achei\")"
      ],
      "execution_count": 0,
      "outputs": [
        {
          "output_type": "stream",
          "text": [
            "Não achei\n"
          ],
          "name": "stdout"
        }
      ]
    },
    {
      "cell_type": "code",
      "metadata": {
        "id": "UqZfOaC4m_KT",
        "colab_type": "code",
        "outputId": "2d619f37-6a31-4fa7-d252-ca9bcc7fab67",
        "colab": {
          "base_uri": "https://localhost:8080/",
          "height": 34
        }
      },
      "source": [
        "frase = \"Eu assisto Monty Python\"\n",
        "padrao = \"Teste\"\n",
        "\n",
        "objetoMatch = re.match( padrao, frase)\n",
        "\n",
        "if (objetoMatch):\n",
        "  print (\"Achei\")\n",
        "else:\n",
        "  print(\"Não achei\")"
      ],
      "execution_count": 0,
      "outputs": [
        {
          "output_type": "stream",
          "text": [
            "Não achei\n"
          ],
          "name": "stdout"
        }
      ]
    },
    {
      "cell_type": "code",
      "metadata": {
        "id": "NjjJPlfbnBsy",
        "colab_type": "code",
        "outputId": "0d09f71e-f508-402c-fbbb-827cbdbd9caf",
        "colab": {
          "base_uri": "https://localhost:8080/",
          "height": 52
        }
      },
      "source": [
        "frase = \"Eu assisto Monty Python\"\n",
        "padrao = \"Eu\"\n",
        "\n",
        "objetoMatch = re.match( padrao, frase)\n",
        "\n",
        "if (objetoMatch):\n",
        "  print (\"Achei\")\n",
        "  print(objetoMatch.span()) # método retorna a posição\n",
        "else:\n",
        "  print(\"Não achei\")"
      ],
      "execution_count": 0,
      "outputs": [
        {
          "output_type": "stream",
          "text": [
            "Achei\n",
            "(0, 2)\n"
          ],
          "name": "stdout"
        }
      ]
    },
    {
      "cell_type": "code",
      "metadata": {
        "id": "szuRdJ5fnNuh",
        "colab_type": "code",
        "outputId": "076c85e8-8215-4929-93f7-6e79f88c4aa1",
        "colab": {
          "base_uri": "https://localhost:8080/",
          "height": 52
        }
      },
      "source": [
        "frase = \"Eu assisto Monty Python\"\n",
        "padrao = \"Eu\"\n",
        "\n",
        "objetoMatch = re.match( padrao, frase)\n",
        "\n",
        "if (objetoMatch):\n",
        "  print (\"Achei\")\n",
        "  print(objetoMatch.group()) # método retorna a string padrão\n",
        "else:\n",
        "  print(\"Não achei\")"
      ],
      "execution_count": 0,
      "outputs": [
        {
          "output_type": "stream",
          "text": [
            "Achei\n",
            "Eu\n"
          ],
          "name": "stdout"
        }
      ]
    },
    {
      "cell_type": "code",
      "metadata": {
        "id": "LkFlAVddnWIa",
        "colab_type": "code",
        "colab": {}
      },
      "source": [
        "frase = \"Eu assisto Monty Python\"\n",
        "padrao = \"Eu\"\n",
        "\n",
        "objetoMatch = re.match( padrao, frase) # função busca o padrão no inicio\n",
        "\n",
        "if (objetoMatch):\n",
        "  print (\"Achei\")\n",
        "  print(objetoMatch.group()) # método retorna a string padrão\n",
        "else:\n",
        "  print(\"Não achei\")"
      ],
      "execution_count": 0,
      "outputs": []
    },
    {
      "cell_type": "code",
      "metadata": {
        "id": "JRwSv3--n4F5",
        "colab_type": "code",
        "outputId": "db03d0e2-12b0-4441-aa67-58d33296a930",
        "colab": {
          "base_uri": "https://localhost:8080/",
          "height": 86
        }
      },
      "source": [
        "frase = \"Eu assisto Monty Python\"\n",
        "padrao = \"Python\"\n",
        "\n",
        "objetoMatch = re.search( padrao, frase) # função busca o padrão em qualquer lugar\n",
        "\n",
        "if (objetoMatch):\n",
        "  print (\"Achei\")\n",
        "  print(\"Padrão =\",objetoMatch.group()) # método retorna a string padrão\n",
        "  print(\"Posição =\", objetoMatch.span()) # método retorna a posição\n",
        "else:\n",
        "  print(\"Não achei\")\n",
        "\n",
        "print(\"A frase:'\",frase, \"' tem \", len(frase), \"caracteres\")"
      ],
      "execution_count": 0,
      "outputs": [
        {
          "output_type": "stream",
          "text": [
            "Achei\n",
            "Padrão = Python\n",
            "Posição = (17, 23)\n",
            "A frase:' Eu assisto Monty Python ' tem  23 caracteres\n"
          ],
          "name": "stdout"
        }
      ]
    },
    {
      "cell_type": "code",
      "metadata": {
        "id": "GJpS8nzrr5SC",
        "colab_type": "code",
        "outputId": "38df226b-e642-40ce-f98b-3d8b18d58b36",
        "colab": {
          "base_uri": "https://localhost:8080/",
          "height": 52
        }
      },
      "source": [
        "import re \n",
        "\n",
        "dicionario = {\"NUMERO\": r'\\A\\(\\d\\d\\)\\d\\d\\d\\d\\d-\\d\\d\\d\\d'}\n",
        "frase = \"(19)95825-5654\"\n",
        "padrao = dicionario[\"NUMERO\"]\n",
        "\n",
        "objetoMatch = re.search(padrao,frase) \n",
        "\n",
        "if (objetoMatch):\n",
        "  print (\"Achei\")\n",
        "  print(\"Posição =\", objetoMatch.span()) # método retorna a posição\n",
        "else:\n",
        "  print(\"Não achei\")\n"
      ],
      "execution_count": 0,
      "outputs": [
        {
          "output_type": "stream",
          "text": [
            "Achei\n",
            "Posição = (0, 14)\n"
          ],
          "name": "stdout"
        }
      ]
    },
    {
      "cell_type": "code",
      "metadata": {
        "id": "CJ7E8T4IuOUu",
        "colab_type": "code",
        "outputId": "ccace9a6-aa69-46ca-a4fa-e05fe341bdbb",
        "colab": {
          "base_uri": "https://localhost:8080/",
          "height": 69
        }
      },
      "source": [
        "frase = \"(155\"\n",
        "padrao = \"5\" # vai achar o primeiro 5\n",
        "\n",
        "objetoMatch = re.search( padrao, frase)\n",
        "\n",
        "if (objetoMatch):\n",
        "  print (\"Achei\")\n",
        "  print(objetoMatch.group()) # método retorna a string padrão\n",
        "  print(\"Posição =\", objetoMatch.span()) # método retorna a posição\n",
        "else:\n",
        "  print(\"Não achei\")"
      ],
      "execution_count": 0,
      "outputs": [
        {
          "output_type": "stream",
          "text": [
            "Achei\n",
            "5\n",
            "Posição = (2, 3)\n"
          ],
          "name": "stdout"
        }
      ]
    },
    {
      "cell_type": "code",
      "metadata": {
        "id": "SMYy018Hvdtv",
        "colab_type": "code",
        "colab": {}
      },
      "source": [
        "frase = \"(155\"\n",
        "padrao = \"(\" # vai dar erro\n",
        "\n",
        "objetoMatch = re.search( padrao, frase)\n",
        "\n",
        "if (objetoMatch):\n",
        "  print (\"Achei\")\n",
        "  print(objetoMatch.group()) # método retorna a string padrão\n",
        "  print(\"Posição =\", objetoMatch.span()) # método retorna a posição\n",
        "else:\n",
        "  print(\"Não achei\")"
      ],
      "execution_count": 0,
      "outputs": []
    },
    {
      "cell_type": "code",
      "metadata": {
        "id": "1ZFIBpMvvhP0",
        "colab_type": "code",
        "colab": {}
      },
      "source": [
        "frase = \"(155\"\n",
        "padrao = \"(\" # vai dar erro\n",
        "\n",
        "objetoMatch = re.search( padrao, frase)\n",
        "\n",
        "if (objetoMatch):\n",
        "  print (\"Achei\")\n",
        "  print(objetoMatch.group()) # método retorna a string padrão\n",
        "  print(\"Posição =\", objetoMatch.span()) # método retorna a posição\n",
        "else:\n",
        "  print(\"Não achei\")"
      ],
      "execution_count": 0,
      "outputs": []
    },
    {
      "cell_type": "code",
      "metadata": {
        "id": "lWWZwSCHxT4q",
        "colab_type": "code",
        "outputId": "23f63e9a-5f9b-4c43-b19d-91739ca33d41",
        "colab": {
          "base_uri": "https://localhost:8080/",
          "height": 52
        }
      },
      "source": [
        "\n",
        "dicionario = {\"NUMERO\": r'\\A\\(\\d\\d\\)\\d\\d\\d\\d\\d-\\d\\d\\d\\d'} # \\A inicio da string\n",
        "frase = \"(19)95825-5654\"\n",
        "padrao = dicionario[\"NUMERO\"]\n",
        "\n",
        "objetoMatch = re.search(padrao,frase) \n",
        "\n",
        "if (objetoMatch):\n",
        "  print (\"Achei\")\n",
        "  print(\"Posição =\", objetoMatch.span()) # método retorna a posição\n",
        "else:\n",
        "  print(\"Não achei\")"
      ],
      "execution_count": 0,
      "outputs": [
        {
          "output_type": "stream",
          "text": [
            "Achei\n",
            "Posição = (0, 14)\n"
          ],
          "name": "stdout"
        }
      ]
    },
    {
      "cell_type": "code",
      "metadata": {
        "id": "sp9Q54_TxdVD",
        "colab_type": "code",
        "outputId": "99bec01e-70c5-4662-8a84-4d6190019fc3",
        "colab": {
          "base_uri": "https://localhost:8080/",
          "height": 34
        }
      },
      "source": [
        "dicionario = {\"NUMERO\": r'\\A\\(\\d\\d\\)\\d\\d\\d\\d\\d-\\d\\d\\d\\d'} # \\A nao deixa procurar\n",
        "frase = \"Eu assisto Monty Python. (19)95825-5654\"\n",
        "padrao = dicionario[\"NUMERO\"]\n",
        "\n",
        "objetoMatch = re.search(padrao,frase) \n",
        "\n",
        "if (objetoMatch):\n",
        "  print (\"Achei\")\n",
        "  print(\"Posição =\", objetoMatch.span()) # método retorna a posição\n",
        "else:\n",
        "  print(\"Não achei\")"
      ],
      "execution_count": 0,
      "outputs": [
        {
          "output_type": "stream",
          "text": [
            "Não achei\n"
          ],
          "name": "stdout"
        }
      ]
    },
    {
      "cell_type": "code",
      "metadata": {
        "id": "462jeMHBx9Fy",
        "colab_type": "code",
        "outputId": "6a7ac9ff-4f54-458c-8556-cd5e769b053c",
        "colab": {
          "base_uri": "https://localhost:8080/",
          "height": 52
        }
      },
      "source": [
        "dicionario = {\"NUMERO\": r'\\(\\d\\d\\)\\d\\d\\d\\d\\d-\\d\\d\\d\\d'}\n",
        "frase = \"Eu assisto Monty Python. (19)95825-5654\"\n",
        "padrao = dicionario[\"NUMERO\"]\n",
        "\n",
        "objetoMatch = re.search(padrao,frase) \n",
        "\n",
        "if (objetoMatch):\n",
        "  print (\"Achei\")\n",
        "  print(\"Posição =\", objetoMatch.span()) # método retorna a posição\n",
        "else:\n",
        "  print(\"Não achei\")"
      ],
      "execution_count": 0,
      "outputs": [
        {
          "output_type": "stream",
          "text": [
            "Achei\n",
            "Posição = (25, 39)\n"
          ],
          "name": "stdout"
        }
      ]
    },
    {
      "cell_type": "code",
      "metadata": {
        "id": "_EkgkwfhyfdN",
        "colab_type": "code",
        "outputId": "4e09a24a-e7e6-4145-f296-483566effd88",
        "colab": {
          "base_uri": "https://localhost:8080/",
          "height": 52
        }
      },
      "source": [
        "dicionario = {\"NUMERO\": r'\\(\\d\\d\\)\\d\\d\\d\\d\\d-\\d\\d\\d\\d'}\n",
        "frase = \"(19)95825-5654\"\n",
        "padrao = dicionario[\"NUMERO\"]\n",
        "\n",
        "objetoMatch = re.search(padrao,frase) \n",
        "\n",
        "if (objetoMatch):\n",
        "  print (\"Achei\")\n",
        "  print(\"Posição =\", objetoMatch.span()) # método retorna a posição\n",
        "else:\n",
        "  print(\"Não achei\")"
      ],
      "execution_count": 0,
      "outputs": [
        {
          "output_type": "stream",
          "text": [
            "Achei\n",
            "Posição = (0, 14)\n"
          ],
          "name": "stdout"
        }
      ]
    }
  ]
}