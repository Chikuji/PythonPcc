{
  "nbformat": 4,
  "nbformat_minor": 0,
  "metadata": {
    "colab": {
      "name": "modulo5-cisco",
      "provenance": [],
      "collapsed_sections": [],
      "authorship_tag": "ABX9TyPGuaTtZYrBBs7kRmhrY2s9",
      "include_colab_link": true
    },
    "kernelspec": {
      "name": "python3",
      "display_name": "Python 3"
    }
  },
  "cells": [
    {
      "cell_type": "markdown",
      "metadata": {
        "id": "view-in-github",
        "colab_type": "text"
      },
      "source": [
        "<a href=\"https://colab.research.google.com/github/Chikuji/PythonPcc/blob/master/modulo5_cisco.ipynb\" target=\"_parent\"><img src=\"https://colab.research.google.com/assets/colab-badge.svg\" alt=\"Open In Colab\"/></a>"
      ]
    },
    {
      "cell_type": "code",
      "metadata": {
        "id": "T8WLQJTDi3NM",
        "colab_type": "code",
        "outputId": "96d1a070-9d1f-4850-adf1-311fb8311218",
        "colab": {
          "base_uri": "https://localhost:8080/",
          "height": 34
        }
      },
      "source": [
        "import math\n",
        "print(math.sin(math.pi/2))"
      ],
      "execution_count": 0,
      "outputs": [
        {
          "output_type": "stream",
          "text": [
            "1.0\n"
          ],
          "name": "stdout"
        }
      ]
    },
    {
      "cell_type": "code",
      "metadata": {
        "id": "t-oztQeGjMjj",
        "colab_type": "code",
        "outputId": "c6484a8b-3480-4c36-d7ef-b04fcbb759ff",
        "colab": {
          "base_uri": "https://localhost:8080/",
          "height": 52
        }
      },
      "source": [
        "import math\n",
        "\n",
        "def sin(x):\n",
        "    if 2 * x == pi:\n",
        "        return 0.99999999\n",
        "    else:\n",
        "        return None\n",
        "\n",
        "pi = 3.14\n",
        "\n",
        "print(sin(pi/2))\n",
        "print(math.sin(math.pi/2))"
      ],
      "execution_count": 0,
      "outputs": [
        {
          "output_type": "stream",
          "text": [
            "0.99999999\n",
            "1.0\n"
          ],
          "name": "stdout"
        }
      ]
    },
    {
      "cell_type": "code",
      "metadata": {
        "id": "TsnF1dECjTT6",
        "colab_type": "code",
        "outputId": "1eaa271e-4214-4b2d-b515-ecf5af4e9025",
        "colab": {
          "base_uri": "https://localhost:8080/",
          "height": 52
        }
      },
      "source": [
        "from math import sin, pi\n",
        "\n",
        "print(sin(pi/2))\n",
        "\n",
        "pi = 3.14\n",
        "\n",
        "def sin(x):\n",
        "    if 2 * x == pi:\n",
        "        return 0.99999999\n",
        "    else:\n",
        "        return None\n",
        "\n",
        "print(sin(pi/2))"
      ],
      "execution_count": 0,
      "outputs": [
        {
          "output_type": "stream",
          "text": [
            "1.0\n",
            "0.99999999\n"
          ],
          "name": "stdout"
        }
      ]
    },
    {
      "cell_type": "code",
      "metadata": {
        "id": "ZOg0e-27jfIB",
        "colab_type": "code",
        "outputId": "68384cb4-79b2-49ac-ddc9-b0b0c9197fb0",
        "colab": {
          "base_uri": "https://localhost:8080/",
          "height": 34
        }
      },
      "source": [
        "import math as m\n",
        "\n",
        "print(m.sin(m.pi/2))"
      ],
      "execution_count": 0,
      "outputs": [
        {
          "output_type": "stream",
          "text": [
            "1.0\n"
          ],
          "name": "stdout"
        }
      ]
    },
    {
      "cell_type": "code",
      "metadata": {
        "id": "OIKU14agj6nA",
        "colab_type": "code",
        "outputId": "6060f72c-f387-4afc-bc5c-9e14313496af",
        "colab": {
          "base_uri": "https://localhost:8080/",
          "height": 953
        }
      },
      "source": [
        "import math\n",
        "dir(math)"
      ],
      "execution_count": 0,
      "outputs": [
        {
          "output_type": "execute_result",
          "data": {
            "text/plain": [
              "['__doc__',\n",
              " '__loader__',\n",
              " '__name__',\n",
              " '__package__',\n",
              " '__spec__',\n",
              " 'acos',\n",
              " 'acosh',\n",
              " 'asin',\n",
              " 'asinh',\n",
              " 'atan',\n",
              " 'atan2',\n",
              " 'atanh',\n",
              " 'ceil',\n",
              " 'copysign',\n",
              " 'cos',\n",
              " 'cosh',\n",
              " 'degrees',\n",
              " 'e',\n",
              " 'erf',\n",
              " 'erfc',\n",
              " 'exp',\n",
              " 'expm1',\n",
              " 'fabs',\n",
              " 'factorial',\n",
              " 'floor',\n",
              " 'fmod',\n",
              " 'frexp',\n",
              " 'fsum',\n",
              " 'gamma',\n",
              " 'gcd',\n",
              " 'hypot',\n",
              " 'inf',\n",
              " 'isclose',\n",
              " 'isfinite',\n",
              " 'isinf',\n",
              " 'isnan',\n",
              " 'ldexp',\n",
              " 'lgamma',\n",
              " 'log',\n",
              " 'log10',\n",
              " 'log1p',\n",
              " 'log2',\n",
              " 'modf',\n",
              " 'nan',\n",
              " 'pi',\n",
              " 'pow',\n",
              " 'radians',\n",
              " 'sin',\n",
              " 'sinh',\n",
              " 'sqrt',\n",
              " 'tan',\n",
              " 'tanh',\n",
              " 'tau',\n",
              " 'trunc']"
            ]
          },
          "metadata": {
            "tags": []
          },
          "execution_count": 5
        }
      ]
    },
    {
      "cell_type": "code",
      "metadata": {
        "id": "rZQfUmyzj-5J",
        "colab_type": "code",
        "outputId": "db6bf78f-85f1-4e7b-fc1b-382c88998ac8",
        "colab": {
          "base_uri": "https://localhost:8080/",
          "height": 86
        }
      },
      "source": [
        "from math import pi, radians, degrees, sin, cos, tan, asin\n",
        "\n",
        "ad = 90\n",
        "ar = radians(ad)\n",
        "ad = degrees(ar)\n",
        "\n",
        "print(ad == 90.)\n",
        "print(ar == pi / 2.)\n",
        "print(sin(ar) / cos(ar) == tan(ar))\n",
        "print(asin(sin(ar)) == ar)"
      ],
      "execution_count": 0,
      "outputs": [
        {
          "output_type": "stream",
          "text": [
            "True\n",
            "True\n",
            "True\n",
            "True\n"
          ],
          "name": "stdout"
        }
      ]
    },
    {
      "cell_type": "code",
      "metadata": {
        "id": "7G5EonUmkCSy",
        "colab_type": "code",
        "outputId": "d3c69a8a-0da8-4b16-a359-bac004a8cd7d",
        "colab": {
          "base_uri": "https://localhost:8080/",
          "height": 69
        }
      },
      "source": [
        "from math import e, exp, log\n",
        "\n",
        "print(pow(e, 1) == exp(log(e)))\n",
        "print(pow(2, 2) == exp(2 * log(2)))\n",
        "print(log(e, e) == exp(0))"
      ],
      "execution_count": 0,
      "outputs": [
        {
          "output_type": "stream",
          "text": [
            "True\n",
            "True\n",
            "True\n"
          ],
          "name": "stdout"
        }
      ]
    },
    {
      "cell_type": "code",
      "metadata": {
        "id": "XAP1pmBwkGHM",
        "colab_type": "code",
        "outputId": "3f6369d1-7070-40e9-aeba-07f8ee036ac2",
        "colab": {
          "base_uri": "https://localhost:8080/",
          "height": 121
        }
      },
      "source": [
        "from math import ceil, floor, trunc\n",
        "\n",
        "x = 1.4\n",
        "y = 2.6\n",
        "\n",
        "print(floor(x), floor(y))\n",
        "print(floor(-x), floor(-y))\n",
        "print(ceil(x), ceil(y))\n",
        "print(ceil(-x), ceil(-y))\n",
        "print(trunc(x), trunc(y))\n",
        "print(trunc(-x), trunc(-y))"
      ],
      "execution_count": 0,
      "outputs": [
        {
          "output_type": "stream",
          "text": [
            "1 2\n",
            "-2 -3\n",
            "2 3\n",
            "-1 -2\n",
            "1 2\n",
            "-1 -2\n"
          ],
          "name": "stdout"
        }
      ]
    },
    {
      "cell_type": "code",
      "metadata": {
        "id": "m4D039hSkMPI",
        "colab_type": "code",
        "outputId": "97bca3cd-aa12-4cc8-ade7-eaf53c3c1a09",
        "colab": {
          "base_uri": "https://localhost:8080/",
          "height": 104
        }
      },
      "source": [
        "from random import random\n",
        "\n",
        "for i in range(5):\n",
        "    print(random())"
      ],
      "execution_count": 0,
      "outputs": [
        {
          "output_type": "stream",
          "text": [
            "0.1806333926793836\n",
            "0.8121832471197821\n",
            "0.7156481267916098\n",
            "0.8324981544377978\n",
            "0.6504078729193903\n"
          ],
          "name": "stdout"
        }
      ]
    },
    {
      "cell_type": "code",
      "metadata": {
        "id": "ZYOv16YhkQJU",
        "colab_type": "code",
        "outputId": "911cd4d5-3224-4524-9c19-91e51cc78173",
        "colab": {
          "base_uri": "https://localhost:8080/",
          "height": 34
        }
      },
      "source": [
        "from random import randrange, randint\n",
        "\n",
        "print(randrange(1), end=' ')\n",
        "print(randrange(0, 1), end=' ')\n",
        "print(randrange(0, 1, 1), end=' ')\n",
        "print(randint(0, 1))"
      ],
      "execution_count": 0,
      "outputs": [
        {
          "output_type": "stream",
          "text": [
            "0 0 0 1\n"
          ],
          "name": "stdout"
        }
      ]
    },
    {
      "cell_type": "code",
      "metadata": {
        "id": "_9ei3e1TkUWl",
        "colab_type": "code",
        "outputId": "fd27b729-72b3-4d03-a75e-719e907c4652",
        "colab": {
          "base_uri": "https://localhost:8080/",
          "height": 34
        }
      },
      "source": [
        "from random import randint\n",
        "\n",
        "for i in range(10):\n",
        "    print(randint(1, 10), end=',')"
      ],
      "execution_count": 0,
      "outputs": [
        {
          "output_type": "stream",
          "text": [
            "9,9,6,4,3,4,7,2,1,8,"
          ],
          "name": "stdout"
        }
      ]
    },
    {
      "cell_type": "code",
      "metadata": {
        "id": "bC8KCHuQknzv",
        "colab_type": "code",
        "outputId": "cacbd6d5-140d-4bb0-e83b-9722575e61e1",
        "colab": {
          "base_uri": "https://localhost:8080/",
          "height": 69
        }
      },
      "source": [
        "from random import choice, sample\n",
        "\n",
        "lst = [1, 2, 3, 4, 5, 6, 7, 8, 9, 10]\n",
        "\n",
        "print(choice(lst))\n",
        "print(sample(lst, 5))\n",
        "print(sample(lst, 10))"
      ],
      "execution_count": 0,
      "outputs": [
        {
          "output_type": "stream",
          "text": [
            "3\n",
            "[6, 7, 5, 10, 9]\n",
            "[4, 3, 8, 2, 10, 1, 7, 9, 6, 5]\n"
          ],
          "name": "stdout"
        }
      ]
    },
    {
      "cell_type": "markdown",
      "metadata": {
        "id": "BP9NPvxNo6xJ",
        "colab_type": "text"
      },
      "source": [
        "\n",
        "\n",
        "1.   your code wants to create a file, so it invokes one of Python's functions;\n",
        "2.   Python accepts the order, rearranges it to meet local OS requirements (it's like putting the stamp \"approved\" on your request) and sends it down (this may remind you of a chain of command)\n",
        "3.   the OS checks if the request is reasonable and valid (e.g., whether the file name conforms to some syntax rules) and tries to create the file; such an operation, seemingly very simple, isn't atomic - it consists of many minor steps taken by...\n",
        "4.   the hardware, which is responsible for activating storage devices (hard disk, solid state devices, etc.) to satisfy the OS's needs.\n",
        "\n"
      ]
    },
    {
      "cell_type": "code",
      "metadata": {
        "id": "BhXwHsl7pfHR",
        "colab_type": "code",
        "outputId": "d20fc42e-9d12-46a1-f12c-1a9bdd7c4510",
        "colab": {
          "base_uri": "https://localhost:8080/",
          "height": 69
        }
      },
      "source": [
        "from platform import platform\n",
        "\n",
        "platform(aliased = False, terse = False)\n",
        "\n",
        "print(platform())\n",
        "print(platform(1))\n",
        "print(platform(0, 1))"
      ],
      "execution_count": 0,
      "outputs": [
        {
          "output_type": "stream",
          "text": [
            "Linux-4.19.104+-x86_64-with-Ubuntu-18.04-bionic\n",
            "Linux-4.19.104+-x86_64-with-Ubuntu-18.04-bionic\n",
            "Linux-4.19.104+-x86_64-with-glibc2.25\n"
          ],
          "name": "stdout"
        }
      ]
    },
    {
      "cell_type": "code",
      "metadata": {
        "id": "2Ngh8MpIprlS",
        "colab_type": "code",
        "outputId": "99ba4b42-8ace-45be-aa6b-0f294b392db5",
        "colab": {
          "base_uri": "https://localhost:8080/",
          "height": 34
        }
      },
      "source": [
        "from platform import machine\n",
        "\n",
        "print(machine())"
      ],
      "execution_count": 0,
      "outputs": [
        {
          "output_type": "stream",
          "text": [
            "x86_64\n"
          ],
          "name": "stdout"
        }
      ]
    },
    {
      "cell_type": "code",
      "metadata": {
        "id": "Vb2Uvu7DpvRD",
        "colab_type": "code",
        "outputId": "5e48629c-c2cd-4b12-8662-da29064f38f4",
        "colab": {
          "base_uri": "https://localhost:8080/",
          "height": 34
        }
      },
      "source": [
        "from platform import processor\n",
        "\n",
        "print(processor())"
      ],
      "execution_count": 0,
      "outputs": [
        {
          "output_type": "stream",
          "text": [
            "x86_64\n"
          ],
          "name": "stdout"
        }
      ]
    },
    {
      "cell_type": "code",
      "metadata": {
        "id": "AOBfu7YbpzAB",
        "colab_type": "code",
        "outputId": "a2b433f1-24f3-4f75-c85d-675d75f839b9",
        "colab": {
          "base_uri": "https://localhost:8080/",
          "height": 34
        }
      },
      "source": [
        "from platform import system\n",
        "\n",
        "print(system())"
      ],
      "execution_count": 0,
      "outputs": [
        {
          "output_type": "stream",
          "text": [
            "Linux\n"
          ],
          "name": "stdout"
        }
      ]
    },
    {
      "cell_type": "code",
      "metadata": {
        "id": "e3taBrEFp1hT",
        "colab_type": "code",
        "outputId": "35587635-175b-485a-d971-8f5abf400c6f",
        "colab": {
          "base_uri": "https://localhost:8080/",
          "height": 34
        }
      },
      "source": [
        "from platform import version\n",
        "\n",
        "print(version())"
      ],
      "execution_count": 0,
      "outputs": [
        {
          "output_type": "stream",
          "text": [
            "#1 SMP Wed Feb 19 05:26:34 PST 2020\n"
          ],
          "name": "stdout"
        }
      ]
    },
    {
      "cell_type": "code",
      "metadata": {
        "id": "3K1A5UDrqDhe",
        "colab_type": "code",
        "outputId": "5d778154-2ccc-4d25-9457-70e379cb0bbf",
        "colab": {
          "base_uri": "https://localhost:8080/",
          "height": 86
        }
      },
      "source": [
        "from platform import python_implementation, python_version_tuple\n",
        "\n",
        "print(python_implementation())\n",
        "\n",
        "for atr in python_version_tuple():\n",
        "    print(atr)"
      ],
      "execution_count": 0,
      "outputs": [
        {
          "output_type": "stream",
          "text": [
            "CPython\n",
            "3\n",
            "6\n",
            "9\n"
          ],
          "name": "stdout"
        }
      ]
    },
    {
      "cell_type": "markdown",
      "metadata": {
        "id": "gD5c01Bjqmrh",
        "colab_type": "text"
      },
      "source": [
        "\n",
        "\n",
        "*   You can read about all standard Python modules here: https://docs.python.org/3/py-modindex.html\n",
        "\n",
        "\n"
      ]
    },
    {
      "cell_type": "code",
      "metadata": {
        "id": "3Ins8V2QrEAp",
        "colab_type": "code",
        "colab": {}
      },
      "source": [
        "# 5.1.3.2 Modules and Packages\n"
      ],
      "execution_count": 0,
      "outputs": []
    }
  ]
}